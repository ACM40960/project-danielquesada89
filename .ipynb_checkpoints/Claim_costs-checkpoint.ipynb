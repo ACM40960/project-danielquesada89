{
 "cells": [
  {
   "cell_type": "markdown",
   "id": "132aabf08251168f",
   "metadata": {},
   "source": [
    "# <font color=\"#5fa8d3\"> Claim Costs"
   ]
  },
  {
   "cell_type": "markdown",
   "id": "3c033d0556f0ed41",
   "metadata": {},
   "source": [
    "## <font color=\"#62b6cb\"> Table of Content <a name=\"ToC\"></a>\n",
    "0. [Libraries Importation & Funtions Definition](#id0)<br>\n",
    "1. [Syntetic Dataset](#id1)<br>\n",
    "    1.1 [Repair Cost](#id11)<br>\n",
    "    1.2 [Labour Cost](#id12)<br>\n",
    "    1.3 [Total Cost Dataset](#id13)<br>\n",
    "2. [Cost Model](#id2)<br>"
   ]
  },
  {
   "cell_type": "markdown",
   "id": "6419e09a302e0b3f",
   "metadata": {},
   "source": [
    "## <font color=\"#62b6cb\"> Libraries Importation & Funtions Definition <a name=\"id0\"></a>"
   ]
  },
  {
   "cell_type": "code",
   "execution_count": null,
   "id": "4fcd3f9447a2b41c",
   "metadata": {},
   "outputs": [],
   "source": []
  },
  {
   "cell_type": "markdown",
   "id": "d26ed80532cd2c3b",
   "metadata": {},
   "source": [
    "## <font color=\"#62b6cb\"> Syntetic Dataset <a name=\"id1\"></a>"
   ]
  },
  {
   "cell_type": "code",
   "execution_count": null,
   "id": "2c16c5c5490567f5",
   "metadata": {},
   "outputs": [],
   "source": []
  },
  {
   "cell_type": "markdown",
   "id": "1ec24a4e0927342f",
   "metadata": {},
   "source": [
    "## <font color=\"#62b6cb\"> Libraries Importation & Funtions Definition <a name=\"id0\"></a>"
   ]
  },
  {
   "cell_type": "code",
   "execution_count": null,
   "id": "c803c930f63f8212",
   "metadata": {},
   "outputs": [],
   "source": []
  },
  {
   "cell_type": "code",
   "execution_count": null,
   "id": "912168ba7c4fb6dd",
   "metadata": {},
   "outputs": [],
   "source": []
  },
  {
   "cell_type": "code",
   "execution_count": null,
   "id": "67cc7428a11aebe5",
   "metadata": {},
   "outputs": [],
   "source": []
  }
 ],
 "metadata": {
  "kernelspec": {
   "display_name": "Python 3 (ipykernel)",
   "language": "python",
   "name": "python3"
  },
  "language_info": {
   "codemirror_mode": {
    "name": "ipython",
    "version": 3
   },
   "file_extension": ".py",
   "mimetype": "text/x-python",
   "name": "python",
   "nbconvert_exporter": "python",
   "pygments_lexer": "ipython3",
   "version": "3.10.6"
  }
 },
 "nbformat": 4,
 "nbformat_minor": 5
}
