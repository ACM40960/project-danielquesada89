{
 "cells": [
  {
   "metadata": {
    "ExecuteTime": {
     "end_time": "2024-08-14T17:43:25.645812Z",
     "start_time": "2024-08-14T17:43:22.000244Z"
    }
   },
   "cell_type": "code",
   "source": [
    "# EDA\n",
    "import json # to import jsons\n",
    "import pandas as pd # to manipulate datasets\n",
    "import numpy as np # to perform numerical operations\n",
    "import matplotlib.pyplot as plt # for plotting\n",
    "import seaborn as sns # for plotting nicer\n",
    "from scipy.stats import gamma\n",
    "from matplotlib.ticker import FuncFormatter, MultipleLocator # to format the tickers of plots\n",
    "import yaml # for importing a yaml file\n",
    "import os\n",
    "\n",
    "# modeling\n",
    "from ultralytics import YOLO\n",
    "from sklearn.model_selection import train_test_split, RepeatedKFold # for splitting between train and test and cv\n",
    "from sklearn.metrics import mean_squared_error # for evaluating the model\n",
    "from sklearn.linear_model import RidgeCV # for modeling\n",
    "from sklearn.linear_model import Ridge # for modeling\n",
    "from sklearn.utils import resample # Bootstrap to estimate p-values\n",
    "import statsmodels.api as sm\n",
    "import joblib\n",
    "from sklearn.ensemble import GradientBoostingRegressor\n",
    "import pickle"
   ],
   "id": "cf7690abc00c6748",
   "outputs": [],
   "execution_count": 1
  },
  {
   "metadata": {
    "ExecuteTime": {
     "end_time": "2024-08-14T17:43:29.156924Z",
     "start_time": "2024-08-14T17:43:28.224959Z"
    }
   },
   "cell_type": "code",
   "source": [
    "import streamlit as st\n",
    "import base64\n",
    "import os\n",
    "from ultralytics import YOLO\n",
    "import pandas as pd\n",
    "import pickle\n",
    "import shutil"
   ],
   "id": "1be50e004b0f482f",
   "outputs": [],
   "execution_count": 2
  },
  {
   "metadata": {
    "ExecuteTime": {
     "end_time": "2024-08-14T17:43:32.025074Z",
     "start_time": "2024-08-14T17:43:32.011150Z"
    }
   },
   "cell_type": "code",
   "source": [
    "# Project Colors\n",
    "color1= \"#62b6cb\"\n",
    "color2= \"#fb8500\"\n",
    "color3= \"#023047\"\n",
    "color4= \"#FFB703\""
   ],
   "id": "2da76aac1835c84",
   "outputs": [],
   "execution_count": 3
  },
  {
   "metadata": {
    "ExecuteTime": {
     "end_time": "2024-08-14T17:43:33.670663Z",
     "start_time": "2024-08-14T17:43:33.663261Z"
    }
   },
   "cell_type": "code",
   "source": "os.getcwd()",
   "id": "26eb966d4e2b6b18",
   "outputs": [
    {
     "data": {
      "text/plain": [
       "'C:\\\\Users\\\\daniq\\\\PycharmProjects\\\\project-danielteresa\\\\Old'"
      ]
     },
     "execution_count": 4,
     "metadata": {},
     "output_type": "execute_result"
    }
   ],
   "execution_count": 4
  },
  {
   "metadata": {
    "ExecuteTime": {
     "end_time": "2024-08-14T17:43:35.143231Z",
     "start_time": "2024-08-14T17:43:35.134552Z"
    }
   },
   "cell_type": "code",
   "source": [
    "current_directory = os.getcwd()\n",
    "last_folder = os.path.basename(current_directory)\n",
    "    \n",
    "if last_folder != \"project-danielteresa\":\n",
    "    while last_folder != \"project-danielteresa\":\n",
    "        parent_directory = os.path.dirname(current_directory)\n",
    "        last_folder = os.path.basename(parent_directory)\n",
    "\n",
    "        os.chdir(parent_directory)\n",
    "        print(f\"Changed directory to: {parent_directory}\")\n",
    "else:\n",
    "    print(\"Already in the project root directory.\")"
   ],
   "id": "af9c88266204e990",
   "outputs": [
    {
     "name": "stdout",
     "output_type": "stream",
     "text": [
      "Changed directory to: C:\\Users\\daniq\\PycharmProjects\\project-danielteresa\n"
     ]
    }
   ],
   "execution_count": 5
  },
  {
   "metadata": {
    "ExecuteTime": {
     "end_time": "2024-08-14T17:43:40.197469Z",
     "start_time": "2024-08-14T17:43:39.324962Z"
    }
   },
   "cell_type": "code",
   "source": [
    "# Define the file path\n",
    "file_path = os.path.join('Others/df_total.csv')\n",
    "\n",
    "# Check if the file exists\n",
    "if os.path.exists(file_path):\n",
    "    # Load the DataFrame from the CSV file\n",
    "    df_total = pd.read_csv(file_path)\n",
    "    print(f\"DataFrame loaded from {file_path}\")\n",
    "else:\n",
    "\n",
    "    # Save the DataFrame to the CSV file\n",
    "    os.makedirs(os.path.dirname(file_path), exist_ok=True)\n",
    "    df_total.to_csv(file_path, index=False)\n",
    "    print(f\"DataFrame saved to {file_path}\")\n",
    "\n",
    "# Display the DataFrame\n",
    "print(df_total.head())"
   ],
   "id": "ae97d51fa51f0ae1",
   "outputs": [
    {
     "name": "stdout",
     "output_type": "stream",
     "text": [
      "DataFrame loaded from Others/df_total.csv\n",
      "        brand    model veh_age_range workshop_quality   counties damage_type  \\\n",
      "0      Toyota  Corolla           Old             High       Cork    mis_lost   \n",
      "1      Toyota     C-HR         Newer              Low     Dublin    mis_lost   \n",
      "2      Toyota    Yaris        Middle           Medium  Tipperary    mis_lost   \n",
      "3  Volkswagen     Golf        Middle           Medium      Meath    mis_lost   \n",
      "4  Volkswagen     Polo        Middle             High      Clare    mis_lost   \n",
      "\n",
      "   repair_cost  labour_cost  total_cost  \n",
      "0       104.67       101.80      206.47  \n",
      "1       264.60        40.39      304.99  \n",
      "2        91.23        47.51      138.74  \n",
      "3       317.70        52.32      370.02  \n",
      "4       178.53        91.11      269.64  \n"
     ]
    }
   ],
   "execution_count": 6
  },
  {
   "metadata": {
    "ExecuteTime": {
     "end_time": "2024-08-14T17:43:44.016611Z",
     "start_time": "2024-08-14T17:43:44.002286Z"
    }
   },
   "cell_type": "code",
   "source": [
    "seed=123\n",
    "np.random.seed(seed)"
   ],
   "id": "8f155f8c4519e899",
   "outputs": [],
   "execution_count": 7
  },
  {
   "metadata": {
    "ExecuteTime": {
     "end_time": "2024-08-14T17:43:46.992589Z",
     "start_time": "2024-08-14T17:43:46.823664Z"
    }
   },
   "cell_type": "code",
   "source": [
    "# we shuffle it\n",
    "df_total_shuffled = df_total.sample(frac=1).reset_index(drop=True)\n",
    "df_total_shuffled = df_total_shuffled.drop(['repair_cost', 'labour_cost'], axis=1)"
   ],
   "id": "d40b5bf8cfdf6f28",
   "outputs": [],
   "execution_count": 8
  },
  {
   "metadata": {
    "ExecuteTime": {
     "end_time": "2024-08-14T17:43:49.383027Z",
     "start_time": "2024-08-14T17:43:49.133926Z"
    }
   },
   "cell_type": "code",
   "source": [
    "# groups\n",
    "group1 = [\"Kildare\", \"Dublin\"]\n",
    "group2 = [\"Meath\", \"Cork\", \"Westmeath\", \"Laois\", \"Galway\", \"Kilkenny\", \"Limerick\", \"Clare\"]\n",
    "\n",
    "# we change the groupìng\n",
    "df_total_shuffled1 = df_total_shuffled.copy()\n",
    "df_total_shuffled1['counties'] = df_total_shuffled['counties'].apply(lambda county:\n",
    "                                               \"group1\" if county in group1\n",
    "                                               else \"group2\" if county in group2\n",
    "                                               else \"group3\")\n",
    "\n",
    "#we check the results\n",
    "print(df_total_shuffled1.groupby(\"counties\").agg(\n",
    "    total=(\"counties\", 'count'),\n",
    "    av_total_cost=(\"total_cost\", \"mean\")\n",
    ").reset_index().round(0))"
   ],
   "id": "906939e5bacf0589",
   "outputs": [
    {
     "name": "stdout",
     "output_type": "stream",
     "text": [
      "  counties   total  av_total_cost\n",
      "0   group1  266938          388.0\n",
      "1   group2  264244          371.0\n",
      "2   group3  278818          354.0\n"
     ]
    }
   ],
   "execution_count": 9
  },
  {
   "metadata": {
    "ExecuteTime": {
     "end_time": "2024-08-14T17:43:52.749716Z",
     "start_time": "2024-08-14T17:43:51.443259Z"
    }
   },
   "cell_type": "code",
   "source": [
    "# Assuming df_total_shuffled1 is your DataFrame\n",
    "X = df_total_shuffled1.drop('total_cost', axis=1)\n",
    "y = df_total_shuffled1['total_cost']\n",
    "\n",
    "# Transform categorical variables to dummy variables\n",
    "cat_cols = X.select_dtypes(include=['object']).columns\n",
    "X = pd.get_dummies(X, columns=cat_cols, drop_first=True)\n",
    "\n",
    "# Remove specified variables\n",
    "#variables_to_remove = ['brand_Volkswagen', 'model_Golf', 'model_Polo', 'model_Tiguan']\n",
    "#X = X.drop(columns=variables_to_remove)\n",
    "\n",
    "# Convert bool columns to float64\n",
    "bool_cols = X.select_dtypes(include=['bool']).columns\n",
    "X[bool_cols] = X[bool_cols].astype('float64')\n",
    "\n",
    "# Add a constant term for the intercept\n",
    "X = sm.add_constant(X)\n",
    "\n",
    "# Split the data into training and test sets\n",
    "X_train, X_test, y_train, y_test = train_test_split(X, y, test_size=0.25, random_state=seed)"
   ],
   "id": "1b020baf8b2b34aa",
   "outputs": [],
   "execution_count": 10
  },
  {
   "metadata": {
    "ExecuteTime": {
     "end_time": "2024-08-14T17:44:01.752848Z",
     "start_time": "2024-08-14T17:44:01.747071Z"
    }
   },
   "cell_type": "code",
   "source": "gb_model = GradientBoostingRegressor(n_estimators=1000, learning_rate=0.01, max_depth=5, random_state=seed)",
   "id": "6354a49c8fb65d60",
   "outputs": [],
   "execution_count": 11
  },
  {
   "metadata": {
    "ExecuteTime": {
     "end_time": "2024-08-14T17:53:07.649815Z",
     "start_time": "2024-08-14T17:44:07.307515Z"
    }
   },
   "cell_type": "code",
   "source": "gb_model.fit(X_train, y_train)",
   "id": "784c8aea64e48e10",
   "outputs": [
    {
     "data": {
      "text/plain": [
       "GradientBoostingRegressor(learning_rate=0.01, max_depth=5, n_estimators=1000,\n",
       "                          random_state=123)"
      ],
      "text/html": [
       "<style>#sk-container-id-1 {\n",
       "  /* Definition of color scheme common for light and dark mode */\n",
       "  --sklearn-color-text: black;\n",
       "  --sklearn-color-line: gray;\n",
       "  /* Definition of color scheme for unfitted estimators */\n",
       "  --sklearn-color-unfitted-level-0: #fff5e6;\n",
       "  --sklearn-color-unfitted-level-1: #f6e4d2;\n",
       "  --sklearn-color-unfitted-level-2: #ffe0b3;\n",
       "  --sklearn-color-unfitted-level-3: chocolate;\n",
       "  /* Definition of color scheme for fitted estimators */\n",
       "  --sklearn-color-fitted-level-0: #f0f8ff;\n",
       "  --sklearn-color-fitted-level-1: #d4ebff;\n",
       "  --sklearn-color-fitted-level-2: #b3dbfd;\n",
       "  --sklearn-color-fitted-level-3: cornflowerblue;\n",
       "\n",
       "  /* Specific color for light theme */\n",
       "  --sklearn-color-text-on-default-background: var(--sg-text-color, var(--theme-code-foreground, var(--jp-content-font-color1, black)));\n",
       "  --sklearn-color-background: var(--sg-background-color, var(--theme-background, var(--jp-layout-color0, white)));\n",
       "  --sklearn-color-border-box: var(--sg-text-color, var(--theme-code-foreground, var(--jp-content-font-color1, black)));\n",
       "  --sklearn-color-icon: #696969;\n",
       "\n",
       "  @media (prefers-color-scheme: dark) {\n",
       "    /* Redefinition of color scheme for dark theme */\n",
       "    --sklearn-color-text-on-default-background: var(--sg-text-color, var(--theme-code-foreground, var(--jp-content-font-color1, white)));\n",
       "    --sklearn-color-background: var(--sg-background-color, var(--theme-background, var(--jp-layout-color0, #111)));\n",
       "    --sklearn-color-border-box: var(--sg-text-color, var(--theme-code-foreground, var(--jp-content-font-color1, white)));\n",
       "    --sklearn-color-icon: #878787;\n",
       "  }\n",
       "}\n",
       "\n",
       "#sk-container-id-1 {\n",
       "  color: var(--sklearn-color-text);\n",
       "}\n",
       "\n",
       "#sk-container-id-1 pre {\n",
       "  padding: 0;\n",
       "}\n",
       "\n",
       "#sk-container-id-1 input.sk-hidden--visually {\n",
       "  border: 0;\n",
       "  clip: rect(1px 1px 1px 1px);\n",
       "  clip: rect(1px, 1px, 1px, 1px);\n",
       "  height: 1px;\n",
       "  margin: -1px;\n",
       "  overflow: hidden;\n",
       "  padding: 0;\n",
       "  position: absolute;\n",
       "  width: 1px;\n",
       "}\n",
       "\n",
       "#sk-container-id-1 div.sk-dashed-wrapped {\n",
       "  border: 1px dashed var(--sklearn-color-line);\n",
       "  margin: 0 0.4em 0.5em 0.4em;\n",
       "  box-sizing: border-box;\n",
       "  padding-bottom: 0.4em;\n",
       "  background-color: var(--sklearn-color-background);\n",
       "}\n",
       "\n",
       "#sk-container-id-1 div.sk-container {\n",
       "  /* jupyter's `normalize.less` sets `[hidden] { display: none; }`\n",
       "     but bootstrap.min.css set `[hidden] { display: none !important; }`\n",
       "     so we also need the `!important` here to be able to override the\n",
       "     default hidden behavior on the sphinx rendered scikit-learn.org.\n",
       "     See: https://github.com/scikit-learn/scikit-learn/issues/21755 */\n",
       "  display: inline-block !important;\n",
       "  position: relative;\n",
       "}\n",
       "\n",
       "#sk-container-id-1 div.sk-text-repr-fallback {\n",
       "  display: none;\n",
       "}\n",
       "\n",
       "div.sk-parallel-item,\n",
       "div.sk-serial,\n",
       "div.sk-item {\n",
       "  /* draw centered vertical line to link estimators */\n",
       "  background-image: linear-gradient(var(--sklearn-color-text-on-default-background), var(--sklearn-color-text-on-default-background));\n",
       "  background-size: 2px 100%;\n",
       "  background-repeat: no-repeat;\n",
       "  background-position: center center;\n",
       "}\n",
       "\n",
       "/* Parallel-specific style estimator block */\n",
       "\n",
       "#sk-container-id-1 div.sk-parallel-item::after {\n",
       "  content: \"\";\n",
       "  width: 100%;\n",
       "  border-bottom: 2px solid var(--sklearn-color-text-on-default-background);\n",
       "  flex-grow: 1;\n",
       "}\n",
       "\n",
       "#sk-container-id-1 div.sk-parallel {\n",
       "  display: flex;\n",
       "  align-items: stretch;\n",
       "  justify-content: center;\n",
       "  background-color: var(--sklearn-color-background);\n",
       "  position: relative;\n",
       "}\n",
       "\n",
       "#sk-container-id-1 div.sk-parallel-item {\n",
       "  display: flex;\n",
       "  flex-direction: column;\n",
       "}\n",
       "\n",
       "#sk-container-id-1 div.sk-parallel-item:first-child::after {\n",
       "  align-self: flex-end;\n",
       "  width: 50%;\n",
       "}\n",
       "\n",
       "#sk-container-id-1 div.sk-parallel-item:last-child::after {\n",
       "  align-self: flex-start;\n",
       "  width: 50%;\n",
       "}\n",
       "\n",
       "#sk-container-id-1 div.sk-parallel-item:only-child::after {\n",
       "  width: 0;\n",
       "}\n",
       "\n",
       "/* Serial-specific style estimator block */\n",
       "\n",
       "#sk-container-id-1 div.sk-serial {\n",
       "  display: flex;\n",
       "  flex-direction: column;\n",
       "  align-items: center;\n",
       "  background-color: var(--sklearn-color-background);\n",
       "  padding-right: 1em;\n",
       "  padding-left: 1em;\n",
       "}\n",
       "\n",
       "\n",
       "/* Toggleable style: style used for estimator/Pipeline/ColumnTransformer box that is\n",
       "clickable and can be expanded/collapsed.\n",
       "- Pipeline and ColumnTransformer use this feature and define the default style\n",
       "- Estimators will overwrite some part of the style using the `sk-estimator` class\n",
       "*/\n",
       "\n",
       "/* Pipeline and ColumnTransformer style (default) */\n",
       "\n",
       "#sk-container-id-1 div.sk-toggleable {\n",
       "  /* Default theme specific background. It is overwritten whether we have a\n",
       "  specific estimator or a Pipeline/ColumnTransformer */\n",
       "  background-color: var(--sklearn-color-background);\n",
       "}\n",
       "\n",
       "/* Toggleable label */\n",
       "#sk-container-id-1 label.sk-toggleable__label {\n",
       "  cursor: pointer;\n",
       "  display: block;\n",
       "  width: 100%;\n",
       "  margin-bottom: 0;\n",
       "  padding: 0.5em;\n",
       "  box-sizing: border-box;\n",
       "  text-align: center;\n",
       "}\n",
       "\n",
       "#sk-container-id-1 label.sk-toggleable__label-arrow:before {\n",
       "  /* Arrow on the left of the label */\n",
       "  content: \"▸\";\n",
       "  float: left;\n",
       "  margin-right: 0.25em;\n",
       "  color: var(--sklearn-color-icon);\n",
       "}\n",
       "\n",
       "#sk-container-id-1 label.sk-toggleable__label-arrow:hover:before {\n",
       "  color: var(--sklearn-color-text);\n",
       "}\n",
       "\n",
       "/* Toggleable content - dropdown */\n",
       "\n",
       "#sk-container-id-1 div.sk-toggleable__content {\n",
       "  max-height: 0;\n",
       "  max-width: 0;\n",
       "  overflow: hidden;\n",
       "  text-align: left;\n",
       "  /* unfitted */\n",
       "  background-color: var(--sklearn-color-unfitted-level-0);\n",
       "}\n",
       "\n",
       "#sk-container-id-1 div.sk-toggleable__content.fitted {\n",
       "  /* fitted */\n",
       "  background-color: var(--sklearn-color-fitted-level-0);\n",
       "}\n",
       "\n",
       "#sk-container-id-1 div.sk-toggleable__content pre {\n",
       "  margin: 0.2em;\n",
       "  border-radius: 0.25em;\n",
       "  color: var(--sklearn-color-text);\n",
       "  /* unfitted */\n",
       "  background-color: var(--sklearn-color-unfitted-level-0);\n",
       "}\n",
       "\n",
       "#sk-container-id-1 div.sk-toggleable__content.fitted pre {\n",
       "  /* unfitted */\n",
       "  background-color: var(--sklearn-color-fitted-level-0);\n",
       "}\n",
       "\n",
       "#sk-container-id-1 input.sk-toggleable__control:checked~div.sk-toggleable__content {\n",
       "  /* Expand drop-down */\n",
       "  max-height: 200px;\n",
       "  max-width: 100%;\n",
       "  overflow: auto;\n",
       "}\n",
       "\n",
       "#sk-container-id-1 input.sk-toggleable__control:checked~label.sk-toggleable__label-arrow:before {\n",
       "  content: \"▾\";\n",
       "}\n",
       "\n",
       "/* Pipeline/ColumnTransformer-specific style */\n",
       "\n",
       "#sk-container-id-1 div.sk-label input.sk-toggleable__control:checked~label.sk-toggleable__label {\n",
       "  color: var(--sklearn-color-text);\n",
       "  background-color: var(--sklearn-color-unfitted-level-2);\n",
       "}\n",
       "\n",
       "#sk-container-id-1 div.sk-label.fitted input.sk-toggleable__control:checked~label.sk-toggleable__label {\n",
       "  background-color: var(--sklearn-color-fitted-level-2);\n",
       "}\n",
       "\n",
       "/* Estimator-specific style */\n",
       "\n",
       "/* Colorize estimator box */\n",
       "#sk-container-id-1 div.sk-estimator input.sk-toggleable__control:checked~label.sk-toggleable__label {\n",
       "  /* unfitted */\n",
       "  background-color: var(--sklearn-color-unfitted-level-2);\n",
       "}\n",
       "\n",
       "#sk-container-id-1 div.sk-estimator.fitted input.sk-toggleable__control:checked~label.sk-toggleable__label {\n",
       "  /* fitted */\n",
       "  background-color: var(--sklearn-color-fitted-level-2);\n",
       "}\n",
       "\n",
       "#sk-container-id-1 div.sk-label label.sk-toggleable__label,\n",
       "#sk-container-id-1 div.sk-label label {\n",
       "  /* The background is the default theme color */\n",
       "  color: var(--sklearn-color-text-on-default-background);\n",
       "}\n",
       "\n",
       "/* On hover, darken the color of the background */\n",
       "#sk-container-id-1 div.sk-label:hover label.sk-toggleable__label {\n",
       "  color: var(--sklearn-color-text);\n",
       "  background-color: var(--sklearn-color-unfitted-level-2);\n",
       "}\n",
       "\n",
       "/* Label box, darken color on hover, fitted */\n",
       "#sk-container-id-1 div.sk-label.fitted:hover label.sk-toggleable__label.fitted {\n",
       "  color: var(--sklearn-color-text);\n",
       "  background-color: var(--sklearn-color-fitted-level-2);\n",
       "}\n",
       "\n",
       "/* Estimator label */\n",
       "\n",
       "#sk-container-id-1 div.sk-label label {\n",
       "  font-family: monospace;\n",
       "  font-weight: bold;\n",
       "  display: inline-block;\n",
       "  line-height: 1.2em;\n",
       "}\n",
       "\n",
       "#sk-container-id-1 div.sk-label-container {\n",
       "  text-align: center;\n",
       "}\n",
       "\n",
       "/* Estimator-specific */\n",
       "#sk-container-id-1 div.sk-estimator {\n",
       "  font-family: monospace;\n",
       "  border: 1px dotted var(--sklearn-color-border-box);\n",
       "  border-radius: 0.25em;\n",
       "  box-sizing: border-box;\n",
       "  margin-bottom: 0.5em;\n",
       "  /* unfitted */\n",
       "  background-color: var(--sklearn-color-unfitted-level-0);\n",
       "}\n",
       "\n",
       "#sk-container-id-1 div.sk-estimator.fitted {\n",
       "  /* fitted */\n",
       "  background-color: var(--sklearn-color-fitted-level-0);\n",
       "}\n",
       "\n",
       "/* on hover */\n",
       "#sk-container-id-1 div.sk-estimator:hover {\n",
       "  /* unfitted */\n",
       "  background-color: var(--sklearn-color-unfitted-level-2);\n",
       "}\n",
       "\n",
       "#sk-container-id-1 div.sk-estimator.fitted:hover {\n",
       "  /* fitted */\n",
       "  background-color: var(--sklearn-color-fitted-level-2);\n",
       "}\n",
       "\n",
       "/* Specification for estimator info (e.g. \"i\" and \"?\") */\n",
       "\n",
       "/* Common style for \"i\" and \"?\" */\n",
       "\n",
       ".sk-estimator-doc-link,\n",
       "a:link.sk-estimator-doc-link,\n",
       "a:visited.sk-estimator-doc-link {\n",
       "  float: right;\n",
       "  font-size: smaller;\n",
       "  line-height: 1em;\n",
       "  font-family: monospace;\n",
       "  background-color: var(--sklearn-color-background);\n",
       "  border-radius: 1em;\n",
       "  height: 1em;\n",
       "  width: 1em;\n",
       "  text-decoration: none !important;\n",
       "  margin-left: 1ex;\n",
       "  /* unfitted */\n",
       "  border: var(--sklearn-color-unfitted-level-1) 1pt solid;\n",
       "  color: var(--sklearn-color-unfitted-level-1);\n",
       "}\n",
       "\n",
       ".sk-estimator-doc-link.fitted,\n",
       "a:link.sk-estimator-doc-link.fitted,\n",
       "a:visited.sk-estimator-doc-link.fitted {\n",
       "  /* fitted */\n",
       "  border: var(--sklearn-color-fitted-level-1) 1pt solid;\n",
       "  color: var(--sklearn-color-fitted-level-1);\n",
       "}\n",
       "\n",
       "/* On hover */\n",
       "div.sk-estimator:hover .sk-estimator-doc-link:hover,\n",
       ".sk-estimator-doc-link:hover,\n",
       "div.sk-label-container:hover .sk-estimator-doc-link:hover,\n",
       ".sk-estimator-doc-link:hover {\n",
       "  /* unfitted */\n",
       "  background-color: var(--sklearn-color-unfitted-level-3);\n",
       "  color: var(--sklearn-color-background);\n",
       "  text-decoration: none;\n",
       "}\n",
       "\n",
       "div.sk-estimator.fitted:hover .sk-estimator-doc-link.fitted:hover,\n",
       ".sk-estimator-doc-link.fitted:hover,\n",
       "div.sk-label-container:hover .sk-estimator-doc-link.fitted:hover,\n",
       ".sk-estimator-doc-link.fitted:hover {\n",
       "  /* fitted */\n",
       "  background-color: var(--sklearn-color-fitted-level-3);\n",
       "  color: var(--sklearn-color-background);\n",
       "  text-decoration: none;\n",
       "}\n",
       "\n",
       "/* Span, style for the box shown on hovering the info icon */\n",
       ".sk-estimator-doc-link span {\n",
       "  display: none;\n",
       "  z-index: 9999;\n",
       "  position: relative;\n",
       "  font-weight: normal;\n",
       "  right: .2ex;\n",
       "  padding: .5ex;\n",
       "  margin: .5ex;\n",
       "  width: min-content;\n",
       "  min-width: 20ex;\n",
       "  max-width: 50ex;\n",
       "  color: var(--sklearn-color-text);\n",
       "  box-shadow: 2pt 2pt 4pt #999;\n",
       "  /* unfitted */\n",
       "  background: var(--sklearn-color-unfitted-level-0);\n",
       "  border: .5pt solid var(--sklearn-color-unfitted-level-3);\n",
       "}\n",
       "\n",
       ".sk-estimator-doc-link.fitted span {\n",
       "  /* fitted */\n",
       "  background: var(--sklearn-color-fitted-level-0);\n",
       "  border: var(--sklearn-color-fitted-level-3);\n",
       "}\n",
       "\n",
       ".sk-estimator-doc-link:hover span {\n",
       "  display: block;\n",
       "}\n",
       "\n",
       "/* \"?\"-specific style due to the `<a>` HTML tag */\n",
       "\n",
       "#sk-container-id-1 a.estimator_doc_link {\n",
       "  float: right;\n",
       "  font-size: 1rem;\n",
       "  line-height: 1em;\n",
       "  font-family: monospace;\n",
       "  background-color: var(--sklearn-color-background);\n",
       "  border-radius: 1rem;\n",
       "  height: 1rem;\n",
       "  width: 1rem;\n",
       "  text-decoration: none;\n",
       "  /* unfitted */\n",
       "  color: var(--sklearn-color-unfitted-level-1);\n",
       "  border: var(--sklearn-color-unfitted-level-1) 1pt solid;\n",
       "}\n",
       "\n",
       "#sk-container-id-1 a.estimator_doc_link.fitted {\n",
       "  /* fitted */\n",
       "  border: var(--sklearn-color-fitted-level-1) 1pt solid;\n",
       "  color: var(--sklearn-color-fitted-level-1);\n",
       "}\n",
       "\n",
       "/* On hover */\n",
       "#sk-container-id-1 a.estimator_doc_link:hover {\n",
       "  /* unfitted */\n",
       "  background-color: var(--sklearn-color-unfitted-level-3);\n",
       "  color: var(--sklearn-color-background);\n",
       "  text-decoration: none;\n",
       "}\n",
       "\n",
       "#sk-container-id-1 a.estimator_doc_link.fitted:hover {\n",
       "  /* fitted */\n",
       "  background-color: var(--sklearn-color-fitted-level-3);\n",
       "}\n",
       "</style><div id=\"sk-container-id-1\" class=\"sk-top-container\"><div class=\"sk-text-repr-fallback\"><pre>GradientBoostingRegressor(learning_rate=0.01, max_depth=5, n_estimators=1000,\n",
       "                          random_state=123)</pre><b>In a Jupyter environment, please rerun this cell to show the HTML representation or trust the notebook. <br />On GitHub, the HTML representation is unable to render, please try loading this page with nbviewer.org.</b></div><div class=\"sk-container\" hidden><div class=\"sk-item\"><div class=\"sk-estimator fitted sk-toggleable\"><input class=\"sk-toggleable__control sk-hidden--visually\" id=\"sk-estimator-id-1\" type=\"checkbox\" checked><label for=\"sk-estimator-id-1\" class=\"sk-toggleable__label fitted sk-toggleable__label-arrow fitted\">&nbsp;&nbsp;GradientBoostingRegressor<a class=\"sk-estimator-doc-link fitted\" rel=\"noreferrer\" target=\"_blank\" href=\"https://scikit-learn.org/1.5/modules/generated/sklearn.ensemble.GradientBoostingRegressor.html\">?<span>Documentation for GradientBoostingRegressor</span></a><span class=\"sk-estimator-doc-link fitted\">i<span>Fitted</span></span></label><div class=\"sk-toggleable__content fitted\"><pre>GradientBoostingRegressor(learning_rate=0.01, max_depth=5, n_estimators=1000,\n",
       "                          random_state=123)</pre></div> </div></div></div></div>"
      ]
     },
     "execution_count": 12,
     "metadata": {},
     "output_type": "execute_result"
    }
   ],
   "execution_count": 12
  },
  {
   "metadata": {
    "ExecuteTime": {
     "end_time": "2024-08-14T17:53:33.363530Z",
     "start_time": "2024-08-14T17:53:33.321932Z"
    }
   },
   "cell_type": "code",
   "source": [
    "# Save the trained model to a file\n",
    "with open('./Models/cost_model.pkl', 'wb') as file:\n",
    "    pickle.dump(gb_model, file)"
   ],
   "id": "53bda821fa006d40",
   "outputs": [],
   "execution_count": 13
  },
  {
   "metadata": {
    "ExecuteTime": {
     "end_time": "2024-08-14T14:42:51.976069Z",
     "start_time": "2024-08-14T14:42:51.595798Z"
    }
   },
   "cell_type": "code",
   "source": [
    "# Load the model from the file\n",
    "with open('./Models/cost_model.pkl', 'rb') as file:\n",
    "    cost_model_loaded = pickle.load(file)\n",
    "\n",
    "# Now you can use gb_model to make predictions\n",
    "predictions = cost_model_loaded.predict(X_test)"
   ],
   "id": "88bac9214e265cdc",
   "outputs": [],
   "execution_count": 60
  },
  {
   "metadata": {
    "ExecuteTime": {
     "end_time": "2024-08-14T14:42:54.345839Z",
     "start_time": "2024-08-14T14:42:54.330178Z"
    }
   },
   "cell_type": "code",
   "source": "predictions",
   "id": "5efca611256ffadb",
   "outputs": [
    {
     "data": {
      "text/plain": [
       "array([     403.04,      283.53,      729.15, ...,      673.17,      399.76,      399.76])"
      ]
     },
     "execution_count": 61,
     "metadata": {},
     "output_type": "execute_result"
    }
   ],
   "execution_count": 61
  },
  {
   "metadata": {
    "ExecuteTime": {
     "end_time": "2024-08-14T13:50:33.242693Z",
     "start_time": "2024-08-14T13:30:48.578141Z"
    }
   },
   "cell_type": "code",
   "source": [
    "# Path to save/load the model\n",
    "model_path = \"./Models/cost_model.pkl\"\n",
    "\n",
    "# Fit the GLM with Gamma family and log link if it is not saved\n",
    "if os.path.exists(model_path):\n",
    "    print(\"Loading existing model...\")\n",
    "    gb_model = joblib.load(model_path)\n",
    "else:\n",
    "    print(\"Training new model...\")\n",
    "    try:\n",
    "        gb_model = GradientBoostingRegressor(n_estimators=1000, learning_rate=0.01, max_depth=5, random_state=seed)\n",
    "        gb_model.fit(X_train, y_train)\n",
    "        # Save the model\n",
    "        joblib.dump(gb_model, model_path)\n",
    "        print(f\"Model saved to {model_path}\")\n",
    "    except Exception as e:\n",
    "        print(\"Error fitting the model:\", e)\n",
    "        raise e"
   ],
   "id": "92b10d44ebe03eb2",
   "outputs": [
    {
     "name": "stdout",
     "output_type": "stream",
     "text": [
      "Training new model...\n",
      "Model saved to ./Models/cost_model.pkl\n"
     ]
    }
   ],
   "execution_count": 9
  },
  {
   "metadata": {
    "ExecuteTime": {
     "end_time": "2024-08-14T17:54:24.282695Z",
     "start_time": "2024-08-14T17:54:06.297914Z"
    }
   },
   "cell_type": "code",
   "source": [
    "# Predict on training and test sets\n",
    "y_train_pred_gb = gb_model.predict(X_train)\n",
    "y_test_pred_gb = gb_model.predict(X_test)\n",
    "\n",
    "# Evaluate the model\n",
    "train_mse_gb = mean_squared_error(y_train, y_train_pred_gb)\n",
    "test_mse_gb = mean_squared_error(y_test, y_test_pred_gb)\n",
    "\n",
    "print(f'Training MSE (Gradient Boosting): {train_mse_gb}')\n",
    "print(f'Test MSE (Gradient Boosting): {test_mse_gb}')"
   ],
   "id": "2ff344eed22f563f",
   "outputs": [
    {
     "name": "stdout",
     "output_type": "stream",
     "text": [
      "Training MSE (Gradient Boosting): 22127.09234622516\n",
      "Test MSE (Gradient Boosting): 22185.824136744897\n"
     ]
    }
   ],
   "execution_count": 14
  },
  {
   "metadata": {
    "ExecuteTime": {
     "end_time": "2024-08-14T17:54:41.450692Z",
     "start_time": "2024-08-14T17:54:41.351929Z"
    }
   },
   "cell_type": "code",
   "source": [
    "# Create a DataFrame with the test data and predictions\n",
    "test_df = pd.DataFrame(X_test, columns=X.columns)\n",
    "test_df['total_cost'] = y_test\n",
    "test_df['total_cost_pred'] = y_test_pred_gb\n",
    "\n",
    "# Sort the DataFrame by the actual response variable\n",
    "test_df = test_df.sort_values(by='total_cost').reset_index(drop=True)\n",
    "\n",
    "# Partition the DataFrame into 10 folds\n",
    "test_df['fold'] = pd.qcut(test_df.index, 10, labels=False)\n",
    "\n",
    "# Calculate the observed and predicted mean response variable for each fold\n",
    "summary_table = test_df.groupby('fold').agg(\n",
    "    total=('total_cost', 'size'),\n",
    "    total_cost_mean=('total_cost', 'mean'),\n",
    "    total_cost_pred_mean=('total_cost_pred', 'mean')\n",
    ").reset_index()"
   ],
   "id": "8debb455b722afe0",
   "outputs": [],
   "execution_count": 15
  },
  {
   "metadata": {
    "ExecuteTime": {
     "end_time": "2024-08-14T17:54:43.966614Z",
     "start_time": "2024-08-14T17:54:42.790493Z"
    }
   },
   "cell_type": "code",
   "source": [
    "# VERSION 1\n",
    "\n",
    "# Assuming your DataFrame and necessary data are already prepared as in your provided code\n",
    "color1 = '#023047'  # Dark blue for the axes and observed line\n",
    "color2 = '#FFB703'  # Yellowish for the predicted line\n",
    "\n",
    "# Plot the results\n",
    "fig, ax1 = plt.subplots(figsize=(9, 6))\n",
    "\n",
    "# Bar plot for the total count in each fold with an outline\n",
    "ax1.bar(summary_table['fold'], summary_table['total'], color='#62B6CB', alpha=0.7, edgecolor=color1, linewidth=2)\n",
    "ax1.set_xlabel('Fold', fontname='Arial', fontsize=18, fontweight='bold', color=color1)\n",
    "ax1.set_ylabel('Nº of Claims', fontname='Arial', fontsize=18, fontweight='bold', color=color1)\n",
    "ax1.set_ylim(0, 40000)  # Set the y-axis limits\n",
    "ax1.tick_params(axis='y', labelcolor=color1)\n",
    "ax1.tick_params(axis='x', labelcolor=color1)\n",
    "\n",
    "# Set x and y ticks to the specified font properties\n",
    "ax1.tick_params(axis='x', labelsize=14, labelcolor=color1, width=2)\n",
    "ax1.tick_params(axis='y', labelsize=14, labelcolor=color1, width=2)\n",
    "\n",
    "# Format the y-axis labels with commas as thousands separators\n",
    "ax1.yaxis.set_major_formatter(plt.FuncFormatter(lambda x, loc: \"{:,}\".format(int(x))))\n",
    "\n",
    "# Line plot for the observed mean response variable\n",
    "ax2 = ax1.twinx()\n",
    "ax2.plot(summary_table['fold'], summary_table['total_cost_mean'], color=color1, marker='o', label='Observed Mean')\n",
    "ax2.set_ylabel(' ', fontname='Arial', fontsize=18, fontweight='bold', color=color1)\n",
    "ax2.tick_params(axis='y', labelcolor=color1)\n",
    "\n",
    "# Annotate the observed mean response variable\n",
    "for i in range(len(summary_table)):\n",
    "    ax2.text(summary_table['fold'][i], summary_table['total_cost_mean'][i], \n",
    "             f\"{summary_table['total_cost_mean'][i]:.0f}\", color=color1, ha='center', va='bottom', \n",
    "             fontname='Arial', fontsize=14, fontweight='bold')\n",
    "\n",
    "# Line plot for the predicted mean response variable\n",
    "ax2.plot(summary_table['fold'], summary_table['total_cost_pred_mean'], color=color2, marker='o', label='Predicted Mean')\n",
    "\n",
    "# Annotate the predicted mean response variable\n",
    "for i in range(len(summary_table)):\n",
    "    ax2.text(summary_table['fold'][i], summary_table['total_cost_pred_mean'][i], \n",
    "             f\"{summary_table['total_cost_pred_mean'][i]:.0f}\", color=color2, ha='center', va='top', \n",
    "             fontname='Arial', fontsize=14, fontweight='bold')\n",
    "\n",
    "# Remove the grid lines\n",
    "ax1.grid(False)\n",
    "ax2.grid(False)\n",
    "\n",
    "# Remove top spine and customize the others\n",
    "sns.despine(ax=ax1, top=True, right=False, left=False, bottom=False)\n",
    "ax1.spines['bottom'].set_color(color1)\n",
    "ax1.spines['left'].set_color(color1)\n",
    "ax2.spines['right'].set_color(color1)\n",
    "\n",
    "# Set the color and thickness of the spines\n",
    "ax1.spines['bottom'].set_linewidth(2)\n",
    "ax1.spines['left'].set_linewidth(2)\n",
    "ax2.spines['right'].set_linewidth(2)\n",
    "\n",
    "# Set background to white\n",
    "fig.patch.set_facecolor('white')\n",
    "ax1.set_facecolor('white')\n",
    "ax2.set_facecolor('white')\n",
    "\n",
    "# Remove the legend\n",
    "ax2.get_legend().remove()\n",
    "\n",
    "# Remove the title and show the plot\n",
    "fig.tight_layout()\n",
    "plt.show()"
   ],
   "id": "9ef48c2711632e5c",
   "outputs": [
    {
     "ename": "AttributeError",
     "evalue": "'NoneType' object has no attribute 'remove'",
     "output_type": "error",
     "traceback": [
      "\u001B[1;31m---------------------------------------------------------------------------\u001B[0m",
      "\u001B[1;31mAttributeError\u001B[0m                            Traceback (most recent call last)",
      "Cell \u001B[1;32mIn[16], line 67\u001B[0m\n\u001B[0;32m     64\u001B[0m ax2\u001B[38;5;241m.\u001B[39mset_facecolor(\u001B[38;5;124m'\u001B[39m\u001B[38;5;124mwhite\u001B[39m\u001B[38;5;124m'\u001B[39m)\n\u001B[0;32m     66\u001B[0m \u001B[38;5;66;03m# Remove the legend\u001B[39;00m\n\u001B[1;32m---> 67\u001B[0m \u001B[43max2\u001B[49m\u001B[38;5;241;43m.\u001B[39;49m\u001B[43mget_legend\u001B[49m\u001B[43m(\u001B[49m\u001B[43m)\u001B[49m\u001B[38;5;241;43m.\u001B[39;49m\u001B[43mremove\u001B[49m()\n\u001B[0;32m     69\u001B[0m \u001B[38;5;66;03m# Remove the title and show the plot\u001B[39;00m\n\u001B[0;32m     70\u001B[0m fig\u001B[38;5;241m.\u001B[39mtight_layout()\n",
      "\u001B[1;31mAttributeError\u001B[0m: 'NoneType' object has no attribute 'remove'"
     ]
    },
    {
     "data": {
      "text/plain": [
       "<Figure size 900x600 with 2 Axes>"
      ],
      "image/png": "[encoded data removed]"
     },
     "metadata": {},
     "output_type": "display_data"
    }
   ],
   "execution_count": 16
  },
  {
   "metadata": {},
   "cell_type": "code",
   "outputs": [],
   "execution_count": null,
   "source": "",
   "id": "440c5c4391997588"
  },
  {
   "metadata": {
    "ExecuteTime": {
     "end_time": "2024-08-14T14:37:07.920658Z",
     "start_time": "2024-08-14T14:37:07.826131Z"
    }
   },
   "cell_type": "code",
   "source": [
    "# Create a DataFrame with the test data and predictions\n",
    "test_df = pd.DataFrame(X_test, columns=X.columns)\n",
    "test_df['total_cost'] = y_test\n",
    "test_df['total_cost_pred'] = y_test_pred_gb\n",
    "\n",
    "# Sort the DataFrame by the actual response variable\n",
    "test_df = test_df.sort_values(by='total_cost').reset_index(drop=True)\n",
    "\n",
    "# Partition the DataFrame into 30 folds\n",
    "test_df['fold'] = pd.qcut(test_df.index, 30, labels=False)\n",
    "\n",
    "# Calculate the observed and predicted mean response variable for each fold\n",
    "summary_table = test_df.groupby('fold').agg(\n",
    "    total=('total_cost', 'size'),\n",
    "    total_cost_mean=('total_cost', 'mean'),\n",
    "    total_cost_pred_mean=('total_cost_pred', 'mean')\n",
    ").reset_index()\n"
   ],
   "id": "43b65b9ddf7907",
   "outputs": [],
   "execution_count": 43
  },
  {
   "metadata": {
    "ExecuteTime": {
     "end_time": "2024-08-14T14:37:10.581841Z",
     "start_time": "2024-08-14T14:37:10.201083Z"
    }
   },
   "cell_type": "code",
   "source": [
    "# VERSION 2\n",
    "\n",
    "# Assuming your DataFrame and necessary data are already prepared as in your provided code\n",
    "color1 = '#023047'  # Dark blue for the axes and observed line\n",
    "color2 = '#FFB703'  # Yellowish for the predicted line\n",
    "\n",
    "# Plot the results\n",
    "fig, ax1 = plt.subplots(figsize=(9, 6))\n",
    "\n",
    "# Bar plot for the total count in each fold with an outline\n",
    "ax1.bar(summary_table['fold'], summary_table['total'], color='#62B6CB', alpha=0.7, edgecolor=color1, linewidth=2)\n",
    "ax1.set_xlabel('Fold', fontname='Arial', fontsize=18, fontweight='bold', color=color1)\n",
    "ax1.set_ylabel('Nº of Claims', fontname='Arial', fontsize=18, fontweight='bold', color=color1)\n",
    "ax1.set_ylim(0, 40000)  # Set the y-axis limits\n",
    "ax1.tick_params(axis='y', labelcolor=color1)\n",
    "ax1.tick_params(axis='x', labelcolor=color1)\n",
    "\n",
    "# Set x and y ticks to the specified font properties\n",
    "ax1.tick_params(axis='x', labelsize=14, labelcolor=color1, width=2)\n",
    "ax1.tick_params(axis='y', labelsize=14, labelcolor=color1, width=2)\n",
    "\n",
    "# Format the y-axis labels with commas as thousands separators\n",
    "ax1.yaxis.set_major_formatter(plt.FuncFormatter(lambda x, loc: \"{:,}\".format(int(x))))\n",
    "\n",
    "# Line plot for the observed mean response variable\n",
    "ax2 = ax1.twinx()\n",
    "ax2.plot(summary_table['fold'], summary_table['total_cost_mean'], color=color1, marker='o', label='Observed Mean')\n",
    "ax2.set_ylabel(' ', fontname='Arial', fontsize=18, fontweight='bold', color=color1)\n",
    "ax2.tick_params(axis='y', labelcolor=color1)\n",
    "\n",
    "# Annotate the observed mean response variable\n",
    "for i in range(len(summary_table)):\n",
    "    ax2.text(summary_table['fold'][i], summary_table['total_cost_mean'][i], \n",
    "             f\"{summary_table['total_cost_mean'][i]:.0f}\", color=color1, ha='center', va='bottom', \n",
    "             fontname='Arial', fontsize=14, fontweight='bold')\n",
    "\n",
    "# Line plot for the predicted mean response variable\n",
    "ax2.plot(summary_table['fold'], summary_table['total_cost_pred_mean'], color=color2, marker='o', label='Predicted Mean')\n",
    "\n",
    "# Annotate the predicted mean response variable\n",
    "for i in range(len(summary_table)):\n",
    "    ax2.text(summary_table['fold'][i], summary_table['total_cost_pred_mean'][i], \n",
    "             f\"{summary_table['total_cost_pred_mean'][i]:.0f}\", color=color2, ha='center', va='top', \n",
    "             fontname='Arial', fontsize=14, fontweight='bold')\n",
    "\n",
    "# Remove the grid lines\n",
    "ax1.grid(False)\n",
    "ax2.grid(False)\n",
    "\n",
    "# Remove top spine and customize the others\n",
    "sns.despine(ax=ax1, top=True, right=False, left=False, bottom=False)\n",
    "ax1.spines['bottom'].set_color(color1)\n",
    "ax1.spines['left'].set_color(color1)\n",
    "ax2.spines['right'].set_color(color1)\n",
    "\n",
    "# Set the color and thickness of the spines\n",
    "ax1.spines['bottom'].set_linewidth(2)\n",
    "ax1.spines['left'].set_linewidth(2)\n",
    "ax2.spines['right'].set_linewidth(2)\n",
    "\n",
    "# Set background to white\n",
    "fig.patch.set_facecolor('white')\n",
    "ax1.set_facecolor('white')\n",
    "ax2.set_facecolor('white')\n",
    "\n",
    "# Remove the legend\n",
    "ax2.get_legend().remove()\n",
    "\n",
    "# Remove the title and show the plot\n",
    "fig.tight_layout()\n",
    "plt.show()"
   ],
   "id": "aa998a1585e94ce0",
   "outputs": [
    {
     "ename": "AttributeError",
     "evalue": "'NoneType' object has no attribute 'remove'",
     "output_type": "error",
     "traceback": [
      "\u001B[1;31m---------------------------------------------------------------------------\u001B[0m",
      "\u001B[1;31mAttributeError\u001B[0m                            Traceback (most recent call last)",
      "Cell \u001B[1;32mIn[44], line 67\u001B[0m\n\u001B[0;32m     64\u001B[0m ax2\u001B[38;5;241m.\u001B[39mset_facecolor(\u001B[38;5;124m'\u001B[39m\u001B[38;5;124mwhite\u001B[39m\u001B[38;5;124m'\u001B[39m)\n\u001B[0;32m     66\u001B[0m \u001B[38;5;66;03m# Remove the legend\u001B[39;00m\n\u001B[1;32m---> 67\u001B[0m \u001B[43max2\u001B[49m\u001B[38;5;241;43m.\u001B[39;49m\u001B[43mget_legend\u001B[49m\u001B[43m(\u001B[49m\u001B[43m)\u001B[49m\u001B[38;5;241;43m.\u001B[39;49m\u001B[43mremove\u001B[49m()\n\u001B[0;32m     69\u001B[0m \u001B[38;5;66;03m# Remove the title and show the plot\u001B[39;00m\n\u001B[0;32m     70\u001B[0m fig\u001B[38;5;241m.\u001B[39mtight_layout()\n",
      "\u001B[1;31mAttributeError\u001B[0m: 'NoneType' object has no attribute 'remove'"
     ]
    },
    {
     "data": {
      "text/plain": [
       "<Figure size 900x600 with 2 Axes>"
      ],
      "image/png": "[encoded data removed]"
     },
     "metadata": {},
     "output_type": "display_data"
    }
   ],
   "execution_count": 44
  },
  {
   "metadata": {
    "ExecuteTime": {
     "end_time": "2024-08-14T14:03:00.273995Z",
     "start_time": "2024-08-14T14:03:00.258256Z"
    }
   },
   "cell_type": "code",
   "source": "os.getcwd()",
   "id": "4b877e59a3912230",
   "outputs": [
    {
     "data": {
      "text/plain": [
       "'C:\\\\Users\\\\daniq\\\\PycharmProjects\\\\project-danielteresa-API'"
      ]
     },
     "execution_count": 10,
     "metadata": {},
     "output_type": "execute_result"
    }
   ],
   "execution_count": 10
  },
  {
   "metadata": {
    "ExecuteTime": {
     "end_time": "2024-08-14T14:43:31.393071Z",
     "start_time": "2024-08-14T14:43:28.931299Z"
    }
   },
   "cell_type": "code",
   "source": [
    "#  charge models and obtain the prediciton of the photo\n",
    "path_upload = 'C:\\\\Users\\\\daniq\\\\PycharmProjects\\\\project-danielteresa-API\\\\API\\\\uploads'\n",
    "picture_name=os.listdir(path_upload)[0]\n",
    "full_path= os.path.join(path_upload,picture_name)\n",
    "# we import model\n",
    "yolo_model = YOLO(\"./Models/yolo_model.pt\")\n",
    "\n",
    "\n",
    "# we predict the image\n",
    "results = yolo_model.predict(full_path,conf=0.25)\n",
    "\n",
    "# we save the image\n",
    "path_output = os.path.join(path_upload, 'pred_'+picture_name)\n",
    "results[0].save(filename=path_output)"
   ],
   "id": "a490b4c0de3a208a",
   "outputs": [
    {
     "name": "stdout",
     "output_type": "stream",
     "text": [
      "\n",
      "image 1/1 C:\\Users\\daniq\\PycharmProjects\\project-danielteresa-API\\API\\uploads\\mix2.jpg: 384x640 1 met_scratch, 1 mis_punct, 282.1ms\n",
      "Speed: 0.0ms preprocess, 282.1ms inference, 0.0ms postprocess per image at shape (1, 3, 384, 640)\n"
     ]
    },
    {
     "data": {
      "text/plain": [
       "'C:\\\\Users\\\\daniq\\\\PycharmProjects\\\\project-danielteresa-API\\\\API\\\\uploads\\\\pred_mix2.jpg'"
      ]
     },
     "execution_count": 66,
     "metadata": {},
     "output_type": "execute_result"
    }
   ],
   "execution_count": 66
  },
  {
   "metadata": {
    "ExecuteTime": {
     "end_time": "2024-08-14T14:43:33.984102Z",
     "start_time": "2024-08-14T14:43:33.949541Z"
    }
   },
   "cell_type": "code",
   "source": [
    "buttom_workshop='Sandyford McCann Motor'\n",
    "\n",
    "\n",
    "# Display the selected workshop\n",
    "if buttom_workshop != \"Select among available workshops\":\n",
    "    # workshop selection\n",
    "    workshops={\n",
    "    'Smithfield Autotech':'Low',\n",
    "    'Sandyford McCann Motor':'Medium',\n",
    "    'Mobile Mechanic':'High'\n",
    "    }\n",
    "\n",
    "    selected_workshop_qual = workshops[buttom_workshop]\n",
    "\n",
    "    # we predict the cost of the claims\n",
    "    case = pd.DataFrame({\n",
    "    'const': [1],\n",
    "    'brand_Volkswagen': [0],\n",
    "    'model_Corolla': [0],\n",
    "    'model_Golf': [0],\n",
    "    'model_Polo': [0],\n",
    "    'model_Tiguan': [0],\n",
    "    'model_Yaris': [1],\n",
    "    'veh_age_range_Newer': [1],\n",
    "    'veh_age_range_Old': [0],\n",
    "    'workshop_quality_Low': [0],\n",
    "    'workshop_quality_Medium': [0],\n",
    "    'counties_group2': [0],\n",
    "    'counties_group3': [0],\n",
    "    'damage_type_met_dent_medium': [0],\n",
    "    'damage_type_met_dent_minor': [0],\n",
    "    'damage_type_met_dent_severe': [0],\n",
    "    'damage_type_met_tear': [0],\n",
    "    'damage_type_mis_lamp': [0],\n",
    "    'damage_type_mis_lost': [0],\n",
    "    'damage_type_mis_punct': [0]\n",
    "    })\n",
    "\n",
    "    # Adjust case DataFrame based on selected_workshop_qual\n",
    "    if selected_workshop_qual == 'High':\n",
    "        case['workshop_quality_Low'] = [0]\n",
    "        case['workshop_quality_Medium'] = [0]\n",
    "    elif selected_workshop_qual == 'Medium':\n",
    "        case['workshop_quality_Low'] = [0]\n",
    "        case['workshop_quality_Medium'] = [1]\n",
    "    elif selected_workshop_qual == 'Low':\n",
    "        case['workshop_quality_Low'] = [1]\n",
    "        case['workshop_quality_Medium'] = [0]\n",
    "\n",
    "    damage_types = [results[0].names[int(cls)] for cls in results[0].boxes.cpu().numpy().cls]\n",
    "\n",
    "    # Function to generate the complete_case DataFrame\n",
    "    def generate_complete_case(case, damage_types):\n",
    "        complete_case = pd.DataFrame()\n",
    "\n",
    "        for damage_type in damage_types:\n",
    "            temp_case = case.copy()\n",
    "\n",
    "            # Set the corresponding damage type to 1\n",
    "            damage_column = f'damage_type_{damage_type}'\n",
    "            if damage_column in temp_case.columns:\n",
    "                temp_case[damage_column] = [1]\n",
    "\n",
    "            # Append this row to the complete_case DataFrame\n",
    "            complete_case = pd.concat([complete_case, temp_case], ignore_index=True)\n",
    "\n",
    "        return complete_case\n",
    "\n",
    "\n",
    "    # Generate the complete_case DataFrame\n",
    "    complete_case = generate_complete_case(case, damage_types)"
   ],
   "id": "8fc4ef86278191a4",
   "outputs": [],
   "execution_count": 67
  },
  {
   "metadata": {
    "ExecuteTime": {
     "end_time": "2024-08-14T14:04:23.456727Z",
     "start_time": "2024-08-14T14:04:23.441103Z"
    }
   },
   "cell_type": "code",
   "source": "complete_case",
   "id": "6b3d4a79599a8de",
   "outputs": [
    {
     "data": {
      "text/plain": [
       "   const  brand_Volkswagen  model_Corolla  model_Golf  model_Polo  \\\n",
       "0      1                 0              0           0           0   \n",
       "1      1                 0              0           0           0   \n",
       "\n",
       "   model_Tiguan  model_Yaris  veh_age_range_Newer  veh_age_range_Old  \\\n",
       "0             0            1                    1                  0   \n",
       "1             0            1                    1                  0   \n",
       "\n",
       "   workshop_quality_Low  workshop_quality_Medium  counties_group2  \\\n",
       "0                     0                        1                0   \n",
       "1                     0                        1                0   \n",
       "\n",
       "   counties_group3  damage_type_met_dent_medium  damage_type_met_dent_minor  \\\n",
       "0                0                            0                           0   \n",
       "1                0                            0                           0   \n",
       "\n",
       "   damage_type_met_dent_severe  damage_type_met_tear  damage_type_mis_lamp  \\\n",
       "0                            0                     0                     0   \n",
       "1                            0                     0                     0   \n",
       "\n",
       "   damage_type_mis_lost  damage_type_mis_punct  \n",
       "0                     0                      0  \n",
       "1                     0                      1  "
      ],
      "text/html": [
       "<div>\n",
       "<style scoped>\n",
       "    .dataframe tbody tr th:only-of-type {\n",
       "        vertical-align: middle;\n",
       "    }\n",
       "\n",
       "    .dataframe tbody tr th {\n",
       "        vertical-align: top;\n",
       "    }\n",
       "\n",
       "    .dataframe thead th {\n",
       "        text-align: right;\n",
       "    }\n",
       "</style>\n",
       "<table border=\"1\" class=\"dataframe\">\n",
       "  <thead>\n",
       "    <tr style=\"text-align: right;\">\n",
       "      <th></th>\n",
       "      <th>const</th>\n",
       "      <th>brand_Volkswagen</th>\n",
       "      <th>model_Corolla</th>\n",
       "      <th>model_Golf</th>\n",
       "      <th>model_Polo</th>\n",
       "      <th>model_Tiguan</th>\n",
       "      <th>model_Yaris</th>\n",
       "      <th>veh_age_range_Newer</th>\n",
       "      <th>veh_age_range_Old</th>\n",
       "      <th>workshop_quality_Low</th>\n",
       "      <th>workshop_quality_Medium</th>\n",
       "      <th>counties_group2</th>\n",
       "      <th>counties_group3</th>\n",
       "      <th>damage_type_met_dent_medium</th>\n",
       "      <th>damage_type_met_dent_minor</th>\n",
       "      <th>damage_type_met_dent_severe</th>\n",
       "      <th>damage_type_met_tear</th>\n",
       "      <th>damage_type_mis_lamp</th>\n",
       "      <th>damage_type_mis_lost</th>\n",
       "      <th>damage_type_mis_punct</th>\n",
       "    </tr>\n",
       "  </thead>\n",
       "  <tbody>\n",
       "    <tr>\n",
       "      <th>0</th>\n",
       "      <td>1</td>\n",
       "      <td>0</td>\n",
       "      <td>0</td>\n",
       "      <td>0</td>\n",
       "      <td>0</td>\n",
       "      <td>0</td>\n",
       "      <td>1</td>\n",
       "      <td>1</td>\n",
       "      <td>0</td>\n",
       "      <td>0</td>\n",
       "      <td>1</td>\n",
       "      <td>0</td>\n",
       "      <td>0</td>\n",
       "      <td>0</td>\n",
       "      <td>0</td>\n",
       "      <td>0</td>\n",
       "      <td>0</td>\n",
       "      <td>0</td>\n",
       "      <td>0</td>\n",
       "      <td>0</td>\n",
       "    </tr>\n",
       "    <tr>\n",
       "      <th>1</th>\n",
       "      <td>1</td>\n",
       "      <td>0</td>\n",
       "      <td>0</td>\n",
       "      <td>0</td>\n",
       "      <td>0</td>\n",
       "      <td>0</td>\n",
       "      <td>1</td>\n",
       "      <td>1</td>\n",
       "      <td>0</td>\n",
       "      <td>0</td>\n",
       "      <td>1</td>\n",
       "      <td>0</td>\n",
       "      <td>0</td>\n",
       "      <td>0</td>\n",
       "      <td>0</td>\n",
       "      <td>0</td>\n",
       "      <td>0</td>\n",
       "      <td>0</td>\n",
       "      <td>0</td>\n",
       "      <td>1</td>\n",
       "    </tr>\n",
       "  </tbody>\n",
       "</table>\n",
       "</div>"
      ]
     },
     "execution_count": 15,
     "metadata": {},
     "output_type": "execute_result"
    }
   ],
   "execution_count": 15
  },
  {
   "metadata": {
    "ExecuteTime": {
     "end_time": "2024-08-14T14:43:52.688005Z",
     "start_time": "2024-08-14T14:43:52.672032Z"
    }
   },
   "cell_type": "code",
   "source": [
    "# Load the model from the file\n",
    "with open('./Models/cost_model.pkl', 'rb') as file:\n",
    "    cost_model_loaded = pickle.load(file)"
   ],
   "id": "e83343b6c8317c29",
   "outputs": [],
   "execution_count": 68
  },
  {
   "metadata": {
    "ExecuteTime": {
     "end_time": "2024-08-14T14:43:54.547818Z",
     "start_time": "2024-08-14T14:43:54.532195Z"
    }
   },
   "cell_type": "code",
   "source": [
    "# Make predictions\n",
    "predictions = cost_model_loaded.predict(complete_case)"
   ],
   "id": "21a50c574ce99773",
   "outputs": [],
   "execution_count": 69
  },
  {
   "metadata": {
    "ExecuteTime": {
     "end_time": "2024-08-14T14:44:06.868100Z",
     "start_time": "2024-08-14T14:44:06.837456Z"
    }
   },
   "cell_type": "code",
   "source": [
    "# dataframe with the predictions\n",
    "cost_predictions= pd.DataFrame({'Damages': damage_types,'Cost Estimates': cost_model_loaded.predict(complete_case).round(0)\n",
    "    })\n",
    "    \n",
    "    \n",
    "    \n",
    "# Calculate the total cost as the sum of all 'Cost Estimates'\n",
    "total_cost = cost_predictions['Cost Estimates'].sum()\n",
    "\n",
    "# Format total_cost as a string with no decimals and a comma as a thousands separator\n",
    "formatted_total_cost = f\"{total_cost:,.0f}\""
   ],
   "id": "6c1f570e69b65230",
   "outputs": [],
   "execution_count": 71
  },
  {
   "metadata": {
    "ExecuteTime": {
     "end_time": "2024-08-14T14:44:12.393593Z",
     "start_time": "2024-08-14T14:44:12.380746Z"
    }
   },
   "cell_type": "code",
   "source": "formatted_total_cost",
   "id": "5686a05457902b46",
   "outputs": [
    {
     "data": {
      "text/plain": [
       "'734'"
      ]
     },
     "execution_count": 72,
     "metadata": {},
     "output_type": "execute_result"
    }
   ],
   "execution_count": 72
  }
 ],
 "metadata": {
  "kernelspec": {
   "display_name": "Python 3",
   "language": "python",
   "name": "python3"
  },
  "language_info": {
   "codemirror_mode": {
    "name": "ipython",
    "version": 2
   },
   "file_extension": ".py",
   "mimetype": "text/x-python",
   "name": "python",
   "nbconvert_exporter": "python",
   "pygments_lexer": "ipython2",
   "version": "2.7.6"
  }
 },
 "nbformat": 4,
 "nbformat_minor": 5
}
