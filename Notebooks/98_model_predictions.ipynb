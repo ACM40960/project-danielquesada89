{
 "cells": [
  {
   "cell_type": "code",
   "id": "initial_id",
   "metadata": {
    "collapsed": true,
    "ExecuteTime": {
     "end_time": "2024-08-11T15:09:01.051073Z",
     "start_time": "2024-08-11T15:08:57.249853Z"
    }
   },
   "source": [
    "'./Notebooks/data.yaml'\n",
    "import json\n",
    "import os\n",
    "from ultralytics import YOLO\n",
    "import shutil\n",
    "import yaml  # for importing a yaml file\n",
    "import joblib\n",
    "import torch\n",
    "import subprocess\n",
    "from io import BytesIO\n",
    "import tarfile\n",
    "import pandas as pd"
   ],
   "outputs": [],
   "execution_count": 2
  },
  {
   "metadata": {
    "ExecuteTime": {
     "end_time": "2024-08-11T15:09:03.207638Z",
     "start_time": "2024-08-11T15:09:02.164028Z"
    }
   },
   "cell_type": "code",
   "source": [
    "current_directory = os.getcwd()\n",
    "last_folder = os.path.basename(current_directory)\n",
    "    \n",
    "if last_folder != \"project-danielteresa\":\n",
    "    while last_folder != \"project-danielteresa\":\n",
    "        parent_directory = os.path.dirname(current_directory)\n",
    "        last_folder = os.path.basename(parent_directory)\n",
    "\n",
    "        os.chdir(parent_directory)\n",
    "        print(f\"Changed directory to: {parent_directory}\")\n",
    "else:\n",
    "    print(\"Already in the project root directory.\")\n",
    "\n",
    "# our modules\n",
    "from src.mymodule import * # for importing our functions"
   ],
   "id": "d1f44ed49a43b0e9",
   "outputs": [
    {
     "name": "stdout",
     "output_type": "stream",
     "text": [
      "Changed directory to: C:\\Users\\daniq\\PycharmProjects\\project-danielteresa\n"
     ]
    }
   ],
   "execution_count": 3
  },
  {
   "metadata": {
    "ExecuteTime": {
     "end_time": "2024-08-11T15:09:04.852346Z",
     "start_time": "2024-08-11T15:09:04.844409Z"
    }
   },
   "cell_type": "code",
   "source": [
    "# Load the YAML file\n",
    "with open('config.yaml', 'r') as file:\n",
    "    config = yaml.safe_load(file)\n",
    "\n",
    "# Function to set variables globally and store their names\n",
    "def set_variables(config, prefix='', var_dict={}):\n",
    "    for key, value in config.items():\n",
    "        if isinstance(value, dict):\n",
    "            set_variables(value, prefix + key + '_', var_dict)\n",
    "        else:\n",
    "            globals()[prefix + key] = value\n",
    "            var_dict[prefix + key] = value\n",
    "    return var_dict\n",
    "\n",
    "# Set variables globally and get a dictionary of the set variables\n",
    "set_vars = set_variables(config)\n",
    "\n",
    "# Print all the variables that were set\n",
    "print(\"Variables set from YAML file:\")\n",
    "for var_name, var_value in set_vars.items():\n",
    "    print(f\"{var_name}: {var_value}\")"
   ],
   "id": "bcf870774271488a",
   "outputs": [
    {
     "name": "stdout",
     "output_type": "stream",
     "text": [
      "Variables set from YAML file:\n",
      "seed: 123\n",
      "color1: #62b6cb\n",
      "color2: #fb8500\n",
      "color3: #023047\n",
      "color4: #FFB703\n",
      "path_annotations: ./Data\n",
      "path_train: ./Data/train/original\n",
      "path_train_train: ./Data/train/train\n",
      "path_train_aug: ./Data/train/train_aug\n",
      "path_train_val: ./Data/train/val\n",
      "path_test: ./Data/test\n",
      "path_yolo: ./Data/Yoloimages/\n",
      "path_models: ./Models\n",
      "kaggle_train_annotations: annotations_train.json\n",
      "train_annotations_name_temp: annotations_train_temp.json\n",
      "train_annotations_name: annotations_train_updated.json\n",
      "aug_train_annotations_name: annotations_train_updated_aug.json\n",
      "val_annotations_name: annotations_val_updated.json\n",
      "kaggle_test_annotations: annotations_test.json\n",
      "test_annotations_name_temp: annotations_test_temp.json\n",
      "test_annotations_name: annotations_test_updated.json\n",
      "weights_yolo_path: Models/yolo_weights\n",
      "runs_path: Models/runs\n",
      "bucket_name: sagemaker-eu-west-1-project-danielteresa/\n",
      "bucket_name2: sagemaker-eu-west-1-project-danielteresa\n",
      "tuning_jobname: YOLO-tuning8\n",
      "final_jobname: YOLO-final2\n"
     ]
    }
   ],
   "execution_count": 4
  },
  {
   "metadata": {
    "ExecuteTime": {
     "end_time": "2024-08-11T15:09:07.295702Z",
     "start_time": "2024-08-11T15:09:07.141412Z"
    }
   },
   "cell_type": "code",
   "source": " yolo_model = YOLO(\"Models/best_modeltuning_YOLO-tuning7/train/weights/best.pt\")",
   "id": "fff35c549f6d1407",
   "outputs": [],
   "execution_count": 5
  },
  {
   "metadata": {
    "ExecuteTime": {
     "end_time": "2024-08-11T15:23:21.105533Z",
     "start_time": "2024-08-11T15:23:20.790655Z"
    }
   },
   "cell_type": "code",
   "source": "results = yolo_model.predict(\"API/inputs/mix1.jpg\",conf=0.15)",
   "id": "a1d41bf9e88f105b",
   "outputs": [
    {
     "name": "stdout",
     "output_type": "stream",
     "text": [
      "\n",
      "image 1/1 C:\\Users\\daniq\\PycharmProjects\\project-danielteresa\\API\\inputs\\mix1.jpg: 384x640 1 mis_lost, 1 glass_crack, 286.5ms\n",
      "Speed: 0.0ms preprocess, 286.5ms inference, 0.0ms postprocess per image at shape (1, 3, 384, 640)\n"
     ]
    }
   ],
   "execution_count": 36
  },
  {
   "metadata": {
    "ExecuteTime": {
     "end_time": "2024-08-11T15:23:23.179852Z",
     "start_time": "2024-08-11T15:23:23.176629Z"
    }
   },
   "cell_type": "code",
   "source": "results",
   "id": "1110e850435db318",
   "outputs": [
    {
     "data": {
      "text/plain": [
       "[ultralytics.engine.results.Results object with attributes:\n",
       " \n",
       " boxes: ultralytics.engine.results.Boxes object\n",
       " keypoints: None\n",
       " masks: ultralytics.engine.results.Masks object\n",
       " names: {0: 'mis_lost', 1: 'met_tear', 2: 'met_scratch', 3: 'glass_crack', 4: 'mis_punct', 5: 'mis_lamp', 6: 'met_dent_minor', 7: 'met_dent_medium', 8: 'met_dent_severe'}\n",
       " obb: None\n",
       " orig_img: array([[[  0,   0,   0],\n",
       "         [  0,   0,   0],\n",
       "         [  0,   0,   1],\n",
       "         ...,\n",
       "         [  1,   1,   1],\n",
       "         [  1,   1,   1],\n",
       "         [  1,   1,   1]],\n",
       " \n",
       "        [[250, 252, 252],\n",
       "         [251, 253, 253],\n",
       "         [249, 253, 254],\n",
       "         ...,\n",
       "         [  1,   1,   1],\n",
       "         [  1,   1,   1],\n",
       "         [  1,   1,   1]],\n",
       " \n",
       "        [[251, 255, 255],\n",
       "         [248, 255, 255],\n",
       "         [244, 255, 255],\n",
       "         ...,\n",
       "         [  1,   1,   1],\n",
       "         [  1,   1,   1],\n",
       "         [  1,   1,   1]],\n",
       " \n",
       "        ...,\n",
       " \n",
       "        [[224, 229, 232],\n",
       "         [227, 232, 235],\n",
       "         [227, 232, 235],\n",
       "         ...,\n",
       "         [123, 138, 141],\n",
       "         [122, 137, 140],\n",
       "         [122, 137, 140]],\n",
       " \n",
       "        [[223, 228, 231],\n",
       "         [226, 231, 234],\n",
       "         [226, 231, 234],\n",
       "         ...,\n",
       "         [128, 140, 144],\n",
       "         [128, 140, 144],\n",
       "         [128, 140, 144]],\n",
       " \n",
       "        [[219, 224, 227],\n",
       "         [220, 225, 228],\n",
       "         [221, 226, 229],\n",
       "         ...,\n",
       "         [130, 142, 146],\n",
       "         [129, 141, 145],\n",
       "         [129, 141, 145]]], dtype=uint8)\n",
       " orig_shape: (600, 1066)\n",
       " path: 'C:\\\\Users\\\\daniq\\\\PycharmProjects\\\\project-danielteresa\\\\API\\\\inputs\\\\mix1.jpg'\n",
       " probs: None\n",
       " save_dir: 'C:\\\\Users\\\\daniq\\\\PycharmProjects\\\\project-danielteresa\\\\runs\\\\segment\\\\predict'\n",
       " speed: {'preprocess': 0.0, 'inference': 286.5278720855713, 'postprocess': 0.0}]"
      ]
     },
     "execution_count": 37,
     "metadata": {},
     "output_type": "execute_result"
    }
   ],
   "execution_count": 37
  },
  {
   "metadata": {
    "ExecuteTime": {
     "end_time": "2024-08-11T15:33:47.478212Z",
     "start_time": "2024-08-11T15:33:47.459675Z"
    }
   },
   "cell_type": "code",
   "source": [
    "#print(dir(results[0].masks))\n",
    "#results[0].probs\n",
    "results[0].names"
   ],
   "id": "971331df86e63350",
   "outputs": [
    {
     "data": {
      "text/plain": [
       "{0: 'mis_lost',\n",
       " 1: 'met_tear',\n",
       " 2: 'met_scratch',\n",
       " 3: 'glass_crack',\n",
       " 4: 'mis_punct',\n",
       " 5: 'mis_lamp',\n",
       " 6: 'met_dent_minor',\n",
       " 7: 'met_dent_medium',\n",
       " 8: 'met_dent_severe'}"
      ]
     },
     "execution_count": 46,
     "metadata": {},
     "output_type": "execute_result"
    }
   ],
   "execution_count": 46
  },
  {
   "metadata": {
    "ExecuteTime": {
     "end_time": "2024-08-11T15:24:31.653751Z",
     "start_time": "2024-08-11T15:24:31.648803Z"
    }
   },
   "cell_type": "code",
   "source": "results[0].boxes.cpu().numpy().cls",
   "id": "e336663427450c17",
   "outputs": [
    {
     "data": {
      "text/plain": [
       "array([          3,           0], dtype=float32)"
      ]
     },
     "execution_count": 45,
     "metadata": {},
     "output_type": "execute_result"
    }
   ],
   "execution_count": 45
  },
  {
   "metadata": {
    "ExecuteTime": {
     "end_time": "2024-08-11T15:23:29.409986Z",
     "start_time": "2024-08-11T15:23:29.163638Z"
    }
   },
   "cell_type": "code",
   "source": [
    "# Process results list\n",
    "for result in results:\n",
    "    boxes = result.boxes  # Boxes object for bounding box outputs\n",
    "    masks = result.masks  # Masks object for segmentation masks outputs\n",
    "    keypoints = result.keypoints  # Keypoints object for pose outputs\n",
    "    probs = result.probs  # Probs object for classification outputs\n",
    "    obb = result.obb  # Oriented boxes object for OBB outputs\n",
    "    result.show()  # display to screen"
   ],
   "id": "ccd3d0528e686ba4",
   "outputs": [],
   "execution_count": 39
  },
  {
   "metadata": {
    "ExecuteTime": {
     "end_time": "2024-08-11T15:23:46.786326Z",
     "start_time": "2024-08-11T15:23:46.782828Z"
    }
   },
   "cell_type": "code",
   "source": "len(results)",
   "id": "ad77e7b89c9fe0ae",
   "outputs": [
    {
     "data": {
      "text/plain": [
       "1"
      ]
     },
     "execution_count": 41,
     "metadata": {},
     "output_type": "execute_result"
    }
   ],
   "execution_count": 41
  },
  {
   "metadata": {},
   "cell_type": "markdown",
   "source": "We upload the cost estimation model",
   "id": "220af8ac8dff2004"
  },
  {
   "metadata": {
    "ExecuteTime": {
     "end_time": "2024-08-11T15:47:16.133087Z",
     "start_time": "2024-08-11T15:47:15.472656Z"
    }
   },
   "cell_type": "code",
   "source": "cost_model=joblib.load(\"Models/cost_model.pkl\")",
   "id": "5ab99471bff590de",
   "outputs": [],
   "execution_count": 57
  },
  {
   "metadata": {},
   "cell_type": "markdown",
   "source": [
    "'brand': array(['Toyota', 'Volkswagen'], dtype=object),\n",
    "\n",
    " 'model': array(['Corolla', 'C-HR', 'Yaris', 'Golf', 'Polo', 'Tiguan'], dtype=object),\n",
    " \n",
    " 'veh_age_range': array(['Old', 'Newer', 'Middle'], dtype=object),\n",
    " \n",
    " 'workshop_quality': array(['High', 'Low', 'Medium'], dtype=object),\n",
    " \n",
    " 'counties': array(['Cork', 'Dublin', 'Tipperary', 'Meath', 'Clare', 'Kildare', 'Wexford', 'Donegal', 'Galway', 'Carlow', 'Roscommon', 'Waterford', 'Westmeath', 'Leitrim', 'Kilkenny', 'Cavan', 'Limerick', 'Longford', 'Kerry', 'Wicklow', 'Mayo', 'Sligo', 'Offaly', 'Laois', 'Louth', 'Monaghan'], dtype=object),\n",
    " \n",
    " 'damage_type': array(['mis_lost', 'met_tear', 'mis_lamp', 'glass_crack', 'mis_punct', 'met_dent_minor', 'met_dent_medium', 'met_dent_severe'], dtype=object)\n",
    " \n",
    "\n",
    "group1 = [\"Kildare\", \"Dublin\"]\n",
    "\n",
    "\n",
    "group2 = [\"Meath\", \"Cork\", \"Westmeath\", \"Laois\", \"Galway\", \"Kilkenny\", \"Limerick\", \"Clare\"]"
   ],
   "id": "bbf3d3af6d347693"
  },
  {
   "metadata": {
    "ExecuteTime": {
     "end_time": "2024-08-11T15:58:55.870313Z",
     "start_time": "2024-08-11T15:58:55.861230Z"
    }
   },
   "cell_type": "code",
   "source": [
    "workshops={\n",
    "'Smithfield Autotech':'Low',\n",
    "'Sandyford McCann Motors':'Medium',\n",
    "'Mobile Mechanic':'High'\n",
    "}\n",
    "\n",
    "selected_workshop='Sandyford McCann Motors'\n",
    "\n",
    "selected_workshop_qual= workshops[selected_workshop]"
   ],
   "id": "9878de5bbbca37f1",
   "outputs": [
    {
     "data": {
      "text/plain": [
       "'Medium'"
      ]
     },
     "execution_count": 66,
     "metadata": {},
     "output_type": "execute_result"
    }
   ],
   "execution_count": 66
  },
  {
   "metadata": {
    "ExecuteTime": {
     "end_time": "2024-08-11T16:05:04.608067Z",
     "start_time": "2024-08-11T16:05:04.596205Z"
    }
   },
   "cell_type": "code",
   "source": [
    "case = pd.DataFrame({\n",
    "'const': [1], \n",
    "'brand_Volkswagen': [0], \n",
    "'model_Corolla': [0], \n",
    "'model_Golf': [0],\n",
    "'model_Polo': [0], \n",
    "'model_Tiguan': [0], \n",
    "'model_Yaris': [1], \n",
    "'veh_age_range_Newer': [1],\n",
    "'veh_age_range_Old': [0], \n",
    "'workshop_quality_Low': [0], \n",
    "'workshop_quality_Medium': [0],\n",
    "'counties_group2': [0], \n",
    "'counties_group3': [0], \n",
    "'damage_type_met_dent_medium': [0],\n",
    "'damage_type_met_dent_minor': [0], \n",
    "'damage_type_met_dent_severe': [0],\n",
    "'damage_type_met_tear': [0], \n",
    "'damage_type_mis_lamp': [0], \n",
    "'damage_type_mis_lost': [0],\n",
    "'damage_type_mis_punct': [0]\n",
    "})\n",
    "\n",
    "\n",
    "# Adjust case DataFrame based on selected_workshop_qual\n",
    "if selected_workshop_qual == 'High':\n",
    "    case['workshop_quality_Low'] = [0]\n",
    "    case['workshop_quality_Medium'] = [0]\n",
    "elif selected_workshop_qual == 'Medium':\n",
    "    case['workshop_quality_Low'] = [0]\n",
    "    case['workshop_quality_Medium'] = [1]\n",
    "elif selected_workshop_qual == 'Low':\n",
    "    case['workshop_quality_Low'] = [1]\n",
    "    case['workshop_quality_Medium'] = [0]\n",
    "    \n",
    "case"
   ],
   "id": "f2f382611596db6c",
   "outputs": [
    {
     "data": {
      "text/plain": [
       "   const  brand_Volkswagen  model_Corolla  model_Golf  model_Polo  \\\n",
       "0      1                 0              0           0           0   \n",
       "\n",
       "   model_Tiguan  model_Yaris  veh_age_range_Newer  veh_age_range_Old  \\\n",
       "0             0            1                    1                  0   \n",
       "\n",
       "   workshop_quality_Low  workshop_quality_Medium  counties_group2  \\\n",
       "0                     0                        1                0   \n",
       "\n",
       "   counties_group3  damage_type_met_dent_medium  damage_type_met_dent_minor  \\\n",
       "0                0                            0                           0   \n",
       "\n",
       "   damage_type_met_dent_severe  damage_type_met_tear  damage_type_mis_lamp  \\\n",
       "0                            0                     0                     0   \n",
       "\n",
       "   damage_type_mis_lost  damage_type_mis_punct  \n",
       "0                     0                      0  "
      ],
      "text/html": [
       "<div>\n",
       "<style scoped>\n",
       "    .dataframe tbody tr th:only-of-type {\n",
       "        vertical-align: middle;\n",
       "    }\n",
       "\n",
       "    .dataframe tbody tr th {\n",
       "        vertical-align: top;\n",
       "    }\n",
       "\n",
       "    .dataframe thead th {\n",
       "        text-align: right;\n",
       "    }\n",
       "</style>\n",
       "<table border=\"1\" class=\"dataframe\">\n",
       "  <thead>\n",
       "    <tr style=\"text-align: right;\">\n",
       "      <th></th>\n",
       "      <th>const</th>\n",
       "      <th>brand_Volkswagen</th>\n",
       "      <th>model_Corolla</th>\n",
       "      <th>model_Golf</th>\n",
       "      <th>model_Polo</th>\n",
       "      <th>model_Tiguan</th>\n",
       "      <th>model_Yaris</th>\n",
       "      <th>veh_age_range_Newer</th>\n",
       "      <th>veh_age_range_Old</th>\n",
       "      <th>workshop_quality_Low</th>\n",
       "      <th>workshop_quality_Medium</th>\n",
       "      <th>counties_group2</th>\n",
       "      <th>counties_group3</th>\n",
       "      <th>damage_type_met_dent_medium</th>\n",
       "      <th>damage_type_met_dent_minor</th>\n",
       "      <th>damage_type_met_dent_severe</th>\n",
       "      <th>damage_type_met_tear</th>\n",
       "      <th>damage_type_mis_lamp</th>\n",
       "      <th>damage_type_mis_lost</th>\n",
       "      <th>damage_type_mis_punct</th>\n",
       "    </tr>\n",
       "  </thead>\n",
       "  <tbody>\n",
       "    <tr>\n",
       "      <th>0</th>\n",
       "      <td>1</td>\n",
       "      <td>0</td>\n",
       "      <td>0</td>\n",
       "      <td>0</td>\n",
       "      <td>0</td>\n",
       "      <td>0</td>\n",
       "      <td>1</td>\n",
       "      <td>1</td>\n",
       "      <td>0</td>\n",
       "      <td>0</td>\n",
       "      <td>1</td>\n",
       "      <td>0</td>\n",
       "      <td>0</td>\n",
       "      <td>0</td>\n",
       "      <td>0</td>\n",
       "      <td>0</td>\n",
       "      <td>0</td>\n",
       "      <td>0</td>\n",
       "      <td>0</td>\n",
       "      <td>0</td>\n",
       "    </tr>\n",
       "  </tbody>\n",
       "</table>\n",
       "</div>"
      ]
     },
     "execution_count": 68,
     "metadata": {},
     "output_type": "execute_result"
    }
   ],
   "execution_count": 68
  },
  {
   "metadata": {
    "ExecuteTime": {
     "end_time": "2024-08-11T16:05:42.968159Z",
     "start_time": "2024-08-11T16:05:42.957946Z"
    }
   },
   "cell_type": "code",
   "source": [
    "damage_types = [results[0].names[int(cls)] for cls in results[0].boxes.cpu().numpy().cls]\n",
    "\n",
    "# Function to generate the complete_case DataFrame\n",
    "def generate_complete_case(case, damage_types):\n",
    "    complete_case = pd.DataFrame()\n",
    "    \n",
    "    for damage_type in damage_types:\n",
    "        temp_case = case.copy()\n",
    "        \n",
    "        # Set the corresponding damage type to 1\n",
    "        damage_column = f'damage_type_{damage_type}'\n",
    "        if damage_column in temp_case.columns:\n",
    "            temp_case[damage_column] = [1]\n",
    "        \n",
    "        # Append this row to the complete_case DataFrame\n",
    "        complete_case = pd.concat([complete_case, temp_case], ignore_index=True)\n",
    "    \n",
    "    return complete_case\n",
    "\n",
    "# Generate the complete_case DataFrame\n",
    "complete_case = generate_complete_case(case, damage_types)\n",
    "\n",
    "complete_case.T"
   ],
   "id": "768bf3464a1ff785",
   "outputs": [
    {
     "data": {
      "text/plain": [
       "                             0  1\n",
       "const                        1  1\n",
       "brand_Volkswagen             0  0\n",
       "model_Corolla                0  0\n",
       "model_Golf                   0  0\n",
       "model_Polo                   0  0\n",
       "model_Tiguan                 0  0\n",
       "model_Yaris                  1  1\n",
       "veh_age_range_Newer          1  1\n",
       "veh_age_range_Old            0  0\n",
       "workshop_quality_Low         0  0\n",
       "workshop_quality_Medium      1  1\n",
       "counties_group2              0  0\n",
       "counties_group3              0  0\n",
       "damage_type_met_dent_medium  0  0\n",
       "damage_type_met_dent_minor   0  0\n",
       "damage_type_met_dent_severe  0  0\n",
       "damage_type_met_tear         0  0\n",
       "damage_type_mis_lamp         0  0\n",
       "damage_type_mis_lost         0  1\n",
       "damage_type_mis_punct        0  0"
      ],
      "text/html": [
       "<div>\n",
       "<style scoped>\n",
       "    .dataframe tbody tr th:only-of-type {\n",
       "        vertical-align: middle;\n",
       "    }\n",
       "\n",
       "    .dataframe tbody tr th {\n",
       "        vertical-align: top;\n",
       "    }\n",
       "\n",
       "    .dataframe thead th {\n",
       "        text-align: right;\n",
       "    }\n",
       "</style>\n",
       "<table border=\"1\" class=\"dataframe\">\n",
       "  <thead>\n",
       "    <tr style=\"text-align: right;\">\n",
       "      <th></th>\n",
       "      <th>0</th>\n",
       "      <th>1</th>\n",
       "    </tr>\n",
       "  </thead>\n",
       "  <tbody>\n",
       "    <tr>\n",
       "      <th>const</th>\n",
       "      <td>1</td>\n",
       "      <td>1</td>\n",
       "    </tr>\n",
       "    <tr>\n",
       "      <th>brand_Volkswagen</th>\n",
       "      <td>0</td>\n",
       "      <td>0</td>\n",
       "    </tr>\n",
       "    <tr>\n",
       "      <th>model_Corolla</th>\n",
       "      <td>0</td>\n",
       "      <td>0</td>\n",
       "    </tr>\n",
       "    <tr>\n",
       "      <th>model_Golf</th>\n",
       "      <td>0</td>\n",
       "      <td>0</td>\n",
       "    </tr>\n",
       "    <tr>\n",
       "      <th>model_Polo</th>\n",
       "      <td>0</td>\n",
       "      <td>0</td>\n",
       "    </tr>\n",
       "    <tr>\n",
       "      <th>model_Tiguan</th>\n",
       "      <td>0</td>\n",
       "      <td>0</td>\n",
       "    </tr>\n",
       "    <tr>\n",
       "      <th>model_Yaris</th>\n",
       "      <td>1</td>\n",
       "      <td>1</td>\n",
       "    </tr>\n",
       "    <tr>\n",
       "      <th>veh_age_range_Newer</th>\n",
       "      <td>1</td>\n",
       "      <td>1</td>\n",
       "    </tr>\n",
       "    <tr>\n",
       "      <th>veh_age_range_Old</th>\n",
       "      <td>0</td>\n",
       "      <td>0</td>\n",
       "    </tr>\n",
       "    <tr>\n",
       "      <th>workshop_quality_Low</th>\n",
       "      <td>0</td>\n",
       "      <td>0</td>\n",
       "    </tr>\n",
       "    <tr>\n",
       "      <th>workshop_quality_Medium</th>\n",
       "      <td>1</td>\n",
       "      <td>1</td>\n",
       "    </tr>\n",
       "    <tr>\n",
       "      <th>counties_group2</th>\n",
       "      <td>0</td>\n",
       "      <td>0</td>\n",
       "    </tr>\n",
       "    <tr>\n",
       "      <th>counties_group3</th>\n",
       "      <td>0</td>\n",
       "      <td>0</td>\n",
       "    </tr>\n",
       "    <tr>\n",
       "      <th>damage_type_met_dent_medium</th>\n",
       "      <td>0</td>\n",
       "      <td>0</td>\n",
       "    </tr>\n",
       "    <tr>\n",
       "      <th>damage_type_met_dent_minor</th>\n",
       "      <td>0</td>\n",
       "      <td>0</td>\n",
       "    </tr>\n",
       "    <tr>\n",
       "      <th>damage_type_met_dent_severe</th>\n",
       "      <td>0</td>\n",
       "      <td>0</td>\n",
       "    </tr>\n",
       "    <tr>\n",
       "      <th>damage_type_met_tear</th>\n",
       "      <td>0</td>\n",
       "      <td>0</td>\n",
       "    </tr>\n",
       "    <tr>\n",
       "      <th>damage_type_mis_lamp</th>\n",
       "      <td>0</td>\n",
       "      <td>0</td>\n",
       "    </tr>\n",
       "    <tr>\n",
       "      <th>damage_type_mis_lost</th>\n",
       "      <td>0</td>\n",
       "      <td>1</td>\n",
       "    </tr>\n",
       "    <tr>\n",
       "      <th>damage_type_mis_punct</th>\n",
       "      <td>0</td>\n",
       "      <td>0</td>\n",
       "    </tr>\n",
       "  </tbody>\n",
       "</table>\n",
       "</div>"
      ]
     },
     "execution_count": 71,
     "metadata": {},
     "output_type": "execute_result"
    }
   ],
   "execution_count": 71
  },
  {
   "metadata": {
    "ExecuteTime": {
     "end_time": "2024-08-11T16:06:07.090802Z",
     "start_time": "2024-08-11T16:06:07.071096Z"
    }
   },
   "cell_type": "code",
   "source": "cost_model.predict(complete_case)",
   "id": "700da6f8d238d055",
   "outputs": [
    {
     "data": {
      "text/plain": [
       "array([     280.92,      475.33])"
      ]
     },
     "execution_count": 72,
     "metadata": {},
     "output_type": "execute_result"
    }
   ],
   "execution_count": 72
  }
 ],
 "metadata": {
  "kernelspec": {
   "display_name": "Python 3",
   "language": "python",
   "name": "python3"
  },
  "language_info": {
   "codemirror_mode": {
    "name": "ipython",
    "version": 2
   },
   "file_extension": ".py",
   "mimetype": "text/x-python",
   "name": "python",
   "nbconvert_exporter": "python",
   "pygments_lexer": "ipython2",
   "version": "2.7.6"
  }
 },
 "nbformat": 4,
 "nbformat_minor": 5
}
