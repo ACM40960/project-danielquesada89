{
 "cells": [
  {
   "cell_type": "markdown",
   "metadata": {},
   "source": [
    "# <font color=\"#5fa8d3\"> Yolo model\n",
    "\n",
    "\n",
    "## <font color=\"#62b6cb\"> Table of Content <a name=\"ToC\"></a>\n",
    "0. [Libraries Importation, Parameters & Funtions Definition](#id0)<br>\n",
    "1. [Preparation of the data](#id1)<br>\n",
    "    1.1 [Copy Images to Yolo Folder](#id11)<br>\n",
    "    1.2 [Obtain the labels for YOLO](#id12)<br>\n"
   ]
  },
  {
   "cell_type": "markdown",
   "metadata": {},
   "source": [
    "## <font color=\"#62b6cb\"> 0. Libraries Importation, Parameters & Funtions Definition <a name=\"id0\"></a>"
   ]
  },
  {
   "cell_type": "code",
   "execution_count": 1,
   "metadata": {},
   "outputs": [
    {
     "data": {
      "text/plain": [
       "'./Notebooks/data.yaml'"
      ]
     },
     "execution_count": 1,
     "metadata": {},
     "output_type": "execute_result"
    }
   ],
   "source": [
    "# things to put in the config\n",
    "'./Notebooks/data.yaml'"
   ]
  },
  {
   "cell_type": "code",
   "execution_count": 2,
   "metadata": {
    "ExecuteTime": {
     "end_time": "2024-07-25T15:40:57.002183Z",
     "start_time": "2024-07-25T15:40:56.937474Z"
    }
   },
   "outputs": [],
   "source": [
    "import json\n",
    "import os\n",
    "from ultralytics import YOLO\n",
    "import shutil\n",
    "import yaml # for importing a yaml file\n",
    "import joblib\n",
    "import torch"
   ]
  },
  {
   "cell_type": "code",
   "execution_count": 3,
   "metadata": {},
   "outputs": [
    {
     "name": "stdout",
     "output_type": "stream",
     "text": [
      "Changed directory to: c:\\Users\\teres\\OneDrive\\Documentos\\UCD\\Summer\\project-danielteresa\n"
     ]
    }
   ],
   "source": [
    "current_directory = os.getcwd()\n",
    "last_folder = os.path.basename(current_directory)\n",
    "    \n",
    "if last_folder != \"project-danielteresa\":\n",
    "    while last_folder != \"project-danielteresa\":\n",
    "        parent_directory = os.path.dirname(current_directory)\n",
    "        last_folder = os.path.basename(parent_directory)\n",
    "\n",
    "        os.chdir(parent_directory)\n",
    "        print(f\"Changed directory to: {parent_directory}\")\n",
    "else:\n",
    "    print(\"Already in the project root directory.\")\n",
    "\n",
    "# our modules\n",
    "from src.mymodule import * # for importing our functions"
   ]
  },
  {
   "cell_type": "markdown",
   "metadata": {},
   "source": [
    "**Configuration Variables**"
   ]
  },
  {
   "cell_type": "code",
   "execution_count": 4,
   "metadata": {},
   "outputs": [
    {
     "name": "stdout",
     "output_type": "stream",
     "text": [
      "Variables set from YAML file:\n",
      "seed: 123\n",
      "color1: #62b6cb\n",
      "color2: #fb8500\n",
      "color3: #023047\n",
      "color4: #FFB703\n",
      "path_annotations: ./Data\n",
      "path_train: ./Data/train/original\n",
      "path_train_train: ./Data/train/train\n",
      "path_train_aug: ./Data/train/train_aug\n",
      "path_train_val: ./Data/train/val\n",
      "path_test: ./Data/test\n",
      "path_yolo: ./Data/Yoloimages/\n",
      "kaggle_train_annotations: annotations_train.json\n",
      "train_annotations_name_temp: annotations_train_temp.json\n",
      "train_annotations_name: annotations_train_updated.json\n",
      "aug_train_annotations_name: annotations_train_updated_aug.json\n",
      "val_annotations_name: annotations_val_updated.json\n",
      "kaggle_test_annotations: annotations_test.json\n",
      "test_annotations_name_temp: annotations_test_temp.json\n",
      "test_annotations_name: annotations_test_updated.json\n",
      "weights_yolo_path: Models/yolo_weights\n",
      "runs_path: Models/runs\n"
     ]
    }
   ],
   "source": [
    "# Load the YAML file\n",
    "with open('config.yaml', 'r') as file:\n",
    "    config = yaml.safe_load(file)\n",
    "\n",
    "# Function to set variables globally and store their names\n",
    "def set_variables(config, prefix='', var_dict={}):\n",
    "    for key, value in config.items():\n",
    "        if isinstance(value, dict):\n",
    "            set_variables(value, prefix + key + '_', var_dict)\n",
    "        else:\n",
    "            globals()[prefix + key] = value\n",
    "            var_dict[prefix + key] = value\n",
    "    return var_dict\n",
    "\n",
    "# Set variables globally and get a dictionary of the set variables\n",
    "set_vars = set_variables(config)\n",
    "\n",
    "# Print all the variables that were set\n",
    "print(\"Variables set from YAML file:\")\n",
    "for var_name, var_value in set_vars.items():\n",
    "    print(f\"{var_name}: {var_value}\")"
   ]
  },
  {
   "cell_type": "markdown",
   "metadata": {},
   "source": [
    "## <font color=\"#62b6cb\"> 1. Preparation of data <a name=\"id1\"></a>"
   ]
  },
  {
   "cell_type": "markdown",
   "metadata": {},
   "source": [
    "### <font color=\"#62b6cb\"> 1.1 Copy Images to Yolo Folder  <a name=\"id11\"></a> "
   ]
  },
  {
   "cell_type": "code",
   "execution_count": 4,
   "metadata": {},
   "outputs": [
    {
     "name": "stdout",
     "output_type": "stream",
     "text": [
      "Folders have been cleaned and files have been copied successfully.\n"
     ]
    }
   ],
   "source": [
    "# Create the folders if they don't exist\n",
    "directories = [\n",
    "    os.path.join(path_yolo, \"train/images\"),\n",
    "    os.path.join(path_yolo, \"train/labels\"),\n",
    "    os.path.join(path_yolo, \"val/images\"),\n",
    "    os.path.join(path_yolo, \"val/labels\"),\n",
    "    os.path.join(path_yolo, \"test/images\"),\n",
    "    os.path.join(path_yolo, \"test/labels\")\n",
    "]\n",
    "\n",
    "for directory in directories:\n",
    "    if not os.path.exists(directory):\n",
    "        os.makedirs(directory)\n",
    "\n",
    "# Remove everything that exists in the folders\n",
    "for directory in [    os.path.join(path_yolo, \"train/images\"),\n",
    "                      os.path.join(path_yolo, \"train/labels\"),\n",
    "                      os.path.join(path_yolo, \"val/images\"),\n",
    "                      os.path.join(path_yolo, \"val/labels\"),\n",
    "                      os.path.join(path_yolo, \"test/images\"),\n",
    "                      os.path.join(path_yolo, \"test/labels\")]:\n",
    "    for filename in os.listdir(directory):\n",
    "        file_path = os.path.join(directory, filename)\n",
    "        try:\n",
    "            if os.path.isfile(file_path) or os.path.islink(file_path):\n",
    "                os.unlink(file_path)  # Remove the file\n",
    "            elif os.path.isdir(file_path):\n",
    "                shutil.rmtree(file_path)  # Remove the directory and its contents\n",
    "        except Exception as e:\n",
    "            print(f\"Failed to delete {file_path}. Reason: {e}\")\n",
    "\n",
    "# Copy images from train augmented to Yolo train folder\n",
    "shutil.copytree(path_train_aug, os.path.join(path_yolo, \"train/images\"), dirs_exist_ok=True)\n",
    "shutil.copytree(path_train_val, os.path.join(path_yolo, \"val/images\"), dirs_exist_ok=True)\n",
    "shutil.copytree(path_test, os.path.join(path_yolo, \"test/images\"), dirs_exist_ok=True)\n",
    "\n",
    "print(\"Folders have been cleaned and files have been copied successfully.\")"
   ]
  },
  {
   "cell_type": "markdown",
   "metadata": {},
   "source": [
    "Check the annotations and id of the coco jsons"
   ]
  },
  {
   "cell_type": "code",
   "execution_count": 5,
   "metadata": {},
   "outputs": [
    {
     "name": "stdout",
     "output_type": "stream",
     "text": [
      "Check that annotation for training is correct\n",
      "True\n",
      "Check that annotation for validation is correct\n",
      "True\n",
      "Check that annotation for test is correct\n",
      "True\n"
     ]
    }
   ],
   "source": [
    "print(\"Check that annotation for training is correct\")\n",
    "print(validate_coco_dataset(os.path.join(path_annotations,aug_train_annotations_name), os.path.join(path_yolo,\"train/images\")))\n",
    "\n",
    "print(\"Check that annotation for validation is correct\")\n",
    "print(validate_coco_dataset(os.path.join(path_annotations,val_annotations_name), os.path.join(path_yolo,\"val/images\")))\n",
    "\n",
    "print(\"Check that annotation for test is correct\")\n",
    "print(validate_coco_dataset(os.path.join(path_annotations,test_annotations_name), os.path.join(path_yolo,\"test/images\")))"
   ]
  },
  {
   "cell_type": "markdown",
   "metadata": {},
   "source": [
    "Some of the points of the polygons are out of the range of the width and the height"
   ]
  },
  {
   "cell_type": "code",
   "execution_count": 6,
   "metadata": {},
   "outputs": [],
   "source": [
    "# Some of the points of the polygons are out of the range of the images\n",
    "\n",
    "# train\n",
    "process_coco_annotations(os.path.join(path_annotations,aug_train_annotations_name),\n",
    "                          os.path.join(path_annotations,aug_train_annotations_name))\n",
    "\n",
    "# val\n",
    "process_coco_annotations(os.path.join(os.path.join(path_annotations,val_annotations_name)), \n",
    "                         os.path.join(os.path.join(path_annotations,val_annotations_name)) )"
   ]
  },
  {
   "cell_type": "markdown",
   "metadata": {},
   "source": [
    "### <font color=\"#62b6cb\"> 1.2 Obtain the labels for YOLO  <a name=\"id12\"></a> "
   ]
  },
  {
   "cell_type": "markdown",
   "metadata": {},
   "source": [
    "Obtain the yolo txt for each images from the coco data annotations using the conver_coco from ultralytics. The annotations json to convert should be in a folder with that json in it."
   ]
  },
  {
   "cell_type": "code",
   "execution_count": 7,
   "metadata": {},
   "outputs": [
    {
     "name": "stderr",
     "output_type": "stream",
     "text": [
      "Annotations /home/sagemaker-user/project-danielteresa/Data/Yoloimages/train/annotations_train_updated_aug.json: 100%|██████████| 46485/46485 [00:22<00:00, 2031.49it/s]"
     ]
    },
    {
     "name": "stdout",
     "output_type": "stream",
     "text": [
      "COCO data converted successfully.\n",
      "Results saved to /home/sagemaker-user/project-danielteresa/Data/Yoloimages/aux\n"
     ]
    },
    {
     "name": "stderr",
     "output_type": "stream",
     "text": [
      "\n"
     ]
    },
    {
     "name": "stdout",
     "output_type": "stream",
     "text": [
      "Removed auxiliary directory ./Data/Yoloimages/aux\n",
      "Yolo labels saved in ./Data/Yoloimages/train/labels\n",
      "\n"
     ]
    },
    {
     "name": "stderr",
     "output_type": "stream",
     "text": [
      "Annotations /home/sagemaker-user/project-danielteresa/Data/Yoloimages/val/annotations_val_updated.json: 100%|██████████| 2324/2324 [00:00<00:00, 11728.94it/s]"
     ]
    },
    {
     "name": "stdout",
     "output_type": "stream",
     "text": [
      "COCO data converted successfully.\n",
      "Results saved to /home/sagemaker-user/project-danielteresa/Data/Yoloimages/aux\n"
     ]
    },
    {
     "name": "stderr",
     "output_type": "stream",
     "text": [
      "\n"
     ]
    },
    {
     "name": "stdout",
     "output_type": "stream",
     "text": [
      "Removed auxiliary directory ./Data/Yoloimages/aux\n",
      "Yolo labels saved in ./Data/Yoloimages/val/labels\n",
      "\n"
     ]
    },
    {
     "name": "stderr",
     "output_type": "stream",
     "text": [
      "Annotations /home/sagemaker-user/project-danielteresa/Data/Yoloimages/test/annotations_test_updated.json: 100%|██████████| 2324/2324 [00:00<00:00, 12081.64it/s]"
     ]
    },
    {
     "name": "stdout",
     "output_type": "stream",
     "text": [
      "COCO data converted successfully.\n",
      "Results saved to /home/sagemaker-user/project-danielteresa/Data/Yoloimages/aux\n"
     ]
    },
    {
     "name": "stderr",
     "output_type": "stream",
     "text": [
      "\n"
     ]
    },
    {
     "name": "stdout",
     "output_type": "stream",
     "text": [
      "Removed auxiliary directory ./Data/Yoloimages/aux\n",
      "Yolo labels saved in ./Data/Yoloimages/test/labels\n",
      "\n"
     ]
    }
   ],
   "source": [
    "# Obtain the yolo labels\n",
    "# train\n",
    "convert_coco_to_yolo_segmentation(path_annotations, aug_train_annotations_name, path_yolo, 'train')\n",
    "# val\n",
    "convert_coco_to_yolo_segmentation(path_annotations, val_annotations_name, path_yolo, 'val')\n",
    "# test\n",
    "convert_coco_to_yolo_segmentation(path_annotations, test_annotations_name, path_yolo, 'test')"
   ]
  },
  {
   "cell_type": "markdown",
   "metadata": {},
   "source": [
    "We check the nº of elememts in the folder:"
   ]
  },
  {
   "cell_type": "code",
   "execution_count": 6,
   "metadata": {},
   "outputs": [
    {
     "name": "stdout",
     "output_type": "stream",
     "text": [
      "Number of files in './Data/Yoloimages//train/labels': 46485\n"
     ]
    }
   ],
   "source": [
    "# Define the directory path\n",
    "directory_path = path_yolo+'/train/labels'\n",
    "\n",
    "# List all files in the directory\n",
    "files = os.listdir(directory_path)\n",
    "\n",
    "# Count the number of files\n",
    "file_count = len([file for file in files if os.path.isfile(os.path.join(directory_path, file))])\n",
    "\n",
    "print(f\"Number of files in '{directory_path}': {file_count}\")"
   ]
  },
  {
   "cell_type": "markdown",
   "metadata": {},
   "source": [
    "We define a subset of images"
   ]
  },
  {
   "cell_type": "code",
   "execution_count": 16,
   "metadata": {},
   "outputs": [],
   "source": [
    "# Folder Set up\n",
    "train_folder = './Data/Yoloimages/train'\n",
    "val_folder = './Data/Yoloimages/val'\n",
    "\n",
    "destination_train_folder = './Data/Yoloimages/train_prueba'\n",
    "destination_val_folder = './Data/Yoloimages/val_prueba'\n",
    "\n",
    "# Seleccionar 20 imágenes de cada carpeta\n",
    "select_images(train_folder, destination_train_folder, 2000, 'images', 'labels', seed)\n",
    "select_images(val_folder, destination_val_folder, 2000, 'images', 'labels', seed)"
   ]
  },
  {
   "cell_type": "markdown",
   "metadata": {},
   "source": [
    "The yaml file is created for the yolo code."
   ]
  },
  {
   "cell_type": "code",
   "execution_count": 11,
   "metadata": {},
   "outputs": [],
   "source": [
    "with open(os.path.join(path_annotations,val_annotations_name), 'r') as f:\n",
    "    coco_data = json.load(f)\n",
    "\n",
    "names = [class_name['name'] for class_name in coco_data[\"categories\"]]\n",
    "\n",
    "# Specify the paths and information\n",
    "actual_path = os.getcwd()\n",
    "train_path = os.path.join(actual_path, 'Data/Yoloimages/train_prueba/images')\n",
    "val_path = os.path.join(actual_path, 'Data/Yoloimages/val_prueba/images')\n",
    "\n",
    "names_categories = [class_name['name'] for class_name in coco_data[\"categories\"]]\n",
    "nc = len(names)\n",
    "file_path = './Notebooks/data.yaml'\n",
    "\n",
    "# Create the YAML file\n",
    "create_yaml_file(file_path, train_path, val_path, nc, names)"
   ]
  },
  {
   "cell_type": "markdown",
   "metadata": {},
   "source": [
    "We train the model or uploaded if it was already trained:"
   ]
  },
  {
   "cell_type": "code",
   "execution_count": null,
   "metadata": {},
   "outputs": [
    {
     "name": "stdout",
     "output_type": "stream",
     "text": [
      "Training new model...\n",
      "Downloading https://github.com/ultralytics/assets/releases/download/v8.2.0/yolov8m-seg.pt to 'Models/yolo_weights/yolov8m-seg.pt'...\n"
     ]
    },
    {
     "name": "stderr",
     "output_type": "stream",
     "text": [
      "100%|██████████| 52.4M/52.4M [00:00<00:00, 83.4MB/s]\n"
     ]
    },
    {
     "name": "stdout",
     "output_type": "stream",
     "text": [
      "Ultralytics YOLOv8.2.70 🚀 Python-3.10.14 torch-2.0.0.post104 CPU (Intel Xeon Platinum 8488C)\n",
      "\u001B[34m\u001B[1mengine/trainer: \u001B[0mtask=segment, mode=train, model=Models/yolo_weights/yolov8m-seg.pt, data=./Notebooks/data.yaml, epochs=10, time=None, patience=100, batch=100, imgsz=640, save=True, save_period=-1, cache=False, device=None, workers=8, project=Models/runs, name=train, exist_ok=False, pretrained=True, optimizer=Adam, verbose=True, seed=0, deterministic=True, single_cls=False, rect=False, cos_lr=False, close_mosaic=10, resume=False, amp=True, fraction=1.0, profile=False, freeze=None, multi_scale=False, overlap_mask=True, mask_ratio=4, dropout=0.0, val=True, split=val, save_json=False, save_hybrid=False, conf=None, iou=0.7, max_det=300, half=False, dnn=False, plots=True, source=None, vid_stride=1, stream_buffer=False, visualize=False, augment=False, agnostic_nms=False, classes=None, retina_masks=False, embed=None, show=False, save_frames=False, save_txt=False, save_conf=False, save_crop=False, show_labels=True, show_conf=True, show_boxes=True, line_width=None, format=torchscript, keras=False, optimize=False, int8=False, dynamic=False, simplify=False, opset=None, workspace=4, nms=False, lr0=0.01, lrf=0.01, momentum=0.937, weight_decay=0.0005, warmup_epochs=3.0, warmup_momentum=0.8, warmup_bias_lr=0.1, box=7.5, cls=0.5, dfl=1.5, pose=12.0, kobj=1.0, label_smoothing=0.0, nbs=64, hsv_h=0.015, hsv_s=0.7, hsv_v=0.4, degrees=0.0, translate=0.1, scale=0.5, shear=0.0, perspective=0.0, flipud=0.0, fliplr=0.5, bgr=0.0, mosaic=1.0, mixup=0.0, copy_paste=0.0, auto_augment=randaugment, erasing=0.4, crop_fraction=1.0, cfg=None, tracker=botsort.yaml, save_dir=Models/runs/train\n",
      "Overriding model.yaml nc=80 with nc=9\n",
      "\n",
      "                   from  n    params  module                                       arguments                     \n",
      "  0                  -1  1      1392  ultralytics.nn.modules.conv.Conv             [3, 48, 3, 2]                 \n",
      "  1                  -1  1     41664  ultralytics.nn.modules.conv.Conv             [48, 96, 3, 2]                \n",
      "  2                  -1  2    111360  ultralytics.nn.modules.block.C2f             [96, 96, 2, True]             \n",
      "  3                  -1  1    166272  ultralytics.nn.modules.conv.Conv             [96, 192, 3, 2]               \n",
      "  4                  -1  4    813312  ultralytics.nn.modules.block.C2f             [192, 192, 4, True]           \n",
      "  5                  -1  1    664320  ultralytics.nn.modules.conv.Conv             [192, 384, 3, 2]              \n",
      "  6                  -1  4   3248640  ultralytics.nn.modules.block.C2f             [384, 384, 4, True]           \n",
      "  7                  -1  1   1991808  ultralytics.nn.modules.conv.Conv             [384, 576, 3, 2]              \n",
      "  8                  -1  2   3985920  ultralytics.nn.modules.block.C2f             [576, 576, 2, True]           \n",
      "  9                  -1  1    831168  ultralytics.nn.modules.block.SPPF            [576, 576, 5]                 \n",
      " 10                  -1  1         0  torch.nn.modules.upsampling.Upsample         [None, 2, 'nearest']          \n",
      " 11             [-1, 6]  1         0  ultralytics.nn.modules.conv.Concat           [1]                           \n",
      " 12                  -1  2   1993728  ultralytics.nn.modules.block.C2f             [960, 384, 2]                 \n",
      " 13                  -1  1         0  torch.nn.modules.upsampling.Upsample         [None, 2, 'nearest']          \n",
      " 14             [-1, 4]  1         0  ultralytics.nn.modules.conv.Concat           [1]                           \n",
      " 15                  -1  2    517632  ultralytics.nn.modules.block.C2f             [576, 192, 2]                 \n",
      " 16                  -1  1    332160  ultralytics.nn.modules.conv.Conv             [192, 192, 3, 2]              \n",
      " 17            [-1, 12]  1         0  ultralytics.nn.modules.conv.Concat           [1]                           \n",
      " 18                  -1  2   1846272  ultralytics.nn.modules.block.C2f             [576, 384, 2]                 \n",
      " 19                  -1  1   1327872  ultralytics.nn.modules.conv.Conv             [384, 384, 3, 2]              \n",
      " 20             [-1, 9]  1         0  ultralytics.nn.modules.conv.Concat           [1]                           \n",
      " 21                  -1  2   4207104  ultralytics.nn.modules.block.C2f             [960, 576, 2]                 \n",
      " 22        [15, 18, 21]  1   5164235  ultralytics.nn.modules.head.Segment          [9, 32, 192, [192, 384, 576]] \n",
      "YOLOv8m-seg summary: 331 layers, 27,244,859 parameters, 27,244,843 gradients, 110.4 GFLOPs\n",
      "\n",
      "Transferred 531/537 items from pretrained weights\n",
      "\u001B[34m\u001B[1mTensorBoard: \u001B[0mStart with 'tensorboard --logdir Models/runs/train', view at http://localhost:6006/\n",
      "Freezing layer 'model.22.dfl.conv.weight'\n"
     ]
    },
    {
     "name": "stderr",
     "output_type": "stream",
     "text": [
      "\u001B[34m\u001B[1mtrain: \u001B[0mScanning /home/sagemaker-user/project-danielteresa/Data/Yoloimages/train_prueba/labels.cache... 1999 images, 0 backgrounds, 1 corrupt: 100%|██████████| 2000/2000 [00:00<?, ?it/s]"
     ]
    },
    {
     "name": "stdout",
     "output_type": "stream",
     "text": [
      "\u001B[34m\u001B[1mtrain: \u001B[0mWARNING ⚠️ /home/sagemaker-user/project-danielteresa/Data/Yoloimages/train_prueba/images/13032020_144742image419520.jpg: ignoring corrupt image/label: broken data stream when reading image file\n"
     ]
    },
    {
     "name": "stderr",
     "output_type": "stream",
     "text": [
      "\n",
      "\u001B[34m\u001B[1mval: \u001B[0mScanning /home/sagemaker-user/project-danielteresa/Data/Yoloimages/val_prueba/labels.cache... 1996 images, 0 backgrounds, 4 corrupt: 100%|██████████| 2000/2000 [00:00<?, ?it/s]"
     ]
    },
    {
     "name": "stdout",
     "output_type": "stream",
     "text": [
      "\u001B[34m\u001B[1mval: \u001B[0mWARNING ⚠️ /home/sagemaker-user/project-danielteresa/Data/Yoloimages/val_prueba/images/02012020_082351image833616.jpg: ignoring corrupt image/label: image file is truncated (21 bytes not processed)\n",
      "\u001B[34m\u001B[1mval: \u001B[0mWARNING ⚠️ /home/sagemaker-user/project-danielteresa/Data/Yoloimages/val_prueba/images/13032020_144737image20659.jpg: ignoring corrupt image/label: image file is truncated (0 bytes not processed)\n",
      "\u001B[34m\u001B[1mval: \u001B[0mWARNING ⚠️ /home/sagemaker-user/project-danielteresa/Data/Yoloimages/val_prueba/images/25032020_091214image992948.jpg: ignoring corrupt image/label: broken data stream when reading image file\n",
      "\u001B[34m\u001B[1mval: \u001B[0mWARNING ⚠️ /home/sagemaker-user/project-danielteresa/Data/Yoloimages/val_prueba/images/28042020_081842image605326.jpg: ignoring corrupt image/label: image file is truncated (0 bytes not processed)\n"
     ]
    },
    {
     "name": "stderr",
     "output_type": "stream",
     "text": [
      "\n"
     ]
    },
    {
     "name": "stdout",
     "output_type": "stream",
     "text": [
      "Plotting labels to Models/runs/train/labels.jpg... \n",
      "\u001B[34m\u001B[1moptimizer:\u001B[0m Adam(lr=0.01, momentum=0.937) with parameter groups 86 weight(decay=0.0), 97 weight(decay=0.00078125), 96 bias(decay=0.0)\n",
      "\u001B[34m\u001B[1mTensorBoard: \u001B[0mmodel graph visualization added ✅\n",
      "Image sizes 640 train, 640 val\n",
      "Using 0 dataloader workers\n",
      "Logging results to \u001B[1mModels/runs/train\u001B[0m\n",
      "Starting training for 10 epochs...\n",
      "Closing dataloader mosaic\n",
      "\n",
      "      Epoch    GPU_mem   box_loss   seg_loss   cls_loss   dfl_loss  Instances       Size\n"
     ]
    },
    {
     "name": "stderr",
     "output_type": "stream",
     "text": [
      "       1/10         0G      2.297      4.577      4.291      2.389        248        640: 100%|██████████| 20/20 [22:16<00:00, 66.82s/it]\n",
      "                 Class     Images  Instances      Box(P          R      mAP50  mAP50-95)     Mask(P          R      mAP50  mAP50-95):   0%|          | 0/10 [00:00<?, ?it/s]"
     ]
    },
    {
     "name": "stdout",
     "output_type": "stream",
     "text": [
      "WARNING ⚠️ NMS time limit 12.000s exceeded\n"
     ]
    },
    {
     "name": "stderr",
     "output_type": "stream",
     "text": [
      "                 Class     Images  Instances      Box(P          R      mAP50  mAP50-95)     Mask(P          R      mAP50  mAP50-95):  10%|█         | 1/10 [00:52<07:52, 52.54s/it]"
     ]
    },
    {
     "name": "stdout",
     "output_type": "stream",
     "text": [
      "WARNING ⚠️ NMS time limit 12.000s exceeded\n"
     ]
    },
    {
     "name": "stderr",
     "output_type": "stream",
     "text": [
      "                 Class     Images  Instances      Box(P          R      mAP50  mAP50-95)     Mask(P          R      mAP50  mAP50-95):  20%|██        | 2/10 [01:46<07:05, 53.15s/it]"
     ]
    },
    {
     "name": "stdout",
     "output_type": "stream",
     "text": [
      "WARNING ⚠️ NMS time limit 12.000s exceeded\n"
     ]
    },
    {
     "name": "stderr",
     "output_type": "stream",
     "text": [
      "                 Class     Images  Instances      Box(P          R      mAP50  mAP50-95)     Mask(P          R      mAP50  mAP50-95):  30%|███       | 3/10 [02:40<06:14, 53.50s/it]"
     ]
    },
    {
     "name": "stdout",
     "output_type": "stream",
     "text": [
      "WARNING ⚠️ NMS time limit 12.000s exceeded\n"
     ]
    },
    {
     "name": "stderr",
     "output_type": "stream",
     "text": [
      "                 Class     Images  Instances      Box(P          R      mAP50  mAP50-95)     Mask(P          R      mAP50  mAP50-95):  40%|████      | 4/10 [03:33<05:21, 53.57s/it]"
     ]
    },
    {
     "name": "stdout",
     "output_type": "stream",
     "text": [
      "WARNING ⚠️ NMS time limit 12.000s exceeded\n"
     ]
    },
    {
     "name": "stderr",
     "output_type": "stream",
     "text": [
      "                 Class     Images  Instances      Box(P          R      mAP50  mAP50-95)     Mask(P          R      mAP50  mAP50-95):  50%|█████     | 5/10 [04:26<04:27, 53.47s/it]"
     ]
    },
    {
     "name": "stdout",
     "output_type": "stream",
     "text": [
      "WARNING ⚠️ NMS time limit 12.000s exceeded\n"
     ]
    },
    {
     "name": "stderr",
     "output_type": "stream",
     "text": [
      "                 Class     Images  Instances      Box(P          R      mAP50  mAP50-95)     Mask(P          R      mAP50  mAP50-95):  60%|██████    | 6/10 [05:20<03:34, 53.61s/it]"
     ]
    },
    {
     "name": "stdout",
     "output_type": "stream",
     "text": [
      "WARNING ⚠️ NMS time limit 12.000s exceeded\n"
     ]
    },
    {
     "name": "stderr",
     "output_type": "stream",
     "text": [
      "                 Class     Images  Instances      Box(P          R      mAP50  mAP50-95)     Mask(P          R      mAP50  mAP50-95):  70%|███████   | 7/10 [06:14<02:40, 53.59s/it]"
     ]
    },
    {
     "name": "stdout",
     "output_type": "stream",
     "text": [
      "WARNING ⚠️ NMS time limit 12.000s exceeded\n"
     ]
    },
    {
     "name": "stderr",
     "output_type": "stream",
     "text": [
      "                 Class     Images  Instances      Box(P          R      mAP50  mAP50-95)     Mask(P          R      mAP50  mAP50-95):  80%|████████  | 8/10 [07:08<01:47, 53.74s/it]"
     ]
    },
    {
     "name": "stdout",
     "output_type": "stream",
     "text": [
      "WARNING ⚠️ NMS time limit 12.000s exceeded\n"
     ]
    },
    {
     "name": "stderr",
     "output_type": "stream",
     "text": [
      "                 Class     Images  Instances      Box(P          R      mAP50  mAP50-95)     Mask(P          R      mAP50  mAP50-95):  90%|█████████ | 9/10 [08:01<00:53, 53.66s/it]"
     ]
    },
    {
     "name": "stdout",
     "output_type": "stream",
     "text": [
      "WARNING ⚠️ NMS time limit 11.800s exceeded\n"
     ]
    },
    {
     "name": "stderr",
     "output_type": "stream",
     "text": [
      "                 Class     Images  Instances      Box(P          R      mAP50  mAP50-95)     Mask(P          R      mAP50  mAP50-95): 100%|██████████| 10/10 [09:07<00:00, 54.77s/it]"
     ]
    },
    {
     "name": "stdout",
     "output_type": "stream",
     "text": [
      "                   all       1996       5128          0          0          0          0          0          0          0          0\n"
     ]
    },
    {
     "name": "stderr",
     "output_type": "stream",
     "text": [
      "\n"
     ]
    },
    {
     "name": "stdout",
     "output_type": "stream",
     "text": [
      "\n",
      "      Epoch    GPU_mem   box_loss   seg_loss   cls_loss   dfl_loss  Instances       Size\n"
     ]
    },
    {
     "name": "stderr",
     "output_type": "stream",
     "text": [
      "       2/10         0G      2.616      4.689      4.137      2.786        273        640: 100%|██████████| 20/20 [22:15<00:00, 66.75s/it]\n",
      "                 Class     Images  Instances      Box(P          R      mAP50  mAP50-95)     Mask(P          R      mAP50  mAP50-95):   0%|          | 0/10 [00:00<?, ?it/s]"
     ]
    },
    {
     "name": "stdout",
     "output_type": "stream",
     "text": [
      "WARNING ⚠️ NMS time limit 12.000s exceeded\n"
     ]
    },
    {
     "name": "stderr",
     "output_type": "stream",
     "text": [
      "                 Class     Images  Instances      Box(P          R      mAP50  mAP50-95)     Mask(P          R      mAP50  mAP50-95):  10%|█         | 1/10 [00:53<08:00, 53.37s/it]"
     ]
    },
    {
     "name": "stdout",
     "output_type": "stream",
     "text": [
      "WARNING ⚠️ NMS time limit 12.000s exceeded\n"
     ]
    },
    {
     "name": "stderr",
     "output_type": "stream",
     "text": [
      "                 Class     Images  Instances      Box(P          R      mAP50  mAP50-95)     Mask(P          R      mAP50  mAP50-95):  20%|██        | 2/10 [01:47<07:12, 54.02s/it]"
     ]
    },
    {
     "name": "stdout",
     "output_type": "stream",
     "text": [
      "WARNING ⚠️ NMS time limit 12.000s exceeded\n"
     ]
    },
    {
     "name": "stderr",
     "output_type": "stream",
     "text": [
      "                 Class     Images  Instances      Box(P          R      mAP50  mAP50-95)     Mask(P          R      mAP50  mAP50-95):  30%|███       | 3/10 [02:41<06:18, 54.08s/it]"
     ]
    },
    {
     "name": "stdout",
     "output_type": "stream",
     "text": [
      "WARNING ⚠️ NMS time limit 12.000s exceeded\n"
     ]
    },
    {
     "name": "stderr",
     "output_type": "stream",
     "text": [
      "                 Class     Images  Instances      Box(P          R      mAP50  mAP50-95)     Mask(P          R      mAP50  mAP50-95):  40%|████      | 4/10 [03:35<05:23, 53.97s/it]"
     ]
    },
    {
     "name": "stdout",
     "output_type": "stream",
     "text": [
      "WARNING ⚠️ NMS time limit 12.000s exceeded\n"
     ]
    },
    {
     "name": "stderr",
     "output_type": "stream",
     "text": [
      "                 Class     Images  Instances      Box(P          R      mAP50  mAP50-95)     Mask(P          R      mAP50  mAP50-95):  50%|█████     | 5/10 [04:29<04:29, 53.86s/it]"
     ]
    },
    {
     "name": "stdout",
     "output_type": "stream",
     "text": [
      "WARNING ⚠️ NMS time limit 12.000s exceeded\n"
     ]
    },
    {
     "name": "stderr",
     "output_type": "stream",
     "text": [
      "                 Class     Images  Instances      Box(P          R      mAP50  mAP50-95)     Mask(P          R      mAP50  mAP50-95):  60%|██████    | 6/10 [05:23<03:35, 53.78s/it]"
     ]
    },
    {
     "name": "stdout",
     "output_type": "stream",
     "text": [
      "WARNING ⚠️ NMS time limit 12.000s exceeded\n"
     ]
    },
    {
     "name": "stderr",
     "output_type": "stream",
     "text": [
      "                 Class     Images  Instances      Box(P          R      mAP50  mAP50-95)     Mask(P          R      mAP50  mAP50-95):  70%|███████   | 7/10 [06:16<02:41, 53.68s/it]"
     ]
    },
    {
     "name": "stdout",
     "output_type": "stream",
     "text": [
      "WARNING ⚠️ NMS time limit 12.000s exceeded\n"
     ]
    },
    {
     "name": "stderr",
     "output_type": "stream",
     "text": [
      "                 Class     Images  Instances      Box(P          R      mAP50  mAP50-95)     Mask(P          R      mAP50  mAP50-95):  80%|████████  | 8/10 [07:10<01:47, 53.72s/it]"
     ]
    },
    {
     "name": "stdout",
     "output_type": "stream",
     "text": [
      "WARNING ⚠️ NMS time limit 12.000s exceeded\n"
     ]
    },
    {
     "name": "stderr",
     "output_type": "stream",
     "text": [
      "                 Class     Images  Instances      Box(P          R      mAP50  mAP50-95)     Mask(P          R      mAP50  mAP50-95):  90%|█████████ | 9/10 [08:04<00:53, 53.81s/it]"
     ]
    },
    {
     "name": "stdout",
     "output_type": "stream",
     "text": [
      "WARNING ⚠️ NMS time limit 11.800s exceeded\n"
     ]
    },
    {
     "name": "stderr",
     "output_type": "stream",
     "text": [
      "                 Class     Images  Instances      Box(P          R      mAP50  mAP50-95)     Mask(P          R      mAP50  mAP50-95): 100%|██████████| 10/10 [09:09<00:00, 54.92s/it]"
     ]
    },
    {
     "name": "stdout",
     "output_type": "stream",
     "text": [
      "                   all       1996       5128   7.45e-05    0.00148   3.77e-05   8.45e-06   2.79e-05   0.000382   1.43e-05   3.34e-06\n"
     ]
    },
    {
     "name": "stderr",
     "output_type": "stream",
     "text": [
      "\n"
     ]
    },
    {
     "name": "stdout",
     "output_type": "stream",
     "text": [
      "\n",
      "      Epoch    GPU_mem   box_loss   seg_loss   cls_loss   dfl_loss  Instances       Size\n"
     ]
    },
    {
     "name": "stderr",
     "output_type": "stream",
     "text": [
      "       3/10         0G      2.538      4.674      4.087      2.697        242        640: 100%|██████████| 20/20 [22:13<00:00, 66.65s/it]\n",
      "                 Class     Images  Instances      Box(P          R      mAP50  mAP50-95)     Mask(P          R      mAP50  mAP50-95):   0%|          | 0/10 [00:00<?, ?it/s]"
     ]
    },
    {
     "name": "stdout",
     "output_type": "stream",
     "text": [
      "WARNING ⚠️ NMS time limit 12.000s exceeded\n"
     ]
    },
    {
     "name": "stderr",
     "output_type": "stream",
     "text": [
      "                 Class     Images  Instances      Box(P          R      mAP50  mAP50-95)     Mask(P          R      mAP50  mAP50-95):  10%|█         | 1/10 [00:53<08:01, 53.54s/it]"
     ]
    },
    {
     "name": "stdout",
     "output_type": "stream",
     "text": [
      "WARNING ⚠️ NMS time limit 12.000s exceeded\n"
     ]
    },
    {
     "name": "stderr",
     "output_type": "stream",
     "text": [
      "                 Class     Images  Instances      Box(P          R      mAP50  mAP50-95)     Mask(P          R      mAP50  mAP50-95):  20%|██        | 2/10 [01:47<07:11, 53.88s/it]"
     ]
    },
    {
     "name": "stdout",
     "output_type": "stream",
     "text": [
      "WARNING ⚠️ NMS time limit 12.000s exceeded\n"
     ]
    },
    {
     "name": "stderr",
     "output_type": "stream",
     "text": [
      "                 Class     Images  Instances      Box(P          R      mAP50  mAP50-95)     Mask(P          R      mAP50  mAP50-95):  30%|███       | 3/10 [02:42<06:19, 54.19s/it]"
     ]
    },
    {
     "name": "stdout",
     "output_type": "stream",
     "text": [
      "WARNING ⚠️ NMS time limit 12.000s exceeded\n"
     ]
    },
    {
     "name": "stderr",
     "output_type": "stream",
     "text": [
      "                 Class     Images  Instances      Box(P          R      mAP50  mAP50-95)     Mask(P          R      mAP50  mAP50-95):  40%|████      | 4/10 [03:36<05:25, 54.32s/it]"
     ]
    },
    {
     "name": "stdout",
     "output_type": "stream",
     "text": [
      "WARNING ⚠️ NMS time limit 12.000s exceeded\n"
     ]
    },
    {
     "name": "stderr",
     "output_type": "stream",
     "text": [
      "                 Class     Images  Instances      Box(P          R      mAP50  mAP50-95)     Mask(P          R      mAP50  mAP50-95):  50%|█████     | 5/10 [04:29<04:29, 53.94s/it]"
     ]
    },
    {
     "name": "stdout",
     "output_type": "stream",
     "text": [
      "WARNING ⚠️ NMS time limit 12.000s exceeded\n"
     ]
    },
    {
     "name": "stderr",
     "output_type": "stream",
     "text": [
      "                 Class     Images  Instances      Box(P          R      mAP50  mAP50-95)     Mask(P          R      mAP50  mAP50-95):  60%|██████    | 6/10 [05:24<03:36, 54.16s/it]"
     ]
    },
    {
     "name": "stdout",
     "output_type": "stream",
     "text": [
      "WARNING ⚠️ NMS time limit 12.000s exceeded\n"
     ]
    },
    {
     "name": "stderr",
     "output_type": "stream",
     "text": [
      "                 Class     Images  Instances      Box(P          R      mAP50  mAP50-95)     Mask(P          R      mAP50  mAP50-95):  70%|███████   | 7/10 [06:18<02:42, 54.13s/it]"
     ]
    },
    {
     "name": "stdout",
     "output_type": "stream",
     "text": [
      "WARNING ⚠️ NMS time limit 12.000s exceeded\n"
     ]
    },
    {
     "name": "stderr",
     "output_type": "stream",
     "text": [
      "                 Class     Images  Instances      Box(P          R      mAP50  mAP50-95)     Mask(P          R      mAP50  mAP50-95):  80%|████████  | 8/10 [07:13<01:48, 54.37s/it]"
     ]
    },
    {
     "name": "stdout",
     "output_type": "stream",
     "text": [
      "WARNING ⚠️ NMS time limit 12.000s exceeded\n"
     ]
    },
    {
     "name": "stderr",
     "output_type": "stream",
     "text": [
      "                 Class     Images  Instances      Box(P          R      mAP50  mAP50-95)     Mask(P          R      mAP50  mAP50-95):  90%|█████████ | 9/10 [08:08<00:54, 54.45s/it]"
     ]
    },
    {
     "name": "stdout",
     "output_type": "stream",
     "text": [
      "WARNING ⚠️ NMS time limit 11.800s exceeded\n"
     ]
    },
    {
     "name": "stderr",
     "output_type": "stream",
     "text": [
      "                 Class     Images  Instances      Box(P          R      mAP50  mAP50-95)     Mask(P          R      mAP50  mAP50-95): 100%|██████████| 10/10 [09:13<00:00, 55.38s/it]"
     ]
    },
    {
     "name": "stdout",
     "output_type": "stream",
     "text": [
      "                   all       1996       5128   7.45e-05    0.00148   3.77e-05   8.45e-06   2.79e-05   0.000382   1.43e-05   3.34e-06\n"
     ]
    },
    {
     "name": "stderr",
     "output_type": "stream",
     "text": [
      "\n"
     ]
    },
    {
     "name": "stdout",
     "output_type": "stream",
     "text": [
      "\n",
      "      Epoch    GPU_mem   box_loss   seg_loss   cls_loss   dfl_loss  Instances       Size\n"
     ]
    },
    {
     "name": "stderr",
     "output_type": "stream",
     "text": [
      "       4/10         0G      2.476      4.634      4.051      2.685        278        640: 100%|██████████| 20/20 [22:14<00:00, 66.71s/it]\n",
      "                 Class     Images  Instances      Box(P          R      mAP50  mAP50-95)     Mask(P          R      mAP50  mAP50-95):   0%|          | 0/10 [00:00<?, ?it/s]"
     ]
    },
    {
     "name": "stdout",
     "output_type": "stream",
     "text": [
      "WARNING ⚠️ NMS time limit 12.000s exceeded\n"
     ]
    },
    {
     "name": "stderr",
     "output_type": "stream",
     "text": [
      "                 Class     Images  Instances      Box(P          R      mAP50  mAP50-95)     Mask(P          R      mAP50  mAP50-95):  10%|█         | 1/10 [00:52<07:51, 52.40s/it]"
     ]
    },
    {
     "name": "stdout",
     "output_type": "stream",
     "text": [
      "WARNING ⚠️ NMS time limit 12.000s exceeded\n"
     ]
    },
    {
     "name": "stderr",
     "output_type": "stream",
     "text": [
      "                 Class     Images  Instances      Box(P          R      mAP50  mAP50-95)     Mask(P          R      mAP50  mAP50-95):  20%|██        | 2/10 [01:45<07:00, 52.54s/it]"
     ]
    },
    {
     "name": "stdout",
     "output_type": "stream",
     "text": [
      "WARNING ⚠️ NMS time limit 12.000s exceeded\n"
     ]
    },
    {
     "name": "stderr",
     "output_type": "stream",
     "text": [
      "                 Class     Images  Instances      Box(P          R      mAP50  mAP50-95)     Mask(P          R      mAP50  mAP50-95):  30%|███       | 3/10 [02:37<06:07, 52.50s/it]"
     ]
    },
    {
     "name": "stdout",
     "output_type": "stream",
     "text": [
      "WARNING ⚠️ NMS time limit 12.000s exceeded\n"
     ]
    },
    {
     "name": "stderr",
     "output_type": "stream",
     "text": [
      "                 Class     Images  Instances      Box(P          R      mAP50  mAP50-95)     Mask(P          R      mAP50  mAP50-95):  40%|████      | 4/10 [03:30<05:15, 52.52s/it]"
     ]
    },
    {
     "name": "stdout",
     "output_type": "stream",
     "text": [
      "WARNING ⚠️ NMS time limit 12.000s exceeded\n"
     ]
    },
    {
     "name": "stderr",
     "output_type": "stream",
     "text": [
      "                 Class     Images  Instances      Box(P          R      mAP50  mAP50-95)     Mask(P          R      mAP50  mAP50-95):  50%|█████     | 5/10 [04:22<04:22, 52.56s/it]"
     ]
    },
    {
     "name": "stdout",
     "output_type": "stream",
     "text": [
      "WARNING ⚠️ NMS time limit 12.000s exceeded\n"
     ]
    },
    {
     "name": "stderr",
     "output_type": "stream",
     "text": [
      "                 Class     Images  Instances      Box(P          R      mAP50  mAP50-95)     Mask(P          R      mAP50  mAP50-95):  60%|██████    | 6/10 [05:15<03:30, 52.60s/it]"
     ]
    },
    {
     "name": "stdout",
     "output_type": "stream",
     "text": [
      "WARNING ⚠️ NMS time limit 12.000s exceeded\n"
     ]
    },
    {
     "name": "stderr",
     "output_type": "stream",
     "text": [
      "                 Class     Images  Instances      Box(P          R      mAP50  mAP50-95)     Mask(P          R      mAP50  mAP50-95):  70%|███████   | 7/10 [06:07<02:37, 52.59s/it]"
     ]
    },
    {
     "name": "stdout",
     "output_type": "stream",
     "text": [
      "WARNING ⚠️ NMS time limit 12.000s exceeded\n"
     ]
    },
    {
     "name": "stderr",
     "output_type": "stream",
     "text": [
      "                 Class     Images  Instances      Box(P          R      mAP50  mAP50-95)     Mask(P          R      mAP50  mAP50-95):  80%|████████  | 8/10 [07:00<01:45, 52.57s/it]"
     ]
    },
    {
     "name": "stdout",
     "output_type": "stream",
     "text": [
      "WARNING ⚠️ NMS time limit 12.000s exceeded\n"
     ]
    },
    {
     "name": "stderr",
     "output_type": "stream",
     "text": [
      "                 Class     Images  Instances      Box(P          R      mAP50  mAP50-95)     Mask(P          R      mAP50  mAP50-95):  90%|█████████ | 9/10 [07:53<00:52, 52.57s/it]"
     ]
    },
    {
     "name": "stdout",
     "output_type": "stream",
     "text": [
      "WARNING ⚠️ NMS time limit 11.800s exceeded\n"
     ]
    },
    {
     "name": "stderr",
     "output_type": "stream",
     "text": [
      "                 Class     Images  Instances      Box(P          R      mAP50  mAP50-95)     Mask(P          R      mAP50  mAP50-95): 100%|██████████| 10/10 [08:56<00:00, 53.67s/it]"
     ]
    },
    {
     "name": "stdout",
     "output_type": "stream",
     "text": [
      "                   all       1996       5128   1.85e-06   0.000275   9.31e-07   2.79e-07          0          0          0          0\n"
     ]
    },
    {
     "name": "stderr",
     "output_type": "stream",
     "text": [
      "\n"
     ]
    },
    {
     "name": "stdout",
     "output_type": "stream",
     "text": [
      "\n",
      "      Epoch    GPU_mem   box_loss   seg_loss   cls_loss   dfl_loss  Instances       Size\n"
     ]
    },
    {
     "name": "stderr",
     "output_type": "stream",
     "text": [
      "       5/10         0G       2.45      4.583      3.999      2.644        237        640: 100%|██████████| 20/20 [22:11<00:00, 66.58s/it]\n",
      "                 Class     Images  Instances      Box(P          R      mAP50  mAP50-95)     Mask(P          R      mAP50  mAP50-95):   0%|          | 0/10 [00:00<?, ?it/s]"
     ]
    },
    {
     "name": "stdout",
     "output_type": "stream",
     "text": [
      "WARNING ⚠️ NMS time limit 12.000s exceeded\n"
     ]
    },
    {
     "name": "stderr",
     "output_type": "stream",
     "text": [
      "                 Class     Images  Instances      Box(P          R      mAP50  mAP50-95)     Mask(P          R      mAP50  mAP50-95):  10%|█         | 1/10 [00:51<07:46, 51.83s/it]"
     ]
    },
    {
     "name": "stdout",
     "output_type": "stream",
     "text": [
      "WARNING ⚠️ NMS time limit 12.000s exceeded\n"
     ]
    },
    {
     "name": "stderr",
     "output_type": "stream",
     "text": [
      "                 Class     Images  Instances      Box(P          R      mAP50  mAP50-95)     Mask(P          R      mAP50  mAP50-95):  20%|██        | 2/10 [01:44<06:56, 52.07s/it]"
     ]
    },
    {
     "name": "stdout",
     "output_type": "stream",
     "text": [
      "WARNING ⚠️ NMS time limit 12.000s exceeded\n"
     ]
    },
    {
     "name": "stderr",
     "output_type": "stream",
     "text": [
      "                 Class     Images  Instances      Box(P          R      mAP50  mAP50-95)     Mask(P          R      mAP50  mAP50-95):  30%|███       | 3/10 [02:36<06:04, 52.02s/it]"
     ]
    },
    {
     "name": "stdout",
     "output_type": "stream",
     "text": [
      "WARNING ⚠️ NMS time limit 12.000s exceeded\n"
     ]
    },
    {
     "name": "stderr",
     "output_type": "stream",
     "text": [
      "                 Class     Images  Instances      Box(P          R      mAP50  mAP50-95)     Mask(P          R      mAP50  mAP50-95):  40%|████      | 4/10 [03:27<05:11, 51.97s/it]"
     ]
    },
    {
     "name": "stdout",
     "output_type": "stream",
     "text": [
      "WARNING ⚠️ NMS time limit 12.000s exceeded\n"
     ]
    },
    {
     "name": "stderr",
     "output_type": "stream",
     "text": [
      "                 Class     Images  Instances      Box(P          R      mAP50  mAP50-95)     Mask(P          R      mAP50  mAP50-95):  50%|█████     | 5/10 [04:20<04:20, 52.05s/it]"
     ]
    },
    {
     "name": "stdout",
     "output_type": "stream",
     "text": [
      "WARNING ⚠️ NMS time limit 12.000s exceeded\n"
     ]
    },
    {
     "name": "stderr",
     "output_type": "stream",
     "text": [
      "                 Class     Images  Instances      Box(P          R      mAP50  mAP50-95)     Mask(P          R      mAP50  mAP50-95):  60%|██████    | 6/10 [05:12<03:28, 52.09s/it]"
     ]
    },
    {
     "name": "stdout",
     "output_type": "stream",
     "text": [
      "WARNING ⚠️ NMS time limit 12.000s exceeded\n"
     ]
    },
    {
     "name": "stderr",
     "output_type": "stream",
     "text": [
      "                 Class     Images  Instances      Box(P          R      mAP50  mAP50-95)     Mask(P          R      mAP50  mAP50-95):  70%|███████   | 7/10 [06:04<02:36, 52.18s/it]"
     ]
    },
    {
     "name": "stdout",
     "output_type": "stream",
     "text": [
      "WARNING ⚠️ NMS time limit 12.000s exceeded\n"
     ]
    },
    {
     "name": "stderr",
     "output_type": "stream",
     "text": [
      "                 Class     Images  Instances      Box(P          R      mAP50  mAP50-95)     Mask(P          R      mAP50  mAP50-95):  80%|████████  | 8/10 [06:56<01:44, 52.14s/it]"
     ]
    },
    {
     "name": "stdout",
     "output_type": "stream",
     "text": [
      "WARNING ⚠️ NMS time limit 12.000s exceeded\n"
     ]
    },
    {
     "name": "stderr",
     "output_type": "stream",
     "text": [
      "                 Class     Images  Instances      Box(P          R      mAP50  mAP50-95)     Mask(P          R      mAP50  mAP50-95):  90%|█████████ | 9/10 [07:48<00:52, 52.18s/it]"
     ]
    },
    {
     "name": "stdout",
     "output_type": "stream",
     "text": [
      "WARNING ⚠️ NMS time limit 11.800s exceeded\n"
     ]
    },
    {
     "name": "stderr",
     "output_type": "stream",
     "text": [
      "                 Class     Images  Instances      Box(P          R      mAP50  mAP50-95)     Mask(P          R      mAP50  mAP50-95): 100%|██████████| 10/10 [08:52<00:00, 53.22s/it]"
     ]
    },
    {
     "name": "stdout",
     "output_type": "stream",
     "text": [
      "                   all       1996       5128    0.00115    0.00859    0.00063   0.000174   0.000182    0.00506   0.000131   5.63e-05\n"
     ]
    },
    {
     "name": "stderr",
     "output_type": "stream",
     "text": [
      "\n"
     ]
    },
    {
     "name": "stdout",
     "output_type": "stream",
     "text": [
      "\n",
      "      Epoch    GPU_mem   box_loss   seg_loss   cls_loss   dfl_loss  Instances       Size\n"
     ]
    },
    {
     "name": "stderr",
     "output_type": "stream",
     "text": [
      "       6/10         0G      2.407      4.539      3.958      2.572        240        640: 100%|██████████| 20/20 [22:15<00:00, 66.80s/it]\n",
      "                 Class     Images  Instances      Box(P          R      mAP50  mAP50-95)     Mask(P          R      mAP50  mAP50-95):   0%|          | 0/10 [00:00<?, ?it/s]"
     ]
    },
    {
     "name": "stdout",
     "output_type": "stream",
     "text": [
      "WARNING ⚠️ NMS time limit 12.000s exceeded\n"
     ]
    },
    {
     "name": "stderr",
     "output_type": "stream",
     "text": [
      "                 Class     Images  Instances      Box(P          R      mAP50  mAP50-95)     Mask(P          R      mAP50  mAP50-95):  10%|█         | 1/10 [00:51<07:42, 51.42s/it]"
     ]
    },
    {
     "name": "stdout",
     "output_type": "stream",
     "text": [
      "WARNING ⚠️ NMS time limit 12.000s exceeded\n"
     ]
    },
    {
     "name": "stderr",
     "output_type": "stream",
     "text": [
      "                 Class     Images  Instances      Box(P          R      mAP50  mAP50-95)     Mask(P          R      mAP50  mAP50-95):  20%|██        | 2/10 [01:43<06:53, 51.64s/it]"
     ]
    },
    {
     "name": "stdout",
     "output_type": "stream",
     "text": [
      "WARNING ⚠️ NMS time limit 12.000s exceeded\n"
     ]
    },
    {
     "name": "stderr",
     "output_type": "stream",
     "text": [
      "                 Class     Images  Instances      Box(P          R      mAP50  mAP50-95)     Mask(P          R      mAP50  mAP50-95):  30%|███       | 3/10 [02:34<06:01, 51.61s/it]"
     ]
    },
    {
     "name": "stdout",
     "output_type": "stream",
     "text": [
      "WARNING ⚠️ NMS time limit 12.000s exceeded\n"
     ]
    },
    {
     "name": "stderr",
     "output_type": "stream",
     "text": [
      "                 Class     Images  Instances      Box(P          R      mAP50  mAP50-95)     Mask(P          R      mAP50  mAP50-95):  40%|████      | 4/10 [03:26<05:10, 51.70s/it]"
     ]
    },
    {
     "name": "stdout",
     "output_type": "stream",
     "text": [
      "WARNING ⚠️ NMS time limit 12.000s exceeded\n"
     ]
    },
    {
     "name": "stderr",
     "output_type": "stream",
     "text": [
      "                 Class     Images  Instances      Box(P          R      mAP50  mAP50-95)     Mask(P          R      mAP50  mAP50-95):  50%|█████     | 5/10 [04:18<04:18, 51.65s/it]"
     ]
    },
    {
     "name": "stdout",
     "output_type": "stream",
     "text": [
      "WARNING ⚠️ NMS time limit 12.000s exceeded\n"
     ]
    },
    {
     "name": "stderr",
     "output_type": "stream",
     "text": [
      "                 Class     Images  Instances      Box(P          R      mAP50  mAP50-95)     Mask(P          R      mAP50  mAP50-95):  60%|██████    | 6/10 [05:10<03:27, 51.81s/it]"
     ]
    },
    {
     "name": "stdout",
     "output_type": "stream",
     "text": [
      "WARNING ⚠️ NMS time limit 12.000s exceeded\n"
     ]
    },
    {
     "name": "stderr",
     "output_type": "stream",
     "text": [
      "                 Class     Images  Instances      Box(P          R      mAP50  mAP50-95)     Mask(P          R      mAP50  mAP50-95):  70%|███████   | 7/10 [06:02<02:35, 51.81s/it]"
     ]
    },
    {
     "name": "stdout",
     "output_type": "stream",
     "text": [
      "WARNING ⚠️ NMS time limit 12.000s exceeded\n"
     ]
    },
    {
     "name": "stderr",
     "output_type": "stream",
     "text": [
      "                 Class     Images  Instances      Box(P          R      mAP50  mAP50-95)     Mask(P          R      mAP50  mAP50-95):  80%|████████  | 8/10 [06:53<01:43, 51.78s/it]"
     ]
    },
    {
     "name": "stdout",
     "output_type": "stream",
     "text": [
      "WARNING ⚠️ NMS time limit 12.000s exceeded\n"
     ]
    },
    {
     "name": "stderr",
     "output_type": "stream",
     "text": [
      "                 Class     Images  Instances      Box(P          R      mAP50  mAP50-95)     Mask(P          R      mAP50  mAP50-95):  90%|█████████ | 9/10 [07:45<00:51, 51.80s/it]"
     ]
    },
    {
     "name": "stdout",
     "output_type": "stream",
     "text": [
      "WARNING ⚠️ NMS time limit 11.800s exceeded\n"
     ]
    },
    {
     "name": "stderr",
     "output_type": "stream",
     "text": [
      "                 Class     Images  Instances      Box(P          R      mAP50  mAP50-95)     Mask(P          R      mAP50  mAP50-95): 100%|██████████| 10/10 [08:48<00:00, 52.84s/it]"
     ]
    },
    {
     "name": "stdout",
     "output_type": "stream",
     "text": [
      "                   all       1996       5128      0.223     0.0073   0.000812    0.00033      0.223    0.00341   0.000487   0.000176\n"
     ]
    },
    {
     "name": "stderr",
     "output_type": "stream",
     "text": [
      "\n"
     ]
    },
    {
     "name": "stdout",
     "output_type": "stream",
     "text": [
      "\n",
      "      Epoch    GPU_mem   box_loss   seg_loss   cls_loss   dfl_loss  Instances       Size\n"
     ]
    },
    {
     "name": "stderr",
     "output_type": "stream",
     "text": [
      "       7/10         0G      2.332      4.442      3.898      2.516        265        640: 100%|██████████| 20/20 [22:09<00:00, 66.46s/it]\n",
      "                 Class     Images  Instances      Box(P          R      mAP50  mAP50-95)     Mask(P          R      mAP50  mAP50-95):   0%|          | 0/10 [00:00<?, ?it/s]"
     ]
    },
    {
     "name": "stdout",
     "output_type": "stream",
     "text": [
      "WARNING ⚠️ NMS time limit 12.000s exceeded\n"
     ]
    },
    {
     "name": "stderr",
     "output_type": "stream",
     "text": [
      "                 Class     Images  Instances      Box(P          R      mAP50  mAP50-95)     Mask(P          R      mAP50  mAP50-95):  10%|█         | 1/10 [00:51<07:44, 51.64s/it]"
     ]
    },
    {
     "name": "stdout",
     "output_type": "stream",
     "text": [
      "WARNING ⚠️ NMS time limit 12.000s exceeded\n"
     ]
    },
    {
     "name": "stderr",
     "output_type": "stream",
     "text": [
      "                 Class     Images  Instances      Box(P          R      mAP50  mAP50-95)     Mask(P          R      mAP50  mAP50-95):  20%|██        | 2/10 [01:43<06:54, 51.81s/it]"
     ]
    },
    {
     "name": "stdout",
     "output_type": "stream",
     "text": [
      "WARNING ⚠️ NMS time limit 12.000s exceeded\n"
     ]
    },
    {
     "name": "stderr",
     "output_type": "stream",
     "text": [
      "                 Class     Images  Instances      Box(P          R      mAP50  mAP50-95)     Mask(P          R      mAP50  mAP50-95):  30%|███       | 3/10 [02:35<06:02, 51.83s/it]"
     ]
    },
    {
     "name": "stdout",
     "output_type": "stream",
     "text": [
      "WARNING ⚠️ NMS time limit 12.000s exceeded\n"
     ]
    },
    {
     "name": "stderr",
     "output_type": "stream",
     "text": [
      "                 Class     Images  Instances      Box(P          R      mAP50  mAP50-95)     Mask(P          R      mAP50  mAP50-95):  40%|████      | 4/10 [03:27<05:11, 51.86s/it]"
     ]
    },
    {
     "name": "stdout",
     "output_type": "stream",
     "text": [
      "WARNING ⚠️ NMS time limit 12.000s exceeded\n"
     ]
    },
    {
     "name": "stderr",
     "output_type": "stream",
     "text": [
      "                 Class     Images  Instances      Box(P          R      mAP50  mAP50-95)     Mask(P          R      mAP50  mAP50-95):  50%|█████     | 5/10 [04:19<04:19, 51.96s/it]"
     ]
    },
    {
     "name": "stdout",
     "output_type": "stream",
     "text": [
      "WARNING ⚠️ NMS time limit 12.000s exceeded\n"
     ]
    },
    {
     "name": "stderr",
     "output_type": "stream",
     "text": [
      "                 Class     Images  Instances      Box(P          R      mAP50  mAP50-95)     Mask(P          R      mAP50  mAP50-95):  60%|██████    | 6/10 [05:11<03:27, 51.93s/it]"
     ]
    },
    {
     "name": "stdout",
     "output_type": "stream",
     "text": [
      "WARNING ⚠️ NMS time limit 12.000s exceeded\n"
     ]
    },
    {
     "name": "stderr",
     "output_type": "stream",
     "text": [
      "                 Class     Images  Instances      Box(P          R      mAP50  mAP50-95)     Mask(P          R      mAP50  mAP50-95):  70%|███████   | 7/10 [06:03<02:36, 52.10s/it]"
     ]
    },
    {
     "name": "stdout",
     "output_type": "stream",
     "text": [
      "WARNING ⚠️ NMS time limit 12.000s exceeded\n"
     ]
    },
    {
     "name": "stderr",
     "output_type": "stream",
     "text": [
      "                 Class     Images  Instances      Box(P          R      mAP50  mAP50-95)     Mask(P          R      mAP50  mAP50-95):  80%|████████  | 8/10 [06:56<01:44, 52.18s/it]"
     ]
    },
    {
     "name": "stdout",
     "output_type": "stream",
     "text": [
      "WARNING ⚠️ NMS time limit 12.000s exceeded\n"
     ]
    },
    {
     "name": "stderr",
     "output_type": "stream",
     "text": [
      "                 Class     Images  Instances      Box(P          R      mAP50  mAP50-95)     Mask(P          R      mAP50  mAP50-95):  90%|█████████ | 9/10 [07:48<00:52, 52.20s/it]"
     ]
    },
    {
     "name": "stdout",
     "output_type": "stream",
     "text": [
      "WARNING ⚠️ NMS time limit 11.800s exceeded\n"
     ]
    },
    {
     "name": "stderr",
     "output_type": "stream",
     "text": [
      "                 Class     Images  Instances      Box(P          R      mAP50  mAP50-95)     Mask(P          R      mAP50  mAP50-95): 100%|██████████| 10/10 [08:51<00:00, 53.18s/it]"
     ]
    },
    {
     "name": "stdout",
     "output_type": "stream",
     "text": [
      "                   all       1996       5128       0.23     0.0397    0.00455    0.00169      0.227     0.0278    0.00198   0.000633\n"
     ]
    },
    {
     "name": "stderr",
     "output_type": "stream",
     "text": [
      "\n"
     ]
    },
    {
     "name": "stdout",
     "output_type": "stream",
     "text": [
      "\n",
      "      Epoch    GPU_mem   box_loss   seg_loss   cls_loss   dfl_loss  Instances       Size\n"
     ]
    },
    {
     "name": "stderr",
     "output_type": "stream",
     "text": [
      "       8/10         0G      2.266      4.355      3.778      2.424        263        640: 100%|██████████| 20/20 [22:18<00:00, 66.91s/it]\n",
      "                 Class     Images  Instances      Box(P          R      mAP50  mAP50-95)     Mask(P          R      mAP50  mAP50-95): 100%|██████████| 10/10 [07:56<00:00, 47.65s/it]\n"
     ]
    },
    {
     "name": "stdout",
     "output_type": "stream",
     "text": [
      "                   all       1996       5128      0.377      0.075     0.0269     0.0142      0.375     0.0347     0.0214    0.00928\n",
      "\n",
      "      Epoch    GPU_mem   box_loss   seg_loss   cls_loss   dfl_loss  Instances       Size\n"
     ]
    },
    {
     "name": "stderr",
     "output_type": "stream",
     "text": [
      "       9/10         0G      2.216      4.243      3.686      2.361        256        640: 100%|██████████| 20/20 [22:12<00:00, 66.61s/it]\n",
      "                 Class     Images  Instances      Box(P          R      mAP50  mAP50-95)     Mask(P          R      mAP50  mAP50-95):  90%|█████████ | 9/10 [07:24<00:49, 49.60s/it]"
     ]
    },
    {
     "name": "stdout",
     "output_type": "stream",
     "text": [
      "WARNING ⚠️ NMS time limit 11.800s exceeded\n"
     ]
    },
    {
     "name": "stderr",
     "output_type": "stream",
     "text": [
      "                 Class     Images  Instances      Box(P          R      mAP50  mAP50-95)     Mask(P          R      mAP50  mAP50-95): 100%|██████████| 10/10 [08:28<00:00, 50.86s/it]\n"
     ]
    },
    {
     "name": "stdout",
     "output_type": "stream",
     "text": [
      "                   all       1996       5128      0.288     0.0722     0.0341      0.016      0.285     0.0699     0.0306     0.0134\n",
      "\n",
      "      Epoch    GPU_mem   box_loss   seg_loss   cls_loss   dfl_loss  Instances       Size\n"
     ]
    },
    {
     "name": "stderr",
     "output_type": "stream",
     "text": [
      "      10/10         0G      2.185      4.166      3.632      2.332        276        640: 100%|██████████| 20/20 [22:10<00:00, 66.50s/it]\n",
      "                 Class     Images  Instances      Box(P          R      mAP50  mAP50-95)     Mask(P          R      mAP50  mAP50-95): 100%|██████████| 10/10 [07:11<00:00, 43.18s/it]\n"
     ]
    },
    {
     "name": "stdout",
     "output_type": "stream",
     "text": [
      "                   all       1996       5128      0.418     0.0802      0.047     0.0238      0.412     0.0674     0.0362     0.0156\n",
      "\n",
      "10 epochs completed in 5.156 hours.\n",
      "Optimizer stripped from Models/runs/train/weights/last.pt, 54.8MB\n",
      "Optimizer stripped from Models/runs/train/weights/best.pt, 54.8MB\n",
      "\n",
      "Validating Models/runs/train/weights/best.pt...\n",
      "Ultralytics YOLOv8.2.70 🚀 Python-3.10.14 torch-2.0.0.post104 CPU (Intel Xeon Platinum 8488C)\n",
      "YOLOv8m-seg summary (fused): 245 layers, 27,227,595 parameters, 0 gradients, 110.0 GFLOPs\n"
     ]
    },
    {
     "name": "stderr",
     "output_type": "stream",
     "text": [
      "                 Class     Images  Instances      Box(P          R      mAP50  mAP50-95)     Mask(P          R      mAP50  mAP50-95): 100%|██████████| 10/10 [06:21<00:00, 38.19s/it]\n"
     ]
    },
    {
     "name": "stdout",
     "output_type": "stream",
     "text": [
      "                   all       1996       5128      0.418     0.0802      0.047     0.0238      0.411     0.0683     0.0362     0.0156\n",
      "              mis_lost        342        392      0.148      0.145     0.0633     0.0294      0.132       0.11     0.0481     0.0182\n",
      "              met_tear        568        808      0.058     0.0446      0.012    0.00359     0.0458     0.0285    0.00556    0.00143\n",
      "           met_scratch        973       2073     0.0485     0.0333     0.0102    0.00337     0.0425     0.0236    0.00545    0.00196\n",
      "           glass_crack        324        334      0.436      0.198      0.226      0.136      0.403      0.153      0.176     0.0823\n",
      "             mis_punct        243        316     0.0684      0.301      0.073     0.0282     0.0744      0.301     0.0738     0.0313\n",
      "              mis_lamp        342        404          0          0     0.0237    0.00884          0          0    0.00904    0.00257\n",
      "        met_dent_minor        212        238          1          0    0.00643    0.00193          1          0    0.00643    0.00193\n",
      "       met_dent_medium        246        276          1          0    0.00388    0.00108          1          0   0.000637   0.000172\n",
      "       met_dent_severe        245        287          1          0    0.00472    0.00162          1          0    0.00125   0.000267\n",
      "Speed: 0.8ms preprocess, 170.5ms inference, 0.0ms loss, 7.6ms postprocess per image\n",
      "Results saved to \u001B[1mModels/runs/train\u001B[0m\n",
      "Error fitting the model: name 'joblib' is not defined\n"
     ]
    },
    {
     "ename": "NameError",
     "evalue": "name 'joblib' is not defined",
     "output_type": "error",
     "traceback": [
      "\u001B[0;31m---------------------------------------------------------------------------\u001B[0m",
      "\u001B[0;31mNameError\u001B[0m                                 Traceback (most recent call last)",
      "Cell \u001B[0;32mIn[8], line 28\u001B[0m\n\u001B[1;32m     26\u001B[0m \u001B[38;5;28;01mexcept\u001B[39;00m \u001B[38;5;167;01mException\u001B[39;00m \u001B[38;5;28;01mas\u001B[39;00m e:\n\u001B[1;32m     27\u001B[0m     \u001B[38;5;28mprint\u001B[39m(\u001B[38;5;124m\"\u001B[39m\u001B[38;5;124mError fitting the model:\u001B[39m\u001B[38;5;124m\"\u001B[39m, e)\n\u001B[0;32m---> 28\u001B[0m     \u001B[38;5;28;01mraise\u001B[39;00m e\n",
      "Cell \u001B[0;32mIn[8], line 24\u001B[0m\n\u001B[1;32m     17\u001B[0m     yolo_model\u001B[38;5;241m.\u001B[39mtrain(data\u001B[38;5;241m=\u001B[39m\u001B[38;5;124m\"\u001B[39m\u001B[38;5;124m./Notebooks/data.yaml\u001B[39m\u001B[38;5;124m\"\u001B[39m, \n\u001B[1;32m     18\u001B[0m                      batch\u001B[38;5;241m=\u001B[39m\u001B[38;5;241m100\u001B[39m,\n\u001B[1;32m     19\u001B[0m                      epochs\u001B[38;5;241m=\u001B[39m\u001B[38;5;241m10\u001B[39m, \n\u001B[1;32m     20\u001B[0m                      optimizer\u001B[38;5;241m=\u001B[39m\u001B[38;5;124m'\u001B[39m\u001B[38;5;124mAdam\u001B[39m\u001B[38;5;124m'\u001B[39m, \n\u001B[1;32m     21\u001B[0m                      task\u001B[38;5;241m=\u001B[39m\u001B[38;5;124m'\u001B[39m\u001B[38;5;124msegment\u001B[39m\u001B[38;5;124m'\u001B[39m,\n\u001B[1;32m     22\u001B[0m                      project\u001B[38;5;241m=\u001B[39mruns_path)\n\u001B[1;32m     23\u001B[0m     \u001B[38;5;66;03m# Save the model\u001B[39;00m\n\u001B[0;32m---> 24\u001B[0m     \u001B[43mjoblib\u001B[49m\u001B[38;5;241m.\u001B[39mdump(yolo_model, model_path)\n\u001B[1;32m     25\u001B[0m     \u001B[38;5;28mprint\u001B[39m(\u001B[38;5;124mf\u001B[39m\u001B[38;5;124m\"\u001B[39m\u001B[38;5;124mModel saved to \u001B[39m\u001B[38;5;132;01m{\u001B[39;00mmodel_path\u001B[38;5;132;01m}\u001B[39;00m\u001B[38;5;124m\"\u001B[39m)\n\u001B[1;32m     26\u001B[0m \u001B[38;5;28;01mexcept\u001B[39;00m \u001B[38;5;167;01mException\u001B[39;00m \u001B[38;5;28;01mas\u001B[39;00m e:\n",
      "\u001B[0;31mNameError\u001B[0m: name 'joblib' is not defined"
     ]
    }
   ],
   "source": [
    "# Path to save/load the model\n",
    "model_path = \"./Models/yolo_model.pkl\"\n",
    "\n",
    "# Fit the GLM with Gamma family and log link if it is not saved\n",
    "if os.path.exists(model_path):\n",
    "    print(\"Loading existing model...\")\n",
    "    yolo_model = joblib.load(model_path)\n",
    "else:\n",
    "    print(\"Training new model...\")\n",
    "    try:\n",
    "        if not os.path.exists(weights_yolo_path):\n",
    "            os.makedirs(weights_yolo_path)\n",
    "        # Initialize the YOLO model with the specified weights\n",
    "        yolo_model = YOLO(os.path.join(weights_yolo_path, \"yolov8m-seg.pt\"))\n",
    "        \n",
    "        # Train the YOLO model\n",
    "        yolo_model.train(data=\"./Notebooks/data.yaml\", \n",
    "                         batch=100,\n",
    "                         epochs=10, \n",
    "                         optimizer='Adam', \n",
    "                         task='segment',\n",
    "                         project=runs_path)\n",
    "        # Save the model\n",
    "        joblib.dump(yolo_model, model_path)\n",
    "        print(f\"Model saved to {model_path}\")\n",
    "    except Exception as e:\n",
    "        print(\"Error fitting the model:\", e)\n",
    "        raise e"
   ]
  },
  {
   "cell_type": "code",
   "execution_count": null,
   "metadata": {},
   "outputs": [],
   "source": [
    "# joblib.dump(yolo_model, model_path)\n",
    "torch.save(yolo_model.state_dict(), model_path)"
   ]
  },
  {
   "cell_type": "markdown",
   "metadata": {},
   "source": []
  },
  {
   "cell_type": "code",
   "execution_count": 19,
   "metadata": {},
   "outputs": [
    {
     "name": "stdout",
     "output_type": "stream",
     "text": [
      "Ultralytics YOLOv8.2.69  Python-3.12.4 torch-2.3.1+cu118 CPU (12th Gen Intel Core(TM) i7-1255U)\n",
      "YOLOv8m-seg summary (fused): 245 layers, 27,227,595 parameters, 0 gradients, 110.0 GFLOPs\n"
     ]
    },
    {
     "name": "stderr",
     "output_type": "stream",
     "text": [
      "\u001B[34m\u001B[1mval: \u001B[0mScanning C:\\Users\\teres\\OneDrive\\Documentos\\UCD\\Summer\\project-danielteresa\\Data\\Yoloimages\\val_prueba\\labels.cache... 1997 images, 0 backgrounds, 3 corrupt: 100%|██████████| 2000/2000 [00:00<?, ?it/s]"
     ]
    },
    {
     "name": "stdout",
     "output_type": "stream",
     "text": [
      "\u001B[34m\u001B[1mval: \u001B[0mWARNING  C:\\Users\\teres\\OneDrive\\Documentos\\UCD\\Summer\\project-danielteresa\\Data\\Yoloimages\\val_prueba\\images\\02012020_082351image833616.jpg: ignoring corrupt image/label: image file is truncated (21 bytes not processed)\n",
      "\u001B[34m\u001B[1mval: \u001B[0mWARNING  C:\\Users\\teres\\OneDrive\\Documentos\\UCD\\Summer\\project-danielteresa\\Data\\Yoloimages\\val_prueba\\images\\13032020_144737image20659.jpg: ignoring corrupt image/label: image file is truncated (0 bytes not processed)\n",
      "\u001B[34m\u001B[1mval: \u001B[0mWARNING  C:\\Users\\teres\\OneDrive\\Documentos\\UCD\\Summer\\project-danielteresa\\Data\\Yoloimages\\val_prueba\\images\\28042020_081842image605326.jpg: ignoring corrupt image/label: image file is truncated (0 bytes not processed)\n"
     ]
    },
    {
     "name": "stderr",
     "output_type": "stream",
     "text": [
      "\n",
      "                 Class     Images  Instances      Box(P          R      mAP50  mAP50-95)     Mask(P          R      mAP50  mAP50-95): 100%|██████████| 125/125 [20:07<00:00,  9.66s/it]\n"
     ]
    },
    {
     "name": "stdout",
     "output_type": "stream",
     "text": [
      "                   all       1997       5111      0.428     0.0749     0.0516     0.0269      0.425     0.0693     0.0414      0.018\n",
      "              mis_lost        344        396      0.165      0.141     0.0714     0.0334       0.14      0.106     0.0536     0.0201\n",
      "              met_tear        568        797     0.0514     0.0402     0.0114    0.00351     0.0395     0.0276    0.00587    0.00156\n",
      "           met_scratch        955       2055     0.0386     0.0273     0.0102    0.00342     0.0355     0.0224    0.00547    0.00201\n",
      "           glass_crack        333        341      0.527      0.185      0.253      0.153      0.539      0.172      0.211     0.0971\n",
      "             mis_punct        244        321     0.0658       0.28     0.0792      0.034     0.0729      0.296     0.0803      0.036\n",
      "              mis_lamp        322        383          0          0     0.0257    0.00977          0          0     0.0098    0.00282\n",
      "        met_dent_minor        209        234          1          0      0.005     0.0015          1          0      0.005     0.0015\n",
      "       met_dent_medium        248        279          1          0    0.00354    0.00105          1          0   0.000617   0.000162\n",
      "       met_dent_severe        259        305          1          0    0.00524    0.00174          1          0    0.00139     0.0003\n",
      "Speed: 0.7ms preprocess, 553.9ms inference, 0.0ms loss, 10.1ms postprocess per image\n",
      "Results saved to \u001B[1mC:\\Users\\teres\\OneDrive\\Documentos\\UCD\\Summer\\project-danielteresa\\runs\\segment\\val5\u001B[0m\n"
     ]
    }
   ],
   "source": [
    "# Validation metrics\n",
    "yolo_model = YOLO(\"Models/runs/train/weights/best.pt\")\n",
    "metrics = yolo_model.val(save_dir = path_yolo)"
   ]
  },
  {
   "cell_type": "code",
   "execution_count": 28,
   "metadata": {},
   "outputs": [
    {
     "data": {
      "text/html": [
       "<style type=\"text/css\">\n",
       "#T_db2c4 thead th {\n",
       "  background-color: #62b6cb;\n",
       "  color: white;\n",
       "  text-align: center;\n",
       "}\n",
       "#T_db2c4 tbody td {\n",
       "  text-align: center;\n",
       "  border: 1px solid black;\n",
       "}\n",
       "#T_db2c4 tbody th {\n",
       "  background-color: #62b6cb;\n",
       "  color: white;\n",
       "  text-align: center;\n",
       "}\n",
       "#T_db2c4 table {\n",
       "  border-collapse: collapse;\n",
       "  width: 100%;\n",
       "}\n",
       "</style>\n",
       "<table id=\"T_db2c4\">\n",
       "  <caption>Class-wise mAP50, Precision, Recall, and F1 Score for Boxes and Segmentation</caption>\n",
       "  <thead>\n",
       "    <tr>\n",
       "      <th class=\"blank level0\" >&nbsp;</th>\n",
       "      <th id=\"T_db2c4_level0_col0\" class=\"col_heading level0 col0\" >Class Name</th>\n",
       "      <th id=\"T_db2c4_level0_col1\" class=\"col_heading level0 col1\" >Box mAP50</th>\n",
       "      <th id=\"T_db2c4_level0_col2\" class=\"col_heading level0 col2\" >Segmentation mAP50</th>\n",
       "      <th id=\"T_db2c4_level0_col3\" class=\"col_heading level0 col3\" >Box Precision</th>\n",
       "      <th id=\"T_db2c4_level0_col4\" class=\"col_heading level0 col4\" >Segmentation Precision</th>\n",
       "      <th id=\"T_db2c4_level0_col5\" class=\"col_heading level0 col5\" >Box Recall</th>\n",
       "      <th id=\"T_db2c4_level0_col6\" class=\"col_heading level0 col6\" >Segmentation Recall</th>\n",
       "      <th id=\"T_db2c4_level0_col7\" class=\"col_heading level0 col7\" >Box F1 Score</th>\n",
       "      <th id=\"T_db2c4_level0_col8\" class=\"col_heading level0 col8\" >Segmentation F1 Score</th>\n",
       "    </tr>\n",
       "  </thead>\n",
       "  <tbody>\n",
       "    <tr>\n",
       "      <th id=\"T_db2c4_level0_row0\" class=\"row_heading level0 row0\" >0</th>\n",
       "      <td id=\"T_db2c4_row0_col0\" class=\"data row0 col0\" >mis_lost</td>\n",
       "      <td id=\"T_db2c4_row0_col1\" class=\"data row0 col1\" >0.0334</td>\n",
       "      <td id=\"T_db2c4_row0_col2\" class=\"data row0 col2\" >0.0201</td>\n",
       "      <td id=\"T_db2c4_row0_col3\" class=\"data row0 col3\" >0.1652</td>\n",
       "      <td id=\"T_db2c4_row0_col4\" class=\"data row0 col4\" >0.1400</td>\n",
       "      <td id=\"T_db2c4_row0_col5\" class=\"data row0 col5\" >0.1414</td>\n",
       "      <td id=\"T_db2c4_row0_col6\" class=\"data row0 col6\" >0.1061</td>\n",
       "      <td id=\"T_db2c4_row0_col7\" class=\"data row0 col7\" >0.1524</td>\n",
       "      <td id=\"T_db2c4_row0_col8\" class=\"data row0 col8\" >0.1207</td>\n",
       "    </tr>\n",
       "    <tr>\n",
       "      <th id=\"T_db2c4_level0_row1\" class=\"row_heading level0 row1\" >1</th>\n",
       "      <td id=\"T_db2c4_row1_col0\" class=\"data row1 col0\" >met_tear</td>\n",
       "      <td id=\"T_db2c4_row1_col1\" class=\"data row1 col1\" >0.0035</td>\n",
       "      <td id=\"T_db2c4_row1_col2\" class=\"data row1 col2\" >0.0016</td>\n",
       "      <td id=\"T_db2c4_row1_col3\" class=\"data row1 col3\" >0.0514</td>\n",
       "      <td id=\"T_db2c4_row1_col4\" class=\"data row1 col4\" >0.0395</td>\n",
       "      <td id=\"T_db2c4_row1_col5\" class=\"data row1 col5\" >0.0402</td>\n",
       "      <td id=\"T_db2c4_row1_col6\" class=\"data row1 col6\" >0.0276</td>\n",
       "      <td id=\"T_db2c4_row1_col7\" class=\"data row1 col7\" >0.0451</td>\n",
       "      <td id=\"T_db2c4_row1_col8\" class=\"data row1 col8\" >0.0325</td>\n",
       "    </tr>\n",
       "    <tr>\n",
       "      <th id=\"T_db2c4_level0_row2\" class=\"row_heading level0 row2\" >2</th>\n",
       "      <td id=\"T_db2c4_row2_col0\" class=\"data row2 col0\" >met_scratch</td>\n",
       "      <td id=\"T_db2c4_row2_col1\" class=\"data row2 col1\" >0.0034</td>\n",
       "      <td id=\"T_db2c4_row2_col2\" class=\"data row2 col2\" >0.0020</td>\n",
       "      <td id=\"T_db2c4_row2_col3\" class=\"data row2 col3\" >0.0386</td>\n",
       "      <td id=\"T_db2c4_row2_col4\" class=\"data row2 col4\" >0.0355</td>\n",
       "      <td id=\"T_db2c4_row2_col5\" class=\"data row2 col5\" >0.0273</td>\n",
       "      <td id=\"T_db2c4_row2_col6\" class=\"data row2 col6\" >0.0224</td>\n",
       "      <td id=\"T_db2c4_row2_col7\" class=\"data row2 col7\" >0.0320</td>\n",
       "      <td id=\"T_db2c4_row2_col8\" class=\"data row2 col8\" >0.0275</td>\n",
       "    </tr>\n",
       "    <tr>\n",
       "      <th id=\"T_db2c4_level0_row3\" class=\"row_heading level0 row3\" >3</th>\n",
       "      <td id=\"T_db2c4_row3_col0\" class=\"data row3 col0\" >glass_crack</td>\n",
       "      <td id=\"T_db2c4_row3_col1\" class=\"data row3 col1\" >0.1534</td>\n",
       "      <td id=\"T_db2c4_row3_col2\" class=\"data row3 col2\" >0.0971</td>\n",
       "      <td id=\"T_db2c4_row3_col3\" class=\"data row3 col3\" >0.5270</td>\n",
       "      <td id=\"T_db2c4_row3_col4\" class=\"data row3 col4\" >0.5394</td>\n",
       "      <td id=\"T_db2c4_row3_col5\" class=\"data row3 col5\" >0.1848</td>\n",
       "      <td id=\"T_db2c4_row3_col6\" class=\"data row3 col6\" >0.1717</td>\n",
       "      <td id=\"T_db2c4_row3_col7\" class=\"data row3 col7\" >0.2736</td>\n",
       "      <td id=\"T_db2c4_row3_col8\" class=\"data row3 col8\" >0.2605</td>\n",
       "    </tr>\n",
       "    <tr>\n",
       "      <th id=\"T_db2c4_level0_row4\" class=\"row_heading level0 row4\" >4</th>\n",
       "      <td id=\"T_db2c4_row4_col0\" class=\"data row4 col0\" >mis_punct</td>\n",
       "      <td id=\"T_db2c4_row4_col1\" class=\"data row4 col1\" >0.0340</td>\n",
       "      <td id=\"T_db2c4_row4_col2\" class=\"data row4 col2\" >0.0360</td>\n",
       "      <td id=\"T_db2c4_row4_col3\" class=\"data row4 col3\" >0.0658</td>\n",
       "      <td id=\"T_db2c4_row4_col4\" class=\"data row4 col4\" >0.0729</td>\n",
       "      <td id=\"T_db2c4_row4_col5\" class=\"data row4 col5\" >0.2804</td>\n",
       "      <td id=\"T_db2c4_row4_col6\" class=\"data row4 col6\" >0.2960</td>\n",
       "      <td id=\"T_db2c4_row4_col7\" class=\"data row4 col7\" >0.1066</td>\n",
       "      <td id=\"T_db2c4_row4_col8\" class=\"data row4 col8\" >0.1170</td>\n",
       "    </tr>\n",
       "    <tr>\n",
       "      <th id=\"T_db2c4_level0_row5\" class=\"row_heading level0 row5\" >5</th>\n",
       "      <td id=\"T_db2c4_row5_col0\" class=\"data row5 col0\" >mis_lamp</td>\n",
       "      <td id=\"T_db2c4_row5_col1\" class=\"data row5 col1\" >0.0098</td>\n",
       "      <td id=\"T_db2c4_row5_col2\" class=\"data row5 col2\" >0.0028</td>\n",
       "      <td id=\"T_db2c4_row5_col3\" class=\"data row5 col3\" >0.0000</td>\n",
       "      <td id=\"T_db2c4_row5_col4\" class=\"data row5 col4\" >0.0000</td>\n",
       "      <td id=\"T_db2c4_row5_col5\" class=\"data row5 col5\" >0.0000</td>\n",
       "      <td id=\"T_db2c4_row5_col6\" class=\"data row5 col6\" >0.0000</td>\n",
       "      <td id=\"T_db2c4_row5_col7\" class=\"data row5 col7\" >0.0000</td>\n",
       "      <td id=\"T_db2c4_row5_col8\" class=\"data row5 col8\" >0.0000</td>\n",
       "    </tr>\n",
       "    <tr>\n",
       "      <th id=\"T_db2c4_level0_row6\" class=\"row_heading level0 row6\" >6</th>\n",
       "      <td id=\"T_db2c4_row6_col0\" class=\"data row6 col0\" >met_dent_minor</td>\n",
       "      <td id=\"T_db2c4_row6_col1\" class=\"data row6 col1\" >0.0015</td>\n",
       "      <td id=\"T_db2c4_row6_col2\" class=\"data row6 col2\" >0.0015</td>\n",
       "      <td id=\"T_db2c4_row6_col3\" class=\"data row6 col3\" >1.0000</td>\n",
       "      <td id=\"T_db2c4_row6_col4\" class=\"data row6 col4\" >1.0000</td>\n",
       "      <td id=\"T_db2c4_row6_col5\" class=\"data row6 col5\" >0.0000</td>\n",
       "      <td id=\"T_db2c4_row6_col6\" class=\"data row6 col6\" >0.0000</td>\n",
       "      <td id=\"T_db2c4_row6_col7\" class=\"data row6 col7\" >0.0000</td>\n",
       "      <td id=\"T_db2c4_row6_col8\" class=\"data row6 col8\" >0.0000</td>\n",
       "    </tr>\n",
       "    <tr>\n",
       "      <th id=\"T_db2c4_level0_row7\" class=\"row_heading level0 row7\" >7</th>\n",
       "      <td id=\"T_db2c4_row7_col0\" class=\"data row7 col0\" >met_dent_medium</td>\n",
       "      <td id=\"T_db2c4_row7_col1\" class=\"data row7 col1\" >0.0011</td>\n",
       "      <td id=\"T_db2c4_row7_col2\" class=\"data row7 col2\" >0.0002</td>\n",
       "      <td id=\"T_db2c4_row7_col3\" class=\"data row7 col3\" >1.0000</td>\n",
       "      <td id=\"T_db2c4_row7_col4\" class=\"data row7 col4\" >1.0000</td>\n",
       "      <td id=\"T_db2c4_row7_col5\" class=\"data row7 col5\" >0.0000</td>\n",
       "      <td id=\"T_db2c4_row7_col6\" class=\"data row7 col6\" >0.0000</td>\n",
       "      <td id=\"T_db2c4_row7_col7\" class=\"data row7 col7\" >0.0000</td>\n",
       "      <td id=\"T_db2c4_row7_col8\" class=\"data row7 col8\" >0.0000</td>\n",
       "    </tr>\n",
       "    <tr>\n",
       "      <th id=\"T_db2c4_level0_row8\" class=\"row_heading level0 row8\" >8</th>\n",
       "      <td id=\"T_db2c4_row8_col0\" class=\"data row8 col0\" >met_dent_severe</td>\n",
       "      <td id=\"T_db2c4_row8_col1\" class=\"data row8 col1\" >0.0017</td>\n",
       "      <td id=\"T_db2c4_row8_col2\" class=\"data row8 col2\" >0.0003</td>\n",
       "      <td id=\"T_db2c4_row8_col3\" class=\"data row8 col3\" >1.0000</td>\n",
       "      <td id=\"T_db2c4_row8_col4\" class=\"data row8 col4\" >1.0000</td>\n",
       "      <td id=\"T_db2c4_row8_col5\" class=\"data row8 col5\" >0.0000</td>\n",
       "      <td id=\"T_db2c4_row8_col6\" class=\"data row8 col6\" >0.0000</td>\n",
       "      <td id=\"T_db2c4_row8_col7\" class=\"data row8 col7\" >0.0000</td>\n",
       "      <td id=\"T_db2c4_row8_col8\" class=\"data row8 col8\" >0.0000</td>\n",
       "    </tr>\n",
       "  </tbody>\n",
       "</table>\n"
      ],
      "text/plain": [
       "<pandas.io.formats.style.Styler at 0x161c432dbe0>"
      ]
     },
     "metadata": {},
     "output_type": "display_data"
    },
    {
     "data": {
      "image/png": "[encoded data removed]",
      "text/plain": [
       "<Figure size 1600x600 with 4 Axes>"
      ]
     },
     "metadata": {},
     "output_type": "display_data"
    },
    {
     "data": {
      "image/png": "[encoded data removed]",
      "text/plain": [
       "<Figure size 1400x1600 with 8 Axes>"
      ]
     },
     "metadata": {},
     "output_type": "display_data"
    }
   ],
   "source": [
    "%matplotlib inline\n",
    "# Validate the model\n",
    "metrics_yolo(model = yolo_model,path_results_yolo = \"./Models/runs/train\", color1 = color1, color2 = color2)\n"
   ]
  },
  {
   "cell_type": "code",
   "execution_count": null,
   "metadata": {},
   "outputs": [],
   "source": [
    "space = {\n",
    "    'lr0': [0.001, 0.01],  # Initial learning rate\n",
    "}\n",
    "\n",
    "# Tune the model\n",
    "model.tune(space=space, data='./Notebooks/data.yaml')"
   ]
  },
  {
   "cell_type": "code",
   "execution_count": 17,
   "metadata": {},
   "outputs": [
    {
     "name": "stdout",
     "output_type": "stream",
     "text": [
      "\u001B[34m\u001B[1mTuner: \u001B[0mInitialized Tuner instance with 'tune_dir=C:\\Users\\teres\\OneDrive\\Documentos\\UCD\\Summer\\project-danielteresa\\runs\\segment\\tune9'\n",
      "\u001B[34m\u001B[1mTuner: \u001B[0m Learn about tuning at https://docs.ultralytics.com/guides/hyperparameter-tuning\n",
      "\u001B[34m\u001B[1mTuner: \u001B[0mStarting iteration 1/10 with hyperparameters: {'lr0': 0.01}\n"
     ]
    }
   ],
   "source": [
    "model.train(data=\"data.yaml\", epochs=100, optimizer='Adam', task='segment')\n",
    "\n",
    "# Path to save/load the model\n",
    "model_path = \"../Models/yolo_model.pkl\"\n",
    "\n",
    "# Fit the GLM with Gamma family and log link if it is not saved\n",
    "if os.path.exists(model_path):\n",
    "    print(\"Loading existing model...\")\n",
    "    yolo_model = joblib.load(model_path)\n",
    "else:\n",
    "    print(\"Training new model...\")\n",
    "    try:\n",
    "        yolo_model = model.train(data=\"data.yaml\", epochs=100, optimizer='Adam', task='segment')\n",
    "        gb_model.fit(X_train, y_train)\n",
    "        # Save the model\n",
    "        joblib.dump(gb_model, model_path)\n",
    "        print(f\"Model saved to {model_path}\")\n",
    "    except Exception as e:\n",
    "        print(\"Error fitting the model:\", e)\n",
    "        raise e"
   ]
  },
  {
   "cell_type": "code",
   "execution_count": 9,
   "metadata": {},
   "outputs": [
    {
     "name": "stdout",
     "output_type": "stream",
     "text": [
      "Requirement already satisfied: ultralytics in c:\\users\\teres\\onedrive\\documentos\\ucd\\summer\\project-danielteresa\\yolo_env\\lib\\site-packages (8.2.69)\n",
      "Requirement already satisfied: numpy<2.0.0,>=1.23.0 in c:\\users\\teres\\onedrive\\documentos\\ucd\\summer\\project-danielteresa\\yolo_env\\lib\\site-packages (from ultralytics) (1.26.4)\n",
      "Requirement already satisfied: matplotlib>=3.3.0 in c:\\users\\teres\\onedrive\\documentos\\ucd\\summer\\project-danielteresa\\yolo_env\\lib\\site-packages (from ultralytics) (3.9.0)\n",
      "Requirement already satisfied: opencv-python>=4.6.0 in c:\\users\\teres\\onedrive\\documentos\\ucd\\summer\\project-danielteresa\\yolo_env\\lib\\site-packages (from ultralytics) (4.10.0.82)\n",
      "Requirement already satisfied: pillow>=7.1.2 in c:\\users\\teres\\onedrive\\documentos\\ucd\\summer\\project-danielteresa\\yolo_env\\lib\\site-packages (from ultralytics) (10.3.0)\n",
      "Requirement already satisfied: pyyaml>=5.3.1 in c:\\users\\teres\\onedrive\\documentos\\ucd\\summer\\project-danielteresa\\yolo_env\\lib\\site-packages (from ultralytics) (6.0.1)\n",
      "Requirement already satisfied: requests>=2.23.0 in c:\\users\\teres\\onedrive\\documentos\\ucd\\summer\\project-danielteresa\\yolo_env\\lib\\site-packages (from ultralytics) (2.32.3)\n",
      "Requirement already satisfied: scipy>=1.4.1 in c:\\users\\teres\\onedrive\\documentos\\ucd\\summer\\project-danielteresa\\yolo_env\\lib\\site-packages (from ultralytics) (1.13.1)\n",
      "Requirement already satisfied: torch>=1.8.0 in c:\\users\\teres\\onedrive\\documentos\\ucd\\summer\\project-danielteresa\\yolo_env\\lib\\site-packages (from ultralytics) (2.3.1+cu118)\n",
      "Requirement already satisfied: torchvision>=0.9.0 in c:\\users\\teres\\onedrive\\documentos\\ucd\\summer\\project-danielteresa\\yolo_env\\lib\\site-packages (from ultralytics) (0.18.1)\n",
      "Requirement already satisfied: tqdm>=4.64.0 in c:\\users\\teres\\onedrive\\documentos\\ucd\\summer\\project-danielteresa\\yolo_env\\lib\\site-packages (from ultralytics) (4.66.4)\n",
      "Requirement already satisfied: psutil in c:\\users\\teres\\onedrive\\documentos\\ucd\\summer\\project-danielteresa\\yolo_env\\lib\\site-packages (from ultralytics) (5.9.8)\n",
      "Requirement already satisfied: py-cpuinfo in c:\\users\\teres\\onedrive\\documentos\\ucd\\summer\\project-danielteresa\\yolo_env\\lib\\site-packages (from ultralytics) (9.0.0)\n",
      "Requirement already satisfied: pandas>=1.1.4 in c:\\users\\teres\\onedrive\\documentos\\ucd\\summer\\project-danielteresa\\yolo_env\\lib\\site-packages (from ultralytics) (2.2.2)\n",
      "Requirement already satisfied: seaborn>=0.11.0 in c:\\users\\teres\\onedrive\\documentos\\ucd\\summer\\project-danielteresa\\yolo_env\\lib\\site-packages (from ultralytics) (0.13.2)\n",
      "Requirement already satisfied: ultralytics-thop>=2.0.0 in c:\\users\\teres\\onedrive\\documentos\\ucd\\summer\\project-danielteresa\\yolo_env\\lib\\site-packages (from ultralytics) (2.0.0)\n",
      "Requirement already satisfied: contourpy>=1.0.1 in c:\\users\\teres\\onedrive\\documentos\\ucd\\summer\\project-danielteresa\\yolo_env\\lib\\site-packages (from matplotlib>=3.3.0->ultralytics) (1.2.1)\n",
      "Requirement already satisfied: cycler>=0.10 in c:\\users\\teres\\onedrive\\documentos\\ucd\\summer\\project-danielteresa\\yolo_env\\lib\\site-packages (from matplotlib>=3.3.0->ultralytics) (0.12.1)\n",
      "Requirement already satisfied: fonttools>=4.22.0 in c:\\users\\teres\\onedrive\\documentos\\ucd\\summer\\project-danielteresa\\yolo_env\\lib\\site-packages (from matplotlib>=3.3.0->ultralytics) (4.53.0)\n",
      "Requirement already satisfied: kiwisolver>=1.3.1 in c:\\users\\teres\\onedrive\\documentos\\ucd\\summer\\project-danielteresa\\yolo_env\\lib\\site-packages (from matplotlib>=3.3.0->ultralytics) (1.4.5)\n",
      "Requirement already satisfied: packaging>=20.0 in c:\\users\\teres\\onedrive\\documentos\\ucd\\summer\\project-danielteresa\\yolo_env\\lib\\site-packages (from matplotlib>=3.3.0->ultralytics) (24.1)\n",
      "Requirement already satisfied: pyparsing>=2.3.1 in c:\\users\\teres\\onedrive\\documentos\\ucd\\summer\\project-danielteresa\\yolo_env\\lib\\site-packages (from matplotlib>=3.3.0->ultralytics) (3.1.2)\n",
      "Requirement already satisfied: python-dateutil>=2.7 in c:\\users\\teres\\onedrive\\documentos\\ucd\\summer\\project-danielteresa\\yolo_env\\lib\\site-packages (from matplotlib>=3.3.0->ultralytics) (2.9.0.post0)\n",
      "Requirement already satisfied: pytz>=2020.1 in c:\\users\\teres\\onedrive\\documentos\\ucd\\summer\\project-danielteresa\\yolo_env\\lib\\site-packages (from pandas>=1.1.4->ultralytics) (2024.1)\n",
      "Requirement already satisfied: tzdata>=2022.7 in c:\\users\\teres\\onedrive\\documentos\\ucd\\summer\\project-danielteresa\\yolo_env\\lib\\site-packages (from pandas>=1.1.4->ultralytics) (2024.1)\n",
      "Requirement already satisfied: charset-normalizer<4,>=2 in c:\\users\\teres\\onedrive\\documentos\\ucd\\summer\\project-danielteresa\\yolo_env\\lib\\site-packages (from requests>=2.23.0->ultralytics) (3.3.2)\n",
      "Requirement already satisfied: idna<4,>=2.5 in c:\\users\\teres\\onedrive\\documentos\\ucd\\summer\\project-danielteresa\\yolo_env\\lib\\site-packages (from requests>=2.23.0->ultralytics) (3.7)\n",
      "Requirement already satisfied: urllib3<3,>=1.21.1 in c:\\users\\teres\\onedrive\\documentos\\ucd\\summer\\project-danielteresa\\yolo_env\\lib\\site-packages (from requests>=2.23.0->ultralytics) (2.2.1)\n",
      "Requirement already satisfied: certifi>=2017.4.17 in c:\\users\\teres\\onedrive\\documentos\\ucd\\summer\\project-danielteresa\\yolo_env\\lib\\site-packages (from requests>=2.23.0->ultralytics) (2024.6.2)\n",
      "Requirement already satisfied: filelock in c:\\users\\teres\\onedrive\\documentos\\ucd\\summer\\project-danielteresa\\yolo_env\\lib\\site-packages (from torch>=1.8.0->ultralytics) (3.15.4)\n",
      "Requirement already satisfied: typing-extensions>=4.8.0 in c:\\users\\teres\\onedrive\\documentos\\ucd\\summer\\project-danielteresa\\yolo_env\\lib\\site-packages (from torch>=1.8.0->ultralytics) (4.12.2)\n",
      "Requirement already satisfied: sympy in c:\\users\\teres\\onedrive\\documentos\\ucd\\summer\\project-danielteresa\\yolo_env\\lib\\site-packages (from torch>=1.8.0->ultralytics) (1.13.0)\n",
      "Requirement already satisfied: networkx in c:\\users\\teres\\onedrive\\documentos\\ucd\\summer\\project-danielteresa\\yolo_env\\lib\\site-packages (from torch>=1.8.0->ultralytics) (3.3)\n",
      "Requirement already satisfied: jinja2 in c:\\users\\teres\\onedrive\\documentos\\ucd\\summer\\project-danielteresa\\yolo_env\\lib\\site-packages (from torch>=1.8.0->ultralytics) (3.1.4)\n",
      "Requirement already satisfied: fsspec in c:\\users\\teres\\onedrive\\documentos\\ucd\\summer\\project-danielteresa\\yolo_env\\lib\\site-packages (from torch>=1.8.0->ultralytics) (2024.6.1)\n",
      "Requirement already satisfied: mkl<=2021.4.0,>=2021.1.1 in c:\\users\\teres\\onedrive\\documentos\\ucd\\summer\\project-danielteresa\\yolo_env\\lib\\site-packages (from torch>=1.8.0->ultralytics) (2021.4.0)\n",
      "Requirement already satisfied: colorama in c:\\users\\teres\\onedrive\\documentos\\ucd\\summer\\project-danielteresa\\yolo_env\\lib\\site-packages (from tqdm>=4.64.0->ultralytics) (0.4.6)\n",
      "Requirement already satisfied: intel-openmp==2021.* in c:\\users\\teres\\onedrive\\documentos\\ucd\\summer\\project-danielteresa\\yolo_env\\lib\\site-packages (from mkl<=2021.4.0,>=2021.1.1->torch>=1.8.0->ultralytics) (2021.4.0)\n",
      "Requirement already satisfied: tbb==2021.* in c:\\users\\teres\\onedrive\\documentos\\ucd\\summer\\project-danielteresa\\yolo_env\\lib\\site-packages (from mkl<=2021.4.0,>=2021.1.1->torch>=1.8.0->ultralytics) (2021.13.0)\n",
      "Requirement already satisfied: six>=1.5 in c:\\users\\teres\\onedrive\\documentos\\ucd\\summer\\project-danielteresa\\yolo_env\\lib\\site-packages (from python-dateutil>=2.7->matplotlib>=3.3.0->ultralytics) (1.16.0)\n",
      "Requirement already satisfied: MarkupSafe>=2.0 in c:\\users\\teres\\onedrive\\documentos\\ucd\\summer\\project-danielteresa\\yolo_env\\lib\\site-packages (from jinja2->torch>=1.8.0->ultralytics) (2.1.5)\n",
      "Requirement already satisfied: mpmath<1.4,>=1.1.0 in c:\\users\\teres\\onedrive\\documentos\\ucd\\summer\\project-danielteresa\\yolo_env\\lib\\site-packages (from sympy->torch>=1.8.0->ultralytics) (1.3.0)\n"
     ]
    }
   ],
   "source": [
    "\n",
    "! pip install -U ultralytics"
   ]
  },
  {
   "cell_type": "code",
   "execution_count": 8,
   "metadata": {},
   "outputs": [
    {
     "name": "stdout",
     "output_type": "stream",
     "text": [
      "Requirement already satisfied: pip in c:\\users\\teres\\onedrive\\documentos\\ucd\\summer\\project-danielteresa\\yolo_env\\lib\\site-packages (24.0)\n",
      "Collecting pip\n",
      "  Downloading pip-24.2-py3-none-any.whl.metadata (3.6 kB)\n",
      "Downloading pip-24.2-py3-none-any.whl (1.8 MB)\n",
      "   ---------------------------------------- 0.0/1.8 MB ? eta -:--:--\n",
      "    --------------------------------------- 0.0/1.8 MB 660.6 kB/s eta 0:00:03\n",
      "   ---- ----------------------------------- 0.2/1.8 MB 2.0 MB/s eta 0:00:01\n",
      "   -------- ------------------------------- 0.4/1.8 MB 3.1 MB/s eta 0:00:01\n",
      "   ------------ --------------------------- 0.6/1.8 MB 3.0 MB/s eta 0:00:01\n",
      "   ---------------- ----------------------- 0.8/1.8 MB 3.2 MB/s eta 0:00:01\n",
      "   --------------------- ------------------ 1.0/1.8 MB 3.4 MB/s eta 0:00:01\n",
      "   ------------------------ --------------- 1.1/1.8 MB 3.3 MB/s eta 0:00:01\n",
      "   ------------------------------ --------- 1.4/1.8 MB 3.6 MB/s eta 0:00:01\n",
      "   ----------------------------------- ---- 1.6/1.8 MB 3.8 MB/s eta 0:00:01\n",
      "   ---------------------------------------  1.8/1.8 MB 3.9 MB/s eta 0:00:01\n",
      "   ---------------------------------------- 1.8/1.8 MB 3.9 MB/s eta 0:00:00\n",
      "Installing collected packages: pip\n",
      "  Attempting uninstall: pip\n",
      "    Found existing installation: pip 24.0\n",
      "    Uninstalling pip-24.0:\n",
      "      Successfully uninstalled pip-24.0\n",
      "Successfully installed pip-24.2\n"
     ]
    }
   ],
   "source": [
    "! python.exe -m pip install --upgrade pip"
   ]
  },
  {
   "cell_type": "code",
   "execution_count": 19,
   "metadata": {},
   "outputs": [
    {
     "name": "stdout",
     "output_type": "stream",
     "text": [
      "\n",
      "image 1/1 c:\\Users\\teres\\OneDrive\\Documentos\\UCD\\Summer\\project-danielteresa\\03bda226ad62553c0c73.jpg: 480x640 300 met_scratchs, 501.6ms\n",
      "Speed: 5.4ms preprocess, 501.6ms inference, 145.0ms postprocess per image at shape (1, 3, 480, 640)\n"
     ]
    }
   ],
   "source": [
    "results = model.predict(\"03bda226ad62553c0c73.jpg\")"
   ]
  },
  {
   "cell_type": "code",
   "execution_count": 34,
   "metadata": {},
   "outputs": [
    {
     "data": {
      "text/plain": [
       "ultralytics.engine.results.Masks object with attributes:\n",
       "\n",
       "data: tensor([[[0., 0., 0.,  ..., 0., 0., 0.],\n",
       "         [0., 0., 0.,  ..., 0., 0., 0.],\n",
       "         [0., 0., 0.,  ..., 0., 0., 0.],\n",
       "         ...,\n",
       "         [0., 0., 0.,  ..., 0., 0., 0.],\n",
       "         [0., 0., 0.,  ..., 0., 0., 0.],\n",
       "         [0., 0., 0.,  ..., 0., 0., 0.]],\n",
       "\n",
       "        [[0., 0., 0.,  ..., 0., 0., 0.],\n",
       "         [0., 0., 0.,  ..., 0., 0., 0.],\n",
       "         [0., 0., 0.,  ..., 0., 0., 0.],\n",
       "         ...,\n",
       "         [0., 0., 0.,  ..., 0., 0., 0.],\n",
       "         [0., 0., 0.,  ..., 0., 0., 0.],\n",
       "         [0., 0., 0.,  ..., 0., 0., 0.]],\n",
       "\n",
       "        [[0., 0., 0.,  ..., 0., 0., 0.],\n",
       "         [0., 0., 0.,  ..., 0., 0., 0.],\n",
       "         [0., 0., 0.,  ..., 0., 0., 0.],\n",
       "         ...,\n",
       "         [0., 0., 0.,  ..., 0., 0., 0.],\n",
       "         [0., 0., 0.,  ..., 0., 0., 0.],\n",
       "         [0., 0., 0.,  ..., 0., 0., 0.]],\n",
       "\n",
       "        ...,\n",
       "\n",
       "        [[0., 0., 0.,  ..., 0., 0., 0.],\n",
       "         [0., 0., 0.,  ..., 0., 0., 0.],\n",
       "         [0., 0., 0.,  ..., 0., 0., 0.],\n",
       "         ...,\n",
       "         [0., 0., 0.,  ..., 0., 0., 0.],\n",
       "         [0., 0., 0.,  ..., 0., 0., 0.],\n",
       "         [0., 0., 0.,  ..., 0., 0., 0.]],\n",
       "\n",
       "        [[0., 0., 0.,  ..., 0., 0., 0.],\n",
       "         [0., 0., 0.,  ..., 0., 0., 0.],\n",
       "         [0., 0., 0.,  ..., 0., 0., 0.],\n",
       "         ...,\n",
       "         [0., 0., 0.,  ..., 0., 0., 0.],\n",
       "         [0., 0., 0.,  ..., 0., 0., 0.],\n",
       "         [0., 0., 0.,  ..., 0., 0., 0.]],\n",
       "\n",
       "        [[0., 0., 0.,  ..., 0., 0., 0.],\n",
       "         [0., 0., 0.,  ..., 0., 0., 0.],\n",
       "         [0., 0., 0.,  ..., 0., 0., 0.],\n",
       "         ...,\n",
       "         [0., 0., 0.,  ..., 0., 0., 0.],\n",
       "         [0., 0., 0.,  ..., 0., 0., 0.],\n",
       "         [0., 0., 0.,  ..., 0., 0., 0.]]])\n",
       "orig_shape: (960, 1280)\n",
       "shape: torch.Size([132, 480, 640])\n",
       "xy: [array([], shape=(0, 2), dtype=float32), array([], shape=(0, 2), dtype=float32), array([], shape=(0, 2), dtype=float32), array([], shape=(0, 2), dtype=float32), array([], shape=(0, 2), dtype=float32), array([], shape=(0, 2), dtype=float32), array([], shape=(0, 2), dtype=float32), array([], shape=(0, 2), dtype=float32), array([], shape=(0, 2), dtype=float32), array([], shape=(0, 2), dtype=float32), array([], shape=(0, 2), dtype=float32), array([], shape=(0, 2), dtype=float32), array([], shape=(0, 2), dtype=float32), array([], shape=(0, 2), dtype=float32), array([], shape=(0, 2), dtype=float32), array([], shape=(0, 2), dtype=float32), array([], shape=(0, 2), dtype=float32), array([], shape=(0, 2), dtype=float32), array([], shape=(0, 2), dtype=float32), array([], shape=(0, 2), dtype=float32), array([], shape=(0, 2), dtype=float32), array([], shape=(0, 2), dtype=float32), array([], shape=(0, 2), dtype=float32), array([], shape=(0, 2), dtype=float32), array([], shape=(0, 2), dtype=float32), array([], shape=(0, 2), dtype=float32), array([], shape=(0, 2), dtype=float32), array([], shape=(0, 2), dtype=float32), array([], shape=(0, 2), dtype=float32), array([], shape=(0, 2), dtype=float32), array([], shape=(0, 2), dtype=float32), array([], shape=(0, 2), dtype=float32), array([], shape=(0, 2), dtype=float32), array([], shape=(0, 2), dtype=float32), array([], shape=(0, 2), dtype=float32), array([], shape=(0, 2), dtype=float32), array([], shape=(0, 2), dtype=float32), array([], shape=(0, 2), dtype=float32), array([], shape=(0, 2), dtype=float32), array([], shape=(0, 2), dtype=float32), array([], shape=(0, 2), dtype=float32), array([], shape=(0, 2), dtype=float32), array([], shape=(0, 2), dtype=float32), array([], shape=(0, 2), dtype=float32), array([], shape=(0, 2), dtype=float32), array([], shape=(0, 2), dtype=float32), array([], shape=(0, 2), dtype=float32), array([], shape=(0, 2), dtype=float32), array([], shape=(0, 2), dtype=float32), array([], shape=(0, 2), dtype=float32), array([], shape=(0, 2), dtype=float32), array([], shape=(0, 2), dtype=float32), array([], shape=(0, 2), dtype=float32), array([], shape=(0, 2), dtype=float32), array([], shape=(0, 2), dtype=float32), array([], shape=(0, 2), dtype=float32), array([], shape=(0, 2), dtype=float32), array([], shape=(0, 2), dtype=float32), array([], shape=(0, 2), dtype=float32), array([], shape=(0, 2), dtype=float32), array([], shape=(0, 2), dtype=float32), array([], shape=(0, 2), dtype=float32), array([], shape=(0, 2), dtype=float32), array([], shape=(0, 2), dtype=float32), array([], shape=(0, 2), dtype=float32), array([], shape=(0, 2), dtype=float32), array([], shape=(0, 2), dtype=float32), array([], shape=(0, 2), dtype=float32), array([], shape=(0, 2), dtype=float32), array([], shape=(0, 2), dtype=float32), array([], shape=(0, 2), dtype=float32), array([], shape=(0, 2), dtype=float32), array([], shape=(0, 2), dtype=float32), array([], shape=(0, 2), dtype=float32), array([], shape=(0, 2), dtype=float32), array([], shape=(0, 2), dtype=float32), array([], shape=(0, 2), dtype=float32), array([], shape=(0, 2), dtype=float32), array([], shape=(0, 2), dtype=float32), array([], shape=(0, 2), dtype=float32), array([], shape=(0, 2), dtype=float32), array([], shape=(0, 2), dtype=float32), array([], shape=(0, 2), dtype=float32), array([], shape=(0, 2), dtype=float32), array([], shape=(0, 2), dtype=float32), array([], shape=(0, 2), dtype=float32), array([], shape=(0, 2), dtype=float32), array([], shape=(0, 2), dtype=float32), array([], shape=(0, 2), dtype=float32), array([], shape=(0, 2), dtype=float32), array([], shape=(0, 2), dtype=float32), array([], shape=(0, 2), dtype=float32), array([], shape=(0, 2), dtype=float32), array([], shape=(0, 2), dtype=float32), array([], shape=(0, 2), dtype=float32), array([], shape=(0, 2), dtype=float32), array([], shape=(0, 2), dtype=float32), array([], shape=(0, 2), dtype=float32), array([], shape=(0, 2), dtype=float32), array([], shape=(0, 2), dtype=float32), array([], shape=(0, 2), dtype=float32), array([], shape=(0, 2), dtype=float32), array([], shape=(0, 2), dtype=float32), array([], shape=(0, 2), dtype=float32), array([], shape=(0, 2), dtype=float32), array([], shape=(0, 2), dtype=float32), array([], shape=(0, 2), dtype=float32), array([], shape=(0, 2), dtype=float32), array([], shape=(0, 2), dtype=float32), array([], shape=(0, 2), dtype=float32), array([], shape=(0, 2), dtype=float32), array([], shape=(0, 2), dtype=float32), array([], shape=(0, 2), dtype=float32), array([], shape=(0, 2), dtype=float32), array([], shape=(0, 2), dtype=float32), array([], shape=(0, 2), dtype=float32), array([], shape=(0, 2), dtype=float32), array([], shape=(0, 2), dtype=float32), array([], shape=(0, 2), dtype=float32), array([], shape=(0, 2), dtype=float32), array([], shape=(0, 2), dtype=float32), array([], shape=(0, 2), dtype=float32), array([], shape=(0, 2), dtype=float32), array([], shape=(0, 2), dtype=float32), array([], shape=(0, 2), dtype=float32), array([], shape=(0, 2), dtype=float32), array([], shape=(0, 2), dtype=float32), array([], shape=(0, 2), dtype=float32), array([], shape=(0, 2), dtype=float32), array([], shape=(0, 2), dtype=float32), array([], shape=(0, 2), dtype=float32), array([], shape=(0, 2), dtype=float32)]\n",
       "xyn: [array([], shape=(0, 2), dtype=float32), array([], shape=(0, 2), dtype=float32), array([], shape=(0, 2), dtype=float32), array([], shape=(0, 2), dtype=float32), array([], shape=(0, 2), dtype=float32), array([], shape=(0, 2), dtype=float32), array([], shape=(0, 2), dtype=float32), array([], shape=(0, 2), dtype=float32), array([], shape=(0, 2), dtype=float32), array([], shape=(0, 2), dtype=float32), array([], shape=(0, 2), dtype=float32), array([], shape=(0, 2), dtype=float32), array([], shape=(0, 2), dtype=float32), array([], shape=(0, 2), dtype=float32), array([], shape=(0, 2), dtype=float32), array([], shape=(0, 2), dtype=float32), array([], shape=(0, 2), dtype=float32), array([], shape=(0, 2), dtype=float32), array([], shape=(0, 2), dtype=float32), array([], shape=(0, 2), dtype=float32), array([], shape=(0, 2), dtype=float32), array([], shape=(0, 2), dtype=float32), array([], shape=(0, 2), dtype=float32), array([], shape=(0, 2), dtype=float32), array([], shape=(0, 2), dtype=float32), array([], shape=(0, 2), dtype=float32), array([], shape=(0, 2), dtype=float32), array([], shape=(0, 2), dtype=float32), array([], shape=(0, 2), dtype=float32), array([], shape=(0, 2), dtype=float32), array([], shape=(0, 2), dtype=float32), array([], shape=(0, 2), dtype=float32), array([], shape=(0, 2), dtype=float32), array([], shape=(0, 2), dtype=float32), array([], shape=(0, 2), dtype=float32), array([], shape=(0, 2), dtype=float32), array([], shape=(0, 2), dtype=float32), array([], shape=(0, 2), dtype=float32), array([], shape=(0, 2), dtype=float32), array([], shape=(0, 2), dtype=float32), array([], shape=(0, 2), dtype=float32), array([], shape=(0, 2), dtype=float32), array([], shape=(0, 2), dtype=float32), array([], shape=(0, 2), dtype=float32), array([], shape=(0, 2), dtype=float32), array([], shape=(0, 2), dtype=float32), array([], shape=(0, 2), dtype=float32), array([], shape=(0, 2), dtype=float32), array([], shape=(0, 2), dtype=float32), array([], shape=(0, 2), dtype=float32), array([], shape=(0, 2), dtype=float32), array([], shape=(0, 2), dtype=float32), array([], shape=(0, 2), dtype=float32), array([], shape=(0, 2), dtype=float32), array([], shape=(0, 2), dtype=float32), array([], shape=(0, 2), dtype=float32), array([], shape=(0, 2), dtype=float32), array([], shape=(0, 2), dtype=float32), array([], shape=(0, 2), dtype=float32), array([], shape=(0, 2), dtype=float32), array([], shape=(0, 2), dtype=float32), array([], shape=(0, 2), dtype=float32), array([], shape=(0, 2), dtype=float32), array([], shape=(0, 2), dtype=float32), array([], shape=(0, 2), dtype=float32), array([], shape=(0, 2), dtype=float32), array([], shape=(0, 2), dtype=float32), array([], shape=(0, 2), dtype=float32), array([], shape=(0, 2), dtype=float32), array([], shape=(0, 2), dtype=float32), array([], shape=(0, 2), dtype=float32), array([], shape=(0, 2), dtype=float32), array([], shape=(0, 2), dtype=float32), array([], shape=(0, 2), dtype=float32), array([], shape=(0, 2), dtype=float32), array([], shape=(0, 2), dtype=float32), array([], shape=(0, 2), dtype=float32), array([], shape=(0, 2), dtype=float32), array([], shape=(0, 2), dtype=float32), array([], shape=(0, 2), dtype=float32), array([], shape=(0, 2), dtype=float32), array([], shape=(0, 2), dtype=float32), array([], shape=(0, 2), dtype=float32), array([], shape=(0, 2), dtype=float32), array([], shape=(0, 2), dtype=float32), array([], shape=(0, 2), dtype=float32), array([], shape=(0, 2), dtype=float32), array([], shape=(0, 2), dtype=float32), array([], shape=(0, 2), dtype=float32), array([], shape=(0, 2), dtype=float32), array([], shape=(0, 2), dtype=float32), array([], shape=(0, 2), dtype=float32), array([], shape=(0, 2), dtype=float32), array([], shape=(0, 2), dtype=float32), array([], shape=(0, 2), dtype=float32), array([], shape=(0, 2), dtype=float32), array([], shape=(0, 2), dtype=float32), array([], shape=(0, 2), dtype=float32), array([], shape=(0, 2), dtype=float32), array([], shape=(0, 2), dtype=float32), array([], shape=(0, 2), dtype=float32), array([], shape=(0, 2), dtype=float32), array([], shape=(0, 2), dtype=float32), array([], shape=(0, 2), dtype=float32), array([], shape=(0, 2), dtype=float32), array([], shape=(0, 2), dtype=float32), array([], shape=(0, 2), dtype=float32), array([], shape=(0, 2), dtype=float32), array([], shape=(0, 2), dtype=float32), array([], shape=(0, 2), dtype=float32), array([], shape=(0, 2), dtype=float32), array([], shape=(0, 2), dtype=float32), array([], shape=(0, 2), dtype=float32), array([], shape=(0, 2), dtype=float32), array([], shape=(0, 2), dtype=float32), array([], shape=(0, 2), dtype=float32), array([], shape=(0, 2), dtype=float32), array([], shape=(0, 2), dtype=float32), array([], shape=(0, 2), dtype=float32), array([], shape=(0, 2), dtype=float32), array([], shape=(0, 2), dtype=float32), array([], shape=(0, 2), dtype=float32), array([], shape=(0, 2), dtype=float32), array([], shape=(0, 2), dtype=float32), array([], shape=(0, 2), dtype=float32), array([], shape=(0, 2), dtype=float32), array([], shape=(0, 2), dtype=float32), array([], shape=(0, 2), dtype=float32), array([], shape=(0, 2), dtype=float32), array([], shape=(0, 2), dtype=float32), array([], shape=(0, 2), dtype=float32), array([], shape=(0, 2), dtype=float32)]"
      ]
     },
     "execution_count": 34,
     "metadata": {},
     "output_type": "execute_result"
    }
   ],
   "source": [
    "results[0].masks"
   ]
  },
  {
   "cell_type": "code",
   "execution_count": 22,
   "metadata": {},
   "outputs": [
    {
     "name": "stdout",
     "output_type": "stream",
     "text": [
      "\n",
      "image 1/1 c:\\Users\\teres\\OneDrive\\Documentos\\UCD\\Summer\\project-danielteresa\\03bda226ad62553c0c73.jpg: 480x640 132 met_scratchs, 412.3ms\n",
      "Speed: 0.0ms preprocess, 412.3ms inference, 58.0ms postprocess per image at shape (1, 3, 480, 640)\n"
     ]
    },
    {
     "data": {
      "text/plain": [
       "<Figure size 640x480 with 1 Axes>"
      ]
     },
     "metadata": {},
     "output_type": "display_data"
    }
   ],
   "source": [
    "# Realizar predicciones\n",
    "results = model.predict(\"03bda226ad62553c0c73.jpg\", conf=0.9, iou=0.7)\n",
    "\n",
    "# Visualizar resultados\n",
    "for result in results:\n",
    "    img = result.plot(show=True, labels=True, masks=True, boxes=True)\n",
    "    plt.imshow(img)\n",
    "    plt.show()"
   ]
  }
 ],
 "metadata": {
  "kernelspec": {
   "display_name": "Python 3 (ipykernel)",
   "language": "python",
   "name": "python3"
  },
  "language_info": {
   "codemirror_mode": {
    "name": "ipython",
    "version": 3
   },
   "file_extension": ".py",
   "mimetype": "text/x-python",
   "name": "python",
   "nbconvert_exporter": "python",
   "pygments_lexer": "ipython3",
   "version": "3.12.4"
  }
 },
 "nbformat": 4,
 "nbformat_minor": 4
}
