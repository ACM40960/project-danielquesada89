{
 "cells": [
  {
   "cell_type": "markdown",
   "id": "2bb8d192-a107-4be3-9f89-959d30ef17d9",
   "metadata": {},
   "source": [
    "# <font color=\"#5fa8d3\"> Linux Requirement"
   ]
  },
  {
   "cell_type": "code",
   "execution_count": 1,
   "id": "20e5c64b-33d9-4994-a0d6-38348465b880",
   "metadata": {},
   "outputs": [
    {
     "name": "stdout",
     "output_type": "stream",
     "text": [
      "Changed directory to: /home/sagemaker-user/project-danielteresa\n"
     ]
    }
   ],
   "source": [
    "import os\n",
    "current_directory = os.getcwd()\n",
    "last_folder = os.path.basename(current_directory)\n",
    "    \n",
    "if last_folder != \"project-danielteresa\":\n",
    "    while last_folder != \"project-danielteresa\":\n",
    "        parent_directory = os.path.dirname(current_directory)\n",
    "        last_folder = os.path.basename(parent_directory)\n",
    "\n",
    "        os.chdir(parent_directory)\n",
    "        print(f\"Changed directory to: {parent_directory}\")\n",
    "else:\n",
    "    print(\"Already in the project root directory.\")"
   ]
  },
  {
   "cell_type": "code",
   "execution_count": null,
   "id": "5165a818-ca4e-442e-8799-748ba2dc6714",
   "metadata": {},
   "outputs": [],
   "source": [
    "! pip install -r requirements_linux.txt\n",
    "! pip install clodsa\n",
    "! pip install opencv-python\n",
    "! sudo apt-get install -y libgl1-mesa-glx\n",
    "! pip install ultralytics"
   ]
  },
  {
   "cell_type": "code",
   "execution_count": null,
   "id": "139285a8-62c4-4c86-be87-8f7131584a82",
   "metadata": {},
   "outputs": [],
   "source": []
  }
 ],
 "metadata": {
  "kernelspec": {
   "display_name": "Python 3 (ipykernel)",
   "language": "python",
   "name": "python3"
  },
  "language_info": {
   "codemirror_mode": {
    "name": "ipython",
    "version": 3
   },
   "file_extension": ".py",
   "mimetype": "text/x-python",
   "name": "python",
   "nbconvert_exporter": "python",
   "pygments_lexer": "ipython3",
   "version": "3.10.14"
  }
 },
 "nbformat": 4,
 "nbformat_minor": 5
}
